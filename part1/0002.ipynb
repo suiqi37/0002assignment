{
 "cells": [
  {
   "cell_type": "code",
   "execution_count": 41,
   "id": "1d4ba73c-92cf-4c92-aaec-c5139c5e281d",
   "metadata": {},
   "outputs": [],
   "source": [
    "import networkx as nx\n",
    "import matplotlib.pyplot as plt\n",
    "import pandas as pd\n",
    "import numpy as np"
   ]
  },
  {
   "cell_type": "markdown",
   "id": "13d715ac-bc24-4a72-a46b-407b1d0d7960",
   "metadata": {},
   "source": [
    "# London’s underground resilience"
   ]
  },
  {
   "cell_type": "markdown",
   "id": "bc747cfa-a2c6-45a3-90d1-e2408b923868",
   "metadata": {},
   "source": [
    "## Topological network"
   ]
  },
  {
   "cell_type": "markdown",
   "id": "76347cd2-2c0c-4466-8c7e-e63b0c1721e7",
   "metadata": {},
   "source": [
    "### Centrality measures"
   ]
  },
  {
   "cell_type": "code",
   "execution_count": 42,
   "id": "d75f6a7a-f263-4262-9a02-ca5f0b3d3be1",
   "metadata": {},
   "outputs": [
    {
     "data": {
      "text/html": [
       "<div>\n",
       "<style scoped>\n",
       "    .dataframe tbody tr th:only-of-type {\n",
       "        vertical-align: middle;\n",
       "    }\n",
       "\n",
       "    .dataframe tbody tr th {\n",
       "        vertical-align: top;\n",
       "    }\n",
       "\n",
       "    .dataframe thead th {\n",
       "        text-align: right;\n",
       "    }\n",
       "</style>\n",
       "<table border=\"1\" class=\"dataframe\">\n",
       "  <thead>\n",
       "    <tr style=\"text-align: right;\">\n",
       "      <th></th>\n",
       "      <th>station_origin</th>\n",
       "      <th>station_destination</th>\n",
       "      <th>flows</th>\n",
       "      <th>population</th>\n",
       "      <th>jobs</th>\n",
       "      <th>distance</th>\n",
       "    </tr>\n",
       "  </thead>\n",
       "  <tbody>\n",
       "    <tr>\n",
       "      <th>0</th>\n",
       "      <td>Abbey Road</td>\n",
       "      <td>Bank and Monument</td>\n",
       "      <td>0</td>\n",
       "      <td>599</td>\n",
       "      <td>78549</td>\n",
       "      <td>8131.525097</td>\n",
       "    </tr>\n",
       "    <tr>\n",
       "      <th>1</th>\n",
       "      <td>Abbey Road</td>\n",
       "      <td>Beckton</td>\n",
       "      <td>1</td>\n",
       "      <td>599</td>\n",
       "      <td>442</td>\n",
       "      <td>8510.121774</td>\n",
       "    </tr>\n",
       "    <tr>\n",
       "      <th>2</th>\n",
       "      <td>Abbey Road</td>\n",
       "      <td>Blackwall</td>\n",
       "      <td>3</td>\n",
       "      <td>599</td>\n",
       "      <td>665</td>\n",
       "      <td>3775.448872</td>\n",
       "    </tr>\n",
       "    <tr>\n",
       "      <th>3</th>\n",
       "      <td>Abbey Road</td>\n",
       "      <td>Canary Wharf</td>\n",
       "      <td>1</td>\n",
       "      <td>599</td>\n",
       "      <td>58772</td>\n",
       "      <td>5086.514220</td>\n",
       "    </tr>\n",
       "    <tr>\n",
       "      <th>4</th>\n",
       "      <td>Abbey Road</td>\n",
       "      <td>Canning Town</td>\n",
       "      <td>37</td>\n",
       "      <td>599</td>\n",
       "      <td>15428</td>\n",
       "      <td>2228.923167</td>\n",
       "    </tr>\n",
       "  </tbody>\n",
       "</table>\n",
       "</div>"
      ],
      "text/plain": [
       "  station_origin station_destination  flows  population   jobs     distance\n",
       "0     Abbey Road   Bank and Monument      0         599  78549  8131.525097\n",
       "1     Abbey Road             Beckton      1         599    442  8510.121774\n",
       "2     Abbey Road           Blackwall      3         599    665  3775.448872\n",
       "3     Abbey Road        Canary Wharf      1         599  58772  5086.514220\n",
       "4     Abbey Road        Canning Town     37         599  15428  2228.923167"
      ]
     },
     "execution_count": 42,
     "metadata": {},
     "output_type": "execute_result"
    }
   ],
   "source": [
    "london_flows = pd.read_csv(\"london_flows.csv\")\n",
    "london_flows = london_flows.drop(london_flows[london_flows['station_origin'] == 'Battersea Park'].index)\n",
    "london_flows = london_flows.drop(london_flows[london_flows['station_destination'] == 'Battersea Park'].index)\n",
    "london_flows.head()"
   ]
  },
  {
   "cell_type": "code",
   "execution_count": 3,
   "id": "6c38cc06-9867-4864-9c12-057d4253afba",
   "metadata": {},
   "outputs": [
    {
     "data": {
      "text/plain": [
       "[('Abbey Road', 'Bank and Monument', {}),\n",
       " ('Abbey Road', 'Beckton', {}),\n",
       " ('Abbey Road', 'Blackwall', {}),\n",
       " ('Abbey Road', 'Canary Wharf', {}),\n",
       " ('Abbey Road', 'Canning Town', {}),\n",
       " ('Abbey Road', 'Crossharbour', {}),\n",
       " ('Abbey Road', 'Custom House', {}),\n",
       " ('Abbey Road', 'Cutty Sark', {}),\n",
       " ('Abbey Road', 'Cyprus', {}),\n",
       " ('Abbey Road', 'Devons Road', {})]"
      ]
     },
     "execution_count": 3,
     "metadata": {},
     "output_type": "execute_result"
    }
   ],
   "source": [
    "london_network = nx.from_pandas_edgelist(london_flows, 'station_origin', 'station_destination')\n",
    "list(london_network.edges(data = True))[0:10]"
   ]
  },
  {
   "cell_type": "code",
   "execution_count": 4,
   "id": "0e87fc04-8421-4442-966e-0b04248b2c59",
   "metadata": {},
   "outputs": [
    {
     "data": {
      "text/plain": [
       "[('Abbey Road', {}),\n",
       " ('Bank and Monument', {}),\n",
       " ('Beckton', {}),\n",
       " ('Blackwall', {}),\n",
       " ('Canary Wharf', {}),\n",
       " ('Canning Town', {}),\n",
       " ('Crossharbour', {}),\n",
       " ('Custom House', {}),\n",
       " ('Cutty Sark', {}),\n",
       " ('Cyprus', {})]"
      ]
     },
     "execution_count": 4,
     "metadata": {},
     "output_type": "execute_result"
    }
   ],
   "source": [
    "list(london_network.nodes(data = True))[0:10]"
   ]
  },
  {
   "cell_type": "markdown",
   "id": "82ba1529-13f5-4980-bdc0-bde744c6d80b",
   "metadata": {},
   "source": [
    "#### （Degree centrality）"
   ]
  },
  {
   "cell_type": "code",
   "execution_count": 5,
   "id": "194b0b85-ceeb-4fbb-9560-c0d214e11e80",
   "metadata": {},
   "outputs": [
    {
     "data": {
      "text/plain": [
       "[('Abbey Road', 34),\n",
       " ('Bank and Monument', 305),\n",
       " ('Beckton', 43),\n",
       " ('Blackwall', 40),\n",
       " ('Canary Wharf', 307),\n",
       " ('Canning Town', 304),\n",
       " ('Crossharbour', 42),\n",
       " ('Custom House', 44),\n",
       " ('Cutty Sark', 44),\n",
       " ('Cyprus', 42)]"
      ]
     },
     "execution_count": 5,
     "metadata": {},
     "output_type": "execute_result"
    }
   ],
   "source": [
    "deg_london=nx.degree(london_network)\n",
    "# Print degree as list: \n",
    "list(deg_london)[0:10]"
   ]
  },
  {
   "cell_type": "code",
   "execution_count": 6,
   "id": "50bc0b30-bad9-41ba-82c9-ff2fcea3b0e9",
   "metadata": {},
   "outputs": [],
   "source": [
    "# calculate the normalised version of degree centrality using networkx function\n",
    "deg_london_norm =nx.degree_centrality(london_network)\n",
    "nx.set_node_attributes(london_network,dict(deg_london_norm),'degree_norm')"
   ]
  },
  {
   "cell_type": "code",
   "execution_count": 7,
   "id": "5c930807-d707-43a6-b4c5-e1f959bc7fd0",
   "metadata": {},
   "outputs": [],
   "source": [
    "deg_london_norm_df=pd.DataFrame.from_dict(deg_london_norm,columns=['degree_norm'],orient='index')"
   ]
  },
  {
   "cell_type": "code",
   "execution_count": 8,
   "id": "524c3ccf-4ea4-47ff-b371-df956f7d95d6",
   "metadata": {},
   "outputs": [
    {
     "data": {
      "text/html": [
       "<div>\n",
       "<style scoped>\n",
       "    .dataframe tbody tr th:only-of-type {\n",
       "        vertical-align: middle;\n",
       "    }\n",
       "\n",
       "    .dataframe tbody tr th {\n",
       "        vertical-align: top;\n",
       "    }\n",
       "\n",
       "    .dataframe thead th {\n",
       "        text-align: right;\n",
       "    }\n",
       "</style>\n",
       "<table border=\"1\" class=\"dataframe\">\n",
       "  <thead>\n",
       "    <tr style=\"text-align: right;\">\n",
       "      <th></th>\n",
       "      <th>degree_norm</th>\n",
       "    </tr>\n",
       "  </thead>\n",
       "  <tbody>\n",
       "    <tr>\n",
       "      <th>Stratford</th>\n",
       "      <td>0.924433</td>\n",
       "    </tr>\n",
       "    <tr>\n",
       "      <th>Highbury &amp; Islington</th>\n",
       "      <td>0.808564</td>\n",
       "    </tr>\n",
       "    <tr>\n",
       "      <th>Whitechapel</th>\n",
       "      <td>0.780856</td>\n",
       "    </tr>\n",
       "    <tr>\n",
       "      <th>West Brompton</th>\n",
       "      <td>0.778338</td>\n",
       "    </tr>\n",
       "    <tr>\n",
       "      <th>Canary Wharf</th>\n",
       "      <td>0.773300</td>\n",
       "    </tr>\n",
       "    <tr>\n",
       "      <th>Liverpool Street</th>\n",
       "      <td>0.770781</td>\n",
       "    </tr>\n",
       "    <tr>\n",
       "      <th>Canada Water</th>\n",
       "      <td>0.770781</td>\n",
       "    </tr>\n",
       "    <tr>\n",
       "      <th>Bank and Monument</th>\n",
       "      <td>0.768262</td>\n",
       "    </tr>\n",
       "    <tr>\n",
       "      <th>Richmond</th>\n",
       "      <td>0.768262</td>\n",
       "    </tr>\n",
       "    <tr>\n",
       "      <th>Canning Town</th>\n",
       "      <td>0.765743</td>\n",
       "    </tr>\n",
       "  </tbody>\n",
       "</table>\n",
       "</div>"
      ],
      "text/plain": [
       "                      degree_norm\n",
       "Stratford                0.924433\n",
       "Highbury & Islington     0.808564\n",
       "Whitechapel              0.780856\n",
       "West Brompton            0.778338\n",
       "Canary Wharf             0.773300\n",
       "Liverpool Street         0.770781\n",
       "Canada Water             0.770781\n",
       "Bank and Monument        0.768262\n",
       "Richmond                 0.768262\n",
       "Canning Town             0.765743"
      ]
     },
     "execution_count": 8,
     "metadata": {},
     "output_type": "execute_result"
    }
   ],
   "source": [
    "deg_london_norm_df_sorted = deg_london_norm_df.sort_values(by='degree_norm', ascending=False)\n",
    "deg_london_norm_df_sorted[0:10]"
   ]
  },
  {
   "cell_type": "markdown",
   "id": "7f62569f-7dde-4efc-8133-5339522a61de",
   "metadata": {},
   "source": [
    "#### closeness centrality"
   ]
  },
  {
   "cell_type": "code",
   "execution_count": 9,
   "id": "d6c78dce-d825-4638-acce-f1444f6b10b4",
   "metadata": {},
   "outputs": [],
   "source": [
    "# topological closeness\n",
    "clos_top_london=nx.closeness_centrality(london_network)\n",
    "\n",
    "# add the closeness centrality as attribute to the nodes in the graph\n",
    "nx.set_node_attributes(london_network,clos_top_london,'closeness_top')\n",
    "\n",
    "clos_top_london_df=pd.DataFrame.from_dict(clos_top_london,columns=['closeness_top'],orient='index')"
   ]
  },
  {
   "cell_type": "code",
   "execution_count": 10,
   "id": "ed69cadd-a8b3-4625-bb83-dee9c81a596c",
   "metadata": {},
   "outputs": [
    {
     "data": {
      "text/html": [
       "<div>\n",
       "<style scoped>\n",
       "    .dataframe tbody tr th:only-of-type {\n",
       "        vertical-align: middle;\n",
       "    }\n",
       "\n",
       "    .dataframe tbody tr th {\n",
       "        vertical-align: top;\n",
       "    }\n",
       "\n",
       "    .dataframe thead th {\n",
       "        text-align: right;\n",
       "    }\n",
       "</style>\n",
       "<table border=\"1\" class=\"dataframe\">\n",
       "  <thead>\n",
       "    <tr style=\"text-align: right;\">\n",
       "      <th></th>\n",
       "      <th>closeness_top</th>\n",
       "    </tr>\n",
       "  </thead>\n",
       "  <tbody>\n",
       "    <tr>\n",
       "      <th>Stratford</th>\n",
       "      <td>0.929742</td>\n",
       "    </tr>\n",
       "    <tr>\n",
       "      <th>Highbury &amp; Islington</th>\n",
       "      <td>0.837553</td>\n",
       "    </tr>\n",
       "    <tr>\n",
       "      <th>Whitechapel</th>\n",
       "      <td>0.820248</td>\n",
       "    </tr>\n",
       "    <tr>\n",
       "      <th>West Brompton</th>\n",
       "      <td>0.818557</td>\n",
       "    </tr>\n",
       "    <tr>\n",
       "      <th>Canada Water</th>\n",
       "      <td>0.813525</td>\n",
       "    </tr>\n",
       "    <tr>\n",
       "      <th>Richmond</th>\n",
       "      <td>0.811861</td>\n",
       "    </tr>\n",
       "    <tr>\n",
       "      <th>Canary Wharf</th>\n",
       "      <td>0.811861</td>\n",
       "    </tr>\n",
       "    <tr>\n",
       "      <th>Bank and Monument</th>\n",
       "      <td>0.811861</td>\n",
       "    </tr>\n",
       "    <tr>\n",
       "      <th>Canning Town</th>\n",
       "      <td>0.810204</td>\n",
       "    </tr>\n",
       "    <tr>\n",
       "      <th>Liverpool Street</th>\n",
       "      <td>0.810204</td>\n",
       "    </tr>\n",
       "  </tbody>\n",
       "</table>\n",
       "</div>"
      ],
      "text/plain": [
       "                      closeness_top\n",
       "Stratford                  0.929742\n",
       "Highbury & Islington       0.837553\n",
       "Whitechapel                0.820248\n",
       "West Brompton              0.818557\n",
       "Canada Water               0.813525\n",
       "Richmond                   0.811861\n",
       "Canary Wharf               0.811861\n",
       "Bank and Monument          0.811861\n",
       "Canning Town               0.810204\n",
       "Liverpool Street           0.810204"
      ]
     },
     "execution_count": 10,
     "metadata": {},
     "output_type": "execute_result"
    }
   ],
   "source": [
    "clos_top_london_df_sorted = clos_top_london_df.sort_values(by='closeness_top', ascending=False)\n",
    "clos_top_london_df_sorted[0:10]"
   ]
  },
  {
   "cell_type": "markdown",
   "id": "ec6c5465-5738-4482-9621-3fc67fddabf2",
   "metadata": {},
   "source": [
    "#### betweenness centrality"
   ]
  },
  {
   "cell_type": "code",
   "execution_count": 11,
   "id": "3a86a0ea-157b-46d2-a1f9-3d1322c6c3be",
   "metadata": {},
   "outputs": [],
   "source": [
    "bet_london_top=nx.betweenness_centrality(london_network,normalized=False)"
   ]
  },
  {
   "cell_type": "code",
   "execution_count": 12,
   "id": "d2166f9d-c5f3-4885-8816-3ac34f9b8272",
   "metadata": {},
   "outputs": [],
   "source": [
    "nx.set_node_attributes(london_network,bet_london_top,'betweenness_top')"
   ]
  },
  {
   "cell_type": "code",
   "execution_count": 13,
   "id": "b77ca029-2ef5-430a-8618-08ade4bd7f9b",
   "metadata": {},
   "outputs": [],
   "source": [
    "bet_top_london_df=pd.DataFrame.from_dict(bet_london_top,columns=['betweenness_top'],orient='index')"
   ]
  },
  {
   "cell_type": "code",
   "execution_count": 14,
   "id": "f1956874-d95e-4e35-b1dc-4ab27688e20c",
   "metadata": {},
   "outputs": [
    {
     "data": {
      "text/html": [
       "<div>\n",
       "<style scoped>\n",
       "    .dataframe tbody tr th:only-of-type {\n",
       "        vertical-align: middle;\n",
       "    }\n",
       "\n",
       "    .dataframe tbody tr th {\n",
       "        vertical-align: top;\n",
       "    }\n",
       "\n",
       "    .dataframe thead th {\n",
       "        text-align: right;\n",
       "    }\n",
       "</style>\n",
       "<table border=\"1\" class=\"dataframe\">\n",
       "  <thead>\n",
       "    <tr style=\"text-align: right;\">\n",
       "      <th></th>\n",
       "      <th>betweenness_top</th>\n",
       "    </tr>\n",
       "  </thead>\n",
       "  <tbody>\n",
       "    <tr>\n",
       "      <th>Stratford</th>\n",
       "      <td>7776.841995</td>\n",
       "    </tr>\n",
       "    <tr>\n",
       "      <th>Liverpool Street</th>\n",
       "      <td>2707.289818</td>\n",
       "    </tr>\n",
       "    <tr>\n",
       "      <th>Canary Wharf</th>\n",
       "      <td>2208.627931</td>\n",
       "    </tr>\n",
       "    <tr>\n",
       "      <th>Bank and Monument</th>\n",
       "      <td>2208.627931</td>\n",
       "    </tr>\n",
       "    <tr>\n",
       "      <th>Canning Town</th>\n",
       "      <td>2192.848026</td>\n",
       "    </tr>\n",
       "    <tr>\n",
       "      <th>West Ham</th>\n",
       "      <td>1939.641831</td>\n",
       "    </tr>\n",
       "    <tr>\n",
       "      <th>Highbury &amp; Islington</th>\n",
       "      <td>1818.549454</td>\n",
       "    </tr>\n",
       "    <tr>\n",
       "      <th>Whitechapel</th>\n",
       "      <td>1426.939814</td>\n",
       "    </tr>\n",
       "    <tr>\n",
       "      <th>Shadwell</th>\n",
       "      <td>1304.955035</td>\n",
       "    </tr>\n",
       "    <tr>\n",
       "      <th>Canada Water</th>\n",
       "      <td>1285.264482</td>\n",
       "    </tr>\n",
       "  </tbody>\n",
       "</table>\n",
       "</div>"
      ],
      "text/plain": [
       "                      betweenness_top\n",
       "Stratford                 7776.841995\n",
       "Liverpool Street          2707.289818\n",
       "Canary Wharf              2208.627931\n",
       "Bank and Monument         2208.627931\n",
       "Canning Town              2192.848026\n",
       "West Ham                  1939.641831\n",
       "Highbury & Islington      1818.549454\n",
       "Whitechapel               1426.939814\n",
       "Shadwell                  1304.955035\n",
       "Canada Water              1285.264482"
      ]
     },
     "execution_count": 14,
     "metadata": {},
     "output_type": "execute_result"
    }
   ],
   "source": [
    "bet_top_london_df_sorted = bet_top_london_df.sort_values(by='betweenness_top', ascending=False)\n",
    "bet_top_london_df_sorted[0:10]"
   ]
  },
  {
   "cell_type": "markdown",
   "id": "1248192a-f62e-4166-9570-5a3d9800ea82",
   "metadata": {},
   "source": [
    "#### infornation centrality"
   ]
  },
  {
   "cell_type": "code",
   "execution_count": 16,
   "id": "c758b8c8-ef5e-4b3e-a960-302bdb5c55bb",
   "metadata": {},
   "outputs": [
    {
     "name": "stderr",
     "output_type": "stream",
     "text": [
      "<class 'networkx.utils.decorators.argmap'> compilation 24:4: FutureWarning: laplacian_matrix will return a scipy.sparse array instead of a matrix in Networkx 3.0.\n"
     ]
    }
   ],
   "source": [
    "inf_london_top=nx.information_centrality(london_network)"
   ]
  },
  {
   "cell_type": "code",
   "execution_count": 17,
   "id": "8a61db81-cd50-404e-9413-14f2a09047d3",
   "metadata": {},
   "outputs": [],
   "source": [
    "nx.set_node_attributes(london_network,inf_london_top,'information_top')"
   ]
  },
  {
   "cell_type": "code",
   "execution_count": 18,
   "id": "9ac341a1-5a76-4c7a-b732-98e0347b8bb4",
   "metadata": {},
   "outputs": [],
   "source": [
    "inf_london_top_df=pd.DataFrame.from_dict(inf_london_top,columns=['information_top'],orient='index')"
   ]
  },
  {
   "cell_type": "code",
   "execution_count": 19,
   "id": "810b6dd3-31f0-4124-a444-fe278916f5b0",
   "metadata": {},
   "outputs": [
    {
     "data": {
      "text/html": [
       "<div>\n",
       "<style scoped>\n",
       "    .dataframe tbody tr th:only-of-type {\n",
       "        vertical-align: middle;\n",
       "    }\n",
       "\n",
       "    .dataframe tbody tr th {\n",
       "        vertical-align: top;\n",
       "    }\n",
       "\n",
       "    .dataframe thead th {\n",
       "        text-align: right;\n",
       "    }\n",
       "</style>\n",
       "<table border=\"1\" class=\"dataframe\">\n",
       "  <thead>\n",
       "    <tr style=\"text-align: right;\">\n",
       "      <th></th>\n",
       "      <th>information_top</th>\n",
       "    </tr>\n",
       "  </thead>\n",
       "  <tbody>\n",
       "    <tr>\n",
       "      <th>Stratford</th>\n",
       "      <td>0.138150</td>\n",
       "    </tr>\n",
       "    <tr>\n",
       "      <th>Highbury &amp; Islington</th>\n",
       "      <td>0.134623</td>\n",
       "    </tr>\n",
       "    <tr>\n",
       "      <th>Whitechapel</th>\n",
       "      <td>0.133793</td>\n",
       "    </tr>\n",
       "    <tr>\n",
       "      <th>West Brompton</th>\n",
       "      <td>0.133738</td>\n",
       "    </tr>\n",
       "    <tr>\n",
       "      <th>Liverpool Street</th>\n",
       "      <td>0.133530</td>\n",
       "    </tr>\n",
       "    <tr>\n",
       "      <th>Bank and Monument</th>\n",
       "      <td>0.133518</td>\n",
       "    </tr>\n",
       "    <tr>\n",
       "      <th>Canary Wharf</th>\n",
       "      <td>0.133518</td>\n",
       "    </tr>\n",
       "    <tr>\n",
       "      <th>Canada Water</th>\n",
       "      <td>0.133466</td>\n",
       "    </tr>\n",
       "    <tr>\n",
       "      <th>Canning Town</th>\n",
       "      <td>0.133439</td>\n",
       "    </tr>\n",
       "    <tr>\n",
       "      <th>Richmond</th>\n",
       "      <td>0.133437</td>\n",
       "    </tr>\n",
       "  </tbody>\n",
       "</table>\n",
       "</div>"
      ],
      "text/plain": [
       "                      information_top\n",
       "Stratford                    0.138150\n",
       "Highbury & Islington         0.134623\n",
       "Whitechapel                  0.133793\n",
       "West Brompton                0.133738\n",
       "Liverpool Street             0.133530\n",
       "Bank and Monument            0.133518\n",
       "Canary Wharf                 0.133518\n",
       "Canada Water                 0.133466\n",
       "Canning Town                 0.133439\n",
       "Richmond                     0.133437"
      ]
     },
     "execution_count": 19,
     "metadata": {},
     "output_type": "execute_result"
    }
   ],
   "source": [
    "inf_london_top_df_sorted = inf_london_top_df.sort_values(by='information_top', ascending=False)\n",
    "inf_london_top_df_sorted[0:10]"
   ]
  },
  {
   "cell_type": "markdown",
   "id": "c5d6b93f-18de-4439-b793-476355355f97",
   "metadata": {},
   "source": [
    "### Impact measures"
   ]
  },
  {
   "cell_type": "code",
   "execution_count": 20,
   "id": "8ce03dfb-2b40-4ae5-9d54-49894551bd00",
   "metadata": {},
   "outputs": [
    {
     "name": "stdout",
     "output_type": "stream",
     "text": [
      "Number of connected components:1\n",
      "Highest degree node: ('Stratford', 367)\n"
     ]
    }
   ],
   "source": [
    "print(f'Number of connected components:{nx.number_connected_components(london_network)}')\n",
    "print(f'Highest degree node: {sorted(london_network.degree(), key=lambda pair: pair[1])[-1]}')"
   ]
  },
  {
   "cell_type": "markdown",
   "id": "0fd17d11-f477-4dac-a374-0c6729c6e182",
   "metadata": {},
   "source": [
    "#### degree distribution"
   ]
  },
  {
   "cell_type": "code",
   "execution_count": 21,
   "id": "8f9e98e9-5314-4d56-b703-52e18e85a1d3",
   "metadata": {},
   "outputs": [
    {
     "name": "stderr",
     "output_type": "stream",
     "text": [
      "/tmp/ipykernel_21005/3890569710.py:6: UserWarning: color is redundantly defined by the 'color' keyword argument and the fmt string \"b.\" (-> color='b'). The keyword argument will take precedence.\n",
      "  ax.loglog(np.arange(degree_prob.shape[0]),degree_prob,'b.', color='darkred', markersize=2)\n"
     ]
    },
    {
     "data": {
      "image/png": "[encoded data removed]",
      "text/plain": [
       "<Figure size 864x504 with 1 Axes>"
      ]
     },
     "metadata": {
      "needs_background": "light"
     },
     "output_type": "display_data"
    }
   ],
   "source": [
    "degree_hist = nx.degree_histogram(london_network) \n",
    "degree_hist = np.array(degree_hist, dtype=float)\n",
    "degree_prob = degree_hist/london_network.number_of_nodes()\n",
    "\n",
    "fig, ax = plt.subplots(figsize=(12,7))\n",
    "ax.loglog(np.arange(degree_prob.shape[0]),degree_prob,'b.', color='darkred', markersize=2)\n",
    "ax.set_xlabel('k')\n",
    "ax.set_ylabel('p(k)')\n",
    "ax.set_title('Degree Distribution')\n",
    "\n",
    "\n",
    "plt.show()"
   ]
  },
  {
   "cell_type": "markdown",
   "id": "6b1ec7cb-c91a-43c6-b06d-4495b91595a9",
   "metadata": {},
   "source": [
    "#### （clustering coefficients）"
   ]
  },
  {
   "cell_type": "code",
   "execution_count": 22,
   "id": "edaae424-2a45-4b99-9cf2-c3c57f63c71c",
   "metadata": {},
   "outputs": [
    {
     "name": "stdout",
     "output_type": "stream",
     "text": [
      "<class 'dict'>\n",
      "[('Brentwood', 1.0), ('Chadwell Heath', 1.0), ('Forest Gate', 1.0), ('Gidea Park', 1.0), ('Goodmayes', 1.0)]\n",
      "avg clustering coefficient: 0.8465703467039797\n"
     ]
    }
   ],
   "source": [
    "# let's measure the clustering coefficient\n",
    "c = nx.clustering(london_network)\n",
    "print(type(c))\n",
    "\n",
    "# we can sort the dictionary by the clustering coefficient\n",
    "c = sorted(c.items(), key=lambda pair: pair[1], reverse=True)\n",
    "print(c[:5])\n",
    "\n",
    "#what is the average clustering coefficient\n",
    "c_avg = sum([i[1] for i in c]) / len(c)\n",
    "print(f'avg clustering coefficient: {c_avg}')"
   ]
  },
  {
   "cell_type": "markdown",
   "id": "82b8def9-4257-4212-8cee-51c6ab41a63d",
   "metadata": {},
   "source": [
    "#### （modularity）"
   ]
  },
  {
   "cell_type": "code",
   "execution_count": 23,
   "id": "babc3e02-966f-4349-a291-9efe7ef34126",
   "metadata": {},
   "outputs": [
    {
     "name": "stdout",
     "output_type": "stream",
     "text": [
      "number of communities: 3\n"
     ]
    }
   ],
   "source": [
    "from networkx.algorithms.community import greedy_modularity_communities\n",
    "import itertools\n",
    "\n",
    "# let's start with greedy modularity\n",
    "communities_fg = greedy_modularity_communities(london_network)\n",
    "\n",
    "print(f'number of communities: {len(communities_fg)}')"
   ]
  },
  {
   "cell_type": "code",
   "execution_count": 24,
   "id": "858a2fa4-497b-44c1-a3c3-609804ccf20f",
   "metadata": {},
   "outputs": [
    {
     "name": "stdout",
     "output_type": "stream",
     "text": [
      "modularity of fast-greedy: 0.1606401998500805\n"
     ]
    }
   ],
   "source": [
    "from networkx.algorithms.community.quality import modularity\n",
    "print(f'modularity of fast-greedy: {modularity(london_network, communities_fg)}')"
   ]
  },
  {
   "cell_type": "markdown",
   "id": "09ee6abf-2e89-4df3-bfc2-646d69959a86",
   "metadata": {},
   "source": [
    "#### diameter"
   ]
  },
  {
   "cell_type": "code",
   "execution_count": 25,
   "id": "e5302f66-514f-4c11-89a0-c3178c3b0356",
   "metadata": {},
   "outputs": [
    {
     "data": {
      "text/plain": [
       "3"
      ]
     },
     "execution_count": 25,
     "metadata": {},
     "output_type": "execute_result"
    }
   ],
   "source": [
    "nx.diameter(london_network)"
   ]
  },
  {
   "cell_type": "markdown",
   "id": "ffd4177f-75b6-4062-8d4e-1adf16137aed",
   "metadata": {},
   "source": [
    "### Node removal"
   ]
  },
  {
   "cell_type": "markdown",
   "id": "41669d00-2e46-4b51-818d-92bc1828be9d",
   "metadata": {},
   "source": [
    "#### closeness centrality"
   ]
  },
  {
   "cell_type": "code",
   "execution_count": 78,
   "id": "568f8d5b-1043-47b7-869f-21cffa46095c",
   "metadata": {},
   "outputs": [],
   "source": [
    "london_network2=london_network.copy()"
   ]
  },
  {
   "cell_type": "markdown",
   "id": "1efa4152-b8d2-4522-b725-bbc7781466d2",
   "metadata": {},
   "source": [
    "##### Non-sequential removal"
   ]
  },
  {
   "cell_type": "code",
   "execution_count": 79,
   "id": "c04c41c9-cf8d-41de-b5b8-5b1002f1a23d",
   "metadata": {},
   "outputs": [],
   "source": [
    "clos_t_val=[(i[1]['closeness_top']) for i in london_network.nodes(data=True)]"
   ]
  },
  {
   "cell_type": "code",
   "execution_count": 80,
   "id": "63c9b06d-380b-4f6a-97a3-5d4ddb36d953",
   "metadata": {},
   "outputs": [
    {
     "data": {
      "text/plain": [
       "['Stratford']"
      ]
     },
     "execution_count": 80,
     "metadata": {},
     "output_type": "execute_result"
    }
   ],
   "source": [
    "maxclose=[n for n in london_network2.nodes() if london_network2.nodes[n]['closeness_top'] == max(clos_t_val)]\n",
    "\n",
    "maxclose\n"
   ]
  },
  {
   "cell_type": "code",
   "execution_count": 81,
   "id": "c4d807a6-9701-48d6-8f0d-3bbe8d1e5194",
   "metadata": {},
   "outputs": [
    {
     "name": "stdout",
     "output_type": "stream",
     "text": [
      "True\n"
     ]
    }
   ],
   "source": [
    "london_network2.remove_nodes_from(maxclose)\n",
    "# Has the graph one component?\n",
    "print(nx.is_connected(london_network2))"
   ]
  },
  {
   "cell_type": "markdown",
   "id": "b2f7cf72-054d-4d05-8fe6-d89d24adfba5",
   "metadata": {},
   "source": [
    "##### Sequential removal"
   ]
  },
  {
   "cell_type": "markdown",
   "id": "7fe41119-d82b-4cd4-bb1f-7491a89c4b95",
   "metadata": {},
   "source": [
    "#### betweenness centrality"
   ]
  },
  {
   "cell_type": "code",
   "execution_count": 67,
   "id": "8056fbac-adfb-4261-979f-563b8a2c9dde",
   "metadata": {},
   "outputs": [],
   "source": [
    "london_network3=london_network.copy()"
   ]
  },
  {
   "cell_type": "markdown",
   "id": "cfe9ab35-530b-451e-a824-70c56bd7ed3a",
   "metadata": {},
   "source": [
    "##### Non-sequential removal"
   ]
  },
  {
   "cell_type": "code",
   "execution_count": 68,
   "id": "cd60e226-bfc3-4a7b-9384-c84f4ac8e852",
   "metadata": {},
   "outputs": [],
   "source": [
    "betweenness_t_values=[(i[1]['betweenness_top']) for i in london_network.nodes(data=True)]"
   ]
  },
  {
   "cell_type": "code",
   "execution_count": 69,
   "id": "41464518-072c-4e22-8581-797fa436feae",
   "metadata": {},
   "outputs": [
    {
     "data": {
      "text/plain": [
       "['Stratford']"
      ]
     },
     "execution_count": 69,
     "metadata": {},
     "output_type": "execute_result"
    }
   ],
   "source": [
    "# remove the node with the max value \n",
    "maxbet=[n for n in london_network2.nodes() if london_network2.nodes[n]['betweenness_top'] == max(betweenness_t_values)]\n",
    "maxbet"
   ]
  },
  {
   "cell_type": "code",
   "execution_count": 70,
   "id": "608aa510-bebc-4d38-92b7-7efb25084bcb",
   "metadata": {},
   "outputs": [],
   "source": [
    "london_network2.remove_nodes_from(maxbet)"
   ]
  },
  {
   "cell_type": "code",
   "execution_count": 71,
   "id": "eead3059-3a0b-48c7-b646-43e17f5d07c7",
   "metadata": {},
   "outputs": [
    {
     "name": "stdout",
     "output_type": "stream",
     "text": [
      "True\n"
     ]
    }
   ],
   "source": [
    "# Has the graph one component?\n",
    "print(nx.is_connected(london_network2))"
   ]
  },
  {
   "cell_type": "markdown",
   "id": "4c226c10-5f55-4253-9aaa-52edaf6f6e10",
   "metadata": {},
   "source": [
    "##### Sequential removal"
   ]
  },
  {
   "cell_type": "markdown",
   "id": "5edc9bae-17d1-49d1-9f20-9304a4f859f9",
   "metadata": {},
   "source": [
    "#### information centrality"
   ]
  },
  {
   "cell_type": "code",
   "execution_count": null,
   "id": "06385dca-c13b-415c-9db5-fb9a0b46a4d6",
   "metadata": {},
   "outputs": [],
   "source": [
    "london_network4=london_network.copy()"
   ]
  },
  {
   "cell_type": "markdown",
   "id": "ece113c4-791e-417d-89f7-27e724c139d6",
   "metadata": {},
   "source": [
    "##### Non-sequential removal"
   ]
  },
  {
   "cell_type": "markdown",
   "id": "4ec93b80-b201-4d37-820d-66524886d4e9",
   "metadata": {},
   "source": [
    "##### Sequential removal"
   ]
  },
  {
   "cell_type": "markdown",
   "id": "5847f45f-7de3-42a3-8080-3c91a5da16af",
   "metadata": {},
   "source": [
    "## Flows: weighted network"
   ]
  },
  {
   "cell_type": "code",
   "execution_count": null,
   "id": "56ce3eb9-5839-4d25-9a2d-6ff4cb51ea6e",
   "metadata": {},
   "outputs": [],
   "source": [
    "london_network = nx.from_pandas_edgelist(london_flows, 'station_origin', 'station_destination')\n",
    "list(london_network.edges(data = True))[0:10]"
   ]
  },
  {
   "cell_type": "markdown",
   "id": "936190de-33fb-4904-a1ad-56548c968f05",
   "metadata": {},
   "source": [
    "# If we want the diameter of the network considering the weights, we need to use a trick.\n",
    "# This, beacuse nx.diameter does not include this function, so we need to do :\n",
    "nlen={}\n",
    "\n",
    "for n in g4.nodes():\n",
    "    a=nx.single_source_dijkstra_path_length(g4, n)\n",
    "    print(a)\n",
    "    nlen[n]=a\n",
    "e = nx.eccentricity(g4,sp=nlen)\n",
    "d = nx.diameter(g4, e)\n",
    "d"
   ]
  }
 ],
 "metadata": {
  "kernelspec": {
   "display_name": "Python 3 (ipykernel)",
   "language": "python",
   "name": "python3"
  },
  "language_info": {
   "codemirror_mode": {
    "name": "ipython",
    "version": 3
   },
   "file_extension": ".py",
   "mimetype": "text/x-python",
   "name": "python",
   "nbconvert_exporter": "python",
   "pygments_lexer": "ipython3",
   "version": "3.10.5"
  }
 },
 "nbformat": 4,
 "nbformat_minor": 5
}
