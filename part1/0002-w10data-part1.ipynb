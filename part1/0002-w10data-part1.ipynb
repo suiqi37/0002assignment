{
 "cells": [
  {
   "cell_type": "code",
   "execution_count": 1,
   "id": "1d4ba73c-92cf-4c92-aaec-c5139c5e281d",
   "metadata": {},
   "outputs": [],
   "source": [
    "import networkx as nx\n",
    "import matplotlib.pyplot as plt\n",
    "import pandas as pd\n",
    "import numpy as np\n",
    "from tabulate import tabulate"
   ]
  },
  {
   "cell_type": "markdown",
   "id": "bc747cfa-a2c6-45a3-90d1-e2408b923868",
   "metadata": {},
   "source": [
    "# Topological network"
   ]
  },
  {
   "cell_type": "markdown",
   "id": "76347cd2-2c0c-4466-8c7e-e63b0c1721e7",
   "metadata": {},
   "source": [
    "## Centrality measures"
   ]
  },
  {
   "cell_type": "code",
   "execution_count": 2,
   "id": "ade8d3d0-c418-496e-8543-7abaaddb32da",
   "metadata": {},
   "outputs": [],
   "source": [
    "london_network = nx.read_graphml('london.graphml')"
   ]
  },
  {
   "cell_type": "code",
   "execution_count": 3,
   "id": "66325f40-6c5d-4448-8e5c-0db03b131b25",
   "metadata": {},
   "outputs": [
    {
     "data": {
      "text/plain": [
       "[('Waterloo', {'coords': '(530974.0910233686, 179921.09873829264)'}),\n",
       " ('Bank and Monument', {'coords': '(532821.10615604, 180978.99742206652)'}),\n",
       " ('Wembley Park', {'coords': '(519316.5590174915, 186389.32981656672)'}),\n",
       " ('Kingsbury', {'coords': '(519359.9688603217, 188721.22027255013)'}),\n",
       " ('Queensbury', {'coords': '(518811.3613368616, 189760.50737704366)'}),\n",
       " ('Canons Park', {'coords': '(518183.29968291725, 191257.26260848)'}),\n",
       " ('Stanmore', {'coords': '(517580.4596464033, 192537.99948098673)'}),\n",
       " ('Stratford', {'coords': '(538524.7855297636, 184373.34100822973)'}),\n",
       " ('West Ham', {'coords': '(539160.2577659411, 182933.29006798862)'}),\n",
       " ('Canning Town', {'coords': '(539439.020753582, 181338.40907066417)'})]"
      ]
     },
     "execution_count": 3,
     "metadata": {},
     "output_type": "execute_result"
    }
   ],
   "source": [
    "# To check node attributes:\n",
    "list(london_network.nodes(data = True))[0:10]"
   ]
  },
  {
   "cell_type": "code",
   "execution_count": 4,
   "id": "8a2a2b38-ec2a-4229-9e3a-4a61ba3d50c8",
   "metadata": {},
   "outputs": [
    {
     "data": {
      "text/plain": [
       "[('Waterloo',\n",
       "  'Bank and Monument',\n",
       "  {'length': 2542.954443856927,\n",
       "   'line_name': 'Waterloo & City',\n",
       "   'flows': 241812}),\n",
       " ('Waterloo',\n",
       "  'Southwark',\n",
       "  {'length': 656.4269295165988, 'line_name': 'Jubilee', 'flows': 37489}),\n",
       " ('Waterloo',\n",
       "  'Westminster',\n",
       "  {'length': 850.3600263607974, 'line_name': 'Jubilee', 'flows': 215420}),\n",
       " ('Waterloo',\n",
       "  'Embankment',\n",
       "  {'length': 769.4283320889193, 'line_name': 'Bakerloo', 'flows': 16731}),\n",
       " ('Waterloo',\n",
       "  'Kennington',\n",
       "  {'length': 1760.1985166073814, 'line_name': 'Northern', 'flows': 60741}),\n",
       " ('Waterloo',\n",
       "  'Lambeth North',\n",
       "  {'length': 573.6890561756097, 'line_name': 'Bakerloo', 'flows': 2339}),\n",
       " ('Bank and Monument',\n",
       "  'Shadwell',\n",
       "  {'length': 2317.101463770875, 'line_name': 'DLR', 'flows': 20706}),\n",
       " ('Bank and Monument',\n",
       "  'Moorgate',\n",
       "  {'length': 776.8294614297852, 'line_name': 'Northern', 'flows': 77165}),\n",
       " ('Bank and Monument',\n",
       "  'London Bridge',\n",
       "  {'length': 886.7283711455784, 'line_name': 'Northern', 'flows': 82117}),\n",
       " ('Bank and Monument',\n",
       "  \"St. Paul's\",\n",
       "  {'length': 849.5248408817774, 'line_name': 'Central', 'flows': 38007})]"
      ]
     },
     "execution_count": 4,
     "metadata": {},
     "output_type": "execute_result"
    }
   ],
   "source": [
    "# To check edges attributes:\n",
    "list(london_network.edges(data = True))[0:10]"
   ]
  },
  {
   "cell_type": "code",
   "execution_count": 5,
   "id": "06614a77-4cd8-4f3b-8b01-f6bc08723328",
   "metadata": {},
   "outputs": [
    {
     "data": {
      "text/html": [
       "<div>\n",
       "<style scoped>\n",
       "    .dataframe tbody tr th:only-of-type {\n",
       "        vertical-align: middle;\n",
       "    }\n",
       "\n",
       "    .dataframe tbody tr th {\n",
       "        vertical-align: top;\n",
       "    }\n",
       "\n",
       "    .dataframe thead th {\n",
       "        text-align: right;\n",
       "    }\n",
       "</style>\n",
       "<table border=\"1\" class=\"dataframe\">\n",
       "  <thead>\n",
       "    <tr style=\"text-align: right;\">\n",
       "      <th></th>\n",
       "      <th>source</th>\n",
       "      <th>target</th>\n",
       "      <th>line_name</th>\n",
       "      <th>flows</th>\n",
       "      <th>length</th>\n",
       "    </tr>\n",
       "  </thead>\n",
       "  <tbody>\n",
       "    <tr>\n",
       "      <th>0</th>\n",
       "      <td>Waterloo</td>\n",
       "      <td>Bank and Monument</td>\n",
       "      <td>Waterloo &amp; City</td>\n",
       "      <td>241812</td>\n",
       "      <td>2542.954444</td>\n",
       "    </tr>\n",
       "    <tr>\n",
       "      <th>1</th>\n",
       "      <td>Waterloo</td>\n",
       "      <td>Southwark</td>\n",
       "      <td>Jubilee</td>\n",
       "      <td>37489</td>\n",
       "      <td>656.426930</td>\n",
       "    </tr>\n",
       "    <tr>\n",
       "      <th>2</th>\n",
       "      <td>Waterloo</td>\n",
       "      <td>Westminster</td>\n",
       "      <td>Jubilee</td>\n",
       "      <td>215420</td>\n",
       "      <td>850.360026</td>\n",
       "    </tr>\n",
       "    <tr>\n",
       "      <th>3</th>\n",
       "      <td>Waterloo</td>\n",
       "      <td>Embankment</td>\n",
       "      <td>Bakerloo</td>\n",
       "      <td>16731</td>\n",
       "      <td>769.428332</td>\n",
       "    </tr>\n",
       "    <tr>\n",
       "      <th>4</th>\n",
       "      <td>Waterloo</td>\n",
       "      <td>Kennington</td>\n",
       "      <td>Northern</td>\n",
       "      <td>60741</td>\n",
       "      <td>1760.198517</td>\n",
       "    </tr>\n",
       "    <tr>\n",
       "      <th>...</th>\n",
       "      <td>...</td>\n",
       "      <td>...</td>\n",
       "      <td>...</td>\n",
       "      <td>...</td>\n",
       "      <td>...</td>\n",
       "    </tr>\n",
       "    <tr>\n",
       "      <th>462</th>\n",
       "      <td>Becontree</td>\n",
       "      <td>Dagenham Heathway</td>\n",
       "      <td>District</td>\n",
       "      <td>11305</td>\n",
       "      <td>1428.200777</td>\n",
       "    </tr>\n",
       "    <tr>\n",
       "      <th>463</th>\n",
       "      <td>Dagenham Heathway</td>\n",
       "      <td>Dagenham East</td>\n",
       "      <td>District</td>\n",
       "      <td>7623</td>\n",
       "      <td>1279.227789</td>\n",
       "    </tr>\n",
       "    <tr>\n",
       "      <th>464</th>\n",
       "      <td>Dagenham East</td>\n",
       "      <td>Elm Park</td>\n",
       "      <td>District</td>\n",
       "      <td>5556</td>\n",
       "      <td>2295.788356</td>\n",
       "    </tr>\n",
       "    <tr>\n",
       "      <th>465</th>\n",
       "      <td>Elm Park</td>\n",
       "      <td>Hornchurch</td>\n",
       "      <td>District</td>\n",
       "      <td>3139</td>\n",
       "      <td>1544.327212</td>\n",
       "    </tr>\n",
       "    <tr>\n",
       "      <th>466</th>\n",
       "      <td>Hornchurch</td>\n",
       "      <td>Upminster Bridge</td>\n",
       "      <td>District</td>\n",
       "      <td>1488</td>\n",
       "      <td>1226.929480</td>\n",
       "    </tr>\n",
       "  </tbody>\n",
       "</table>\n",
       "<p>467 rows × 5 columns</p>\n",
       "</div>"
      ],
      "text/plain": [
       "                source             target        line_name   flows  \\\n",
       "0             Waterloo  Bank and Monument  Waterloo & City  241812   \n",
       "1             Waterloo          Southwark          Jubilee   37489   \n",
       "2             Waterloo        Westminster          Jubilee  215420   \n",
       "3             Waterloo         Embankment         Bakerloo   16731   \n",
       "4             Waterloo         Kennington         Northern   60741   \n",
       "..                 ...                ...              ...     ...   \n",
       "462          Becontree  Dagenham Heathway         District   11305   \n",
       "463  Dagenham Heathway      Dagenham East         District    7623   \n",
       "464      Dagenham East           Elm Park         District    5556   \n",
       "465           Elm Park         Hornchurch         District    3139   \n",
       "466         Hornchurch   Upminster Bridge         District    1488   \n",
       "\n",
       "          length  \n",
       "0    2542.954444  \n",
       "1     656.426930  \n",
       "2     850.360026  \n",
       "3     769.428332  \n",
       "4    1760.198517  \n",
       "..           ...  \n",
       "462  1428.200777  \n",
       "463  1279.227789  \n",
       "464  2295.788356  \n",
       "465  1544.327212  \n",
       "466  1226.929480  \n",
       "\n",
       "[467 rows x 5 columns]"
      ]
     },
     "execution_count": 5,
     "metadata": {},
     "output_type": "execute_result"
    }
   ],
   "source": [
    " #We can print the dataframe from the shapefile to check the data\n",
    "df = nx.to_pandas_edgelist(london_network)\n",
    "df"
   ]
  },
  {
   "cell_type": "markdown",
   "id": "7f62569f-7dde-4efc-8133-5339522a61de",
   "metadata": {},
   "source": [
    "### closeness centrality"
   ]
  },
  {
   "cell_type": "code",
   "execution_count": 6,
   "id": "d6c78dce-d825-4638-acce-f1444f6b10b4",
   "metadata": {},
   "outputs": [],
   "source": [
    "# topological closeness\n",
    "clos_top_london=nx.closeness_centrality(london_network)\n",
    "\n",
    "# add the closeness centrality as attribute to the nodes in the graph\n",
    "nx.set_node_attributes(london_network,clos_top_london,'closeness_top')\n",
    "\n",
    "clos_top_london_df=pd.DataFrame.from_dict(clos_top_london,columns=['closeness_top'],orient='index')"
   ]
  },
  {
   "cell_type": "code",
   "execution_count": 7,
   "id": "ed69cadd-a8b3-4625-bb83-dee9c81a596c",
   "metadata": {},
   "outputs": [
    {
     "data": {
      "text/html": [
       "<div>\n",
       "<style scoped>\n",
       "    .dataframe tbody tr th:only-of-type {\n",
       "        vertical-align: middle;\n",
       "    }\n",
       "\n",
       "    .dataframe tbody tr th {\n",
       "        vertical-align: top;\n",
       "    }\n",
       "\n",
       "    .dataframe thead th {\n",
       "        text-align: right;\n",
       "    }\n",
       "</style>\n",
       "<table border=\"1\" class=\"dataframe\">\n",
       "  <thead>\n",
       "    <tr style=\"text-align: right;\">\n",
       "      <th></th>\n",
       "      <th>closeness_top</th>\n",
       "    </tr>\n",
       "  </thead>\n",
       "  <tbody>\n",
       "    <tr>\n",
       "      <th>Green Park</th>\n",
       "      <td>0.114778</td>\n",
       "    </tr>\n",
       "    <tr>\n",
       "      <th>Bank and Monument</th>\n",
       "      <td>0.113572</td>\n",
       "    </tr>\n",
       "    <tr>\n",
       "      <th>King's Cross St. Pancras</th>\n",
       "      <td>0.113443</td>\n",
       "    </tr>\n",
       "    <tr>\n",
       "      <th>Westminster</th>\n",
       "      <td>0.112549</td>\n",
       "    </tr>\n",
       "    <tr>\n",
       "      <th>Waterloo</th>\n",
       "      <td>0.112265</td>\n",
       "    </tr>\n",
       "    <tr>\n",
       "      <th>Oxford Circus</th>\n",
       "      <td>0.111204</td>\n",
       "    </tr>\n",
       "    <tr>\n",
       "      <th>Bond Street</th>\n",
       "      <td>0.110988</td>\n",
       "    </tr>\n",
       "    <tr>\n",
       "      <th>Farringdon</th>\n",
       "      <td>0.110742</td>\n",
       "    </tr>\n",
       "    <tr>\n",
       "      <th>Angel</th>\n",
       "      <td>0.110742</td>\n",
       "    </tr>\n",
       "    <tr>\n",
       "      <th>Moorgate</th>\n",
       "      <td>0.110314</td>\n",
       "    </tr>\n",
       "  </tbody>\n",
       "</table>\n",
       "</div>"
      ],
      "text/plain": [
       "                          closeness_top\n",
       "Green Park                     0.114778\n",
       "Bank and Monument              0.113572\n",
       "King's Cross St. Pancras       0.113443\n",
       "Westminster                    0.112549\n",
       "Waterloo                       0.112265\n",
       "Oxford Circus                  0.111204\n",
       "Bond Street                    0.110988\n",
       "Farringdon                     0.110742\n",
       "Angel                          0.110742\n",
       "Moorgate                       0.110314"
      ]
     },
     "execution_count": 7,
     "metadata": {},
     "output_type": "execute_result"
    }
   ],
   "source": [
    "clos_top_london_df_sorted = clos_top_london_df.sort_values(by='closeness_top', ascending=False)\n",
    "clos_top_london_df_sorted[0:10]"
   ]
  },
  {
   "cell_type": "code",
   "execution_count": 8,
   "id": "e0fdcec4-168b-418d-a30c-a2731c4d3a7a",
   "metadata": {},
   "outputs": [
    {
     "name": "stdout",
     "output_type": "stream",
     "text": [
      "```latex\n",
      "\\begin{tabular}{lr}\n",
      "\\hline\n",
      " Green Park               & 0.114778 \\\\\n",
      " Bank and Monument        & 0.113572 \\\\\n",
      " King's Cross St. Pancras & 0.113443 \\\\\n",
      " Westminster              & 0.112549 \\\\\n",
      " Waterloo                 & 0.112265 \\\\\n",
      " Oxford Circus            & 0.111204 \\\\\n",
      " Bond Street              & 0.110988 \\\\\n",
      " Farringdon               & 0.110742 \\\\\n",
      " Angel                    & 0.110742 \\\\\n",
      " Moorgate                 & 0.110314 \\\\\n",
      "\\hline\n",
      "\\end{tabular}\n",
      "```\n"
     ]
    }
   ],
   "source": [
    "latex_table = tabulate(clos_top_london_df_sorted[0:10], tablefmt='latex')\n",
    "latex_code = f\"```latex\\n{latex_table}\\n```\"\n",
    "print(latex_code)"
   ]
  },
  {
   "cell_type": "markdown",
   "id": "ec6c5465-5738-4482-9621-3fc67fddabf2",
   "metadata": {},
   "source": [
    "### betweenness centrality"
   ]
  },
  {
   "cell_type": "code",
   "execution_count": 9,
   "id": "3a86a0ea-157b-46d2-a1f9-3d1322c6c3be",
   "metadata": {},
   "outputs": [],
   "source": [
    "bet_london_top=nx.betweenness_centrality(london_network,normalized=False)"
   ]
  },
  {
   "cell_type": "code",
   "execution_count": 10,
   "id": "d2166f9d-c5f3-4885-8816-3ac34f9b8272",
   "metadata": {},
   "outputs": [],
   "source": [
    "nx.set_node_attributes(london_network,bet_london_top,'betweenness_top')"
   ]
  },
  {
   "cell_type": "code",
   "execution_count": 11,
   "id": "b77ca029-2ef5-430a-8618-08ade4bd7f9b",
   "metadata": {},
   "outputs": [],
   "source": [
    "bet_top_london_df=pd.DataFrame.from_dict(bet_london_top,columns=['betweenness_top'],orient='index')"
   ]
  },
  {
   "cell_type": "code",
   "execution_count": 12,
   "id": "f1956874-d95e-4e35-b1dc-4ab27688e20c",
   "metadata": {},
   "outputs": [
    {
     "data": {
      "text/html": [
       "<div>\n",
       "<style scoped>\n",
       "    .dataframe tbody tr th:only-of-type {\n",
       "        vertical-align: middle;\n",
       "    }\n",
       "\n",
       "    .dataframe tbody tr th {\n",
       "        vertical-align: top;\n",
       "    }\n",
       "\n",
       "    .dataframe thead th {\n",
       "        text-align: right;\n",
       "    }\n",
       "</style>\n",
       "<table border=\"1\" class=\"dataframe\">\n",
       "  <thead>\n",
       "    <tr style=\"text-align: right;\">\n",
       "      <th></th>\n",
       "      <th>betweenness_top</th>\n",
       "    </tr>\n",
       "  </thead>\n",
       "  <tbody>\n",
       "    <tr>\n",
       "      <th>Stratford</th>\n",
       "      <td>23768.093434</td>\n",
       "    </tr>\n",
       "    <tr>\n",
       "      <th>Bank and Monument</th>\n",
       "      <td>23181.058947</td>\n",
       "    </tr>\n",
       "    <tr>\n",
       "      <th>Liverpool Street</th>\n",
       "      <td>21610.387049</td>\n",
       "    </tr>\n",
       "    <tr>\n",
       "      <th>King's Cross St. Pancras</th>\n",
       "      <td>20373.521465</td>\n",
       "    </tr>\n",
       "    <tr>\n",
       "      <th>Waterloo</th>\n",
       "      <td>19464.882323</td>\n",
       "    </tr>\n",
       "    <tr>\n",
       "      <th>Green Park</th>\n",
       "      <td>17223.622114</td>\n",
       "    </tr>\n",
       "    <tr>\n",
       "      <th>Euston</th>\n",
       "      <td>16624.275469</td>\n",
       "    </tr>\n",
       "    <tr>\n",
       "      <th>Westminster</th>\n",
       "      <td>16226.155916</td>\n",
       "    </tr>\n",
       "    <tr>\n",
       "      <th>Baker Street</th>\n",
       "      <td>15287.107612</td>\n",
       "    </tr>\n",
       "    <tr>\n",
       "      <th>Finchley Road</th>\n",
       "      <td>13173.758009</td>\n",
       "    </tr>\n",
       "  </tbody>\n",
       "</table>\n",
       "</div>"
      ],
      "text/plain": [
       "                          betweenness_top\n",
       "Stratford                    23768.093434\n",
       "Bank and Monument            23181.058947\n",
       "Liverpool Street             21610.387049\n",
       "King's Cross St. Pancras     20373.521465\n",
       "Waterloo                     19464.882323\n",
       "Green Park                   17223.622114\n",
       "Euston                       16624.275469\n",
       "Westminster                  16226.155916\n",
       "Baker Street                 15287.107612\n",
       "Finchley Road                13173.758009"
      ]
     },
     "execution_count": 12,
     "metadata": {},
     "output_type": "execute_result"
    }
   ],
   "source": [
    "bet_top_london_df_sorted = bet_top_london_df.sort_values(by='betweenness_top', ascending=False)\n",
    "bet_top_london_df_sorted[0:10]"
   ]
  },
  {
   "cell_type": "code",
   "execution_count": 13,
   "id": "c73dd926-87a0-48b4-9be1-acbdac2f4dc2",
   "metadata": {},
   "outputs": [
    {
     "name": "stdout",
     "output_type": "stream",
     "text": [
      "```latex\n",
      "\\begin{tabular}{lr}\n",
      "\\hline\n",
      " Stratford                & 23768.1 \\\\\n",
      " Bank and Monument        & 23181.1 \\\\\n",
      " Liverpool Street         & 21610.4 \\\\\n",
      " King's Cross St. Pancras & 20373.5 \\\\\n",
      " Waterloo                 & 19464.9 \\\\\n",
      " Green Park               & 17223.6 \\\\\n",
      " Euston                   & 16624.3 \\\\\n",
      " Westminster              & 16226.2 \\\\\n",
      " Baker Street             & 15287.1 \\\\\n",
      " Finchley Road            & 13173.8 \\\\\n",
      "\\hline\n",
      "\\end{tabular}\n",
      "```\n"
     ]
    }
   ],
   "source": [
    "latex_table = tabulate(bet_top_london_df_sorted[0:10], tablefmt='latex')\n",
    "latex_code = f\"```latex\\n{latex_table}\\n```\"\n",
    "print(latex_code)"
   ]
  },
  {
   "cell_type": "markdown",
   "id": "44bacaa0-cf51-47b6-b4c6-07333a0b5fdb",
   "metadata": {},
   "source": [
    "### eigenvector centrality"
   ]
  },
  {
   "cell_type": "code",
   "execution_count": 14,
   "id": "601825e3-0c06-4c94-a03f-3b168c2d7d08",
   "metadata": {},
   "outputs": [],
   "source": [
    "eig_london_top=nx.eigenvector_centrality_numpy(london_network)"
   ]
  },
  {
   "cell_type": "code",
   "execution_count": 15,
   "id": "86d949c3-d0a5-4a4b-b25c-fd986a46d73f",
   "metadata": {},
   "outputs": [],
   "source": [
    "nx.set_node_attributes(london_network,eig_london_top,'eigenvector_top')"
   ]
  },
  {
   "cell_type": "code",
   "execution_count": 16,
   "id": "299f5361-d77c-4cdd-b153-9fdfeded0710",
   "metadata": {},
   "outputs": [],
   "source": [
    "eig_top_london_df=pd.DataFrame.from_dict(eig_london_top,columns=['eigenvector_top'],orient='index')"
   ]
  },
  {
   "cell_type": "code",
   "execution_count": 17,
   "id": "7385236d-795e-4289-a852-1a355e36da98",
   "metadata": {},
   "outputs": [
    {
     "data": {
      "text/html": [
       "<div>\n",
       "<style scoped>\n",
       "    .dataframe tbody tr th:only-of-type {\n",
       "        vertical-align: middle;\n",
       "    }\n",
       "\n",
       "    .dataframe tbody tr th {\n",
       "        vertical-align: top;\n",
       "    }\n",
       "\n",
       "    .dataframe thead th {\n",
       "        text-align: right;\n",
       "    }\n",
       "</style>\n",
       "<table border=\"1\" class=\"dataframe\">\n",
       "  <thead>\n",
       "    <tr style=\"text-align: right;\">\n",
       "      <th></th>\n",
       "      <th>eigenvector_top</th>\n",
       "    </tr>\n",
       "  </thead>\n",
       "  <tbody>\n",
       "    <tr>\n",
       "      <th>Bank and Monument</th>\n",
       "      <td>0.383725</td>\n",
       "    </tr>\n",
       "    <tr>\n",
       "      <th>Liverpool Street</th>\n",
       "      <td>0.329191</td>\n",
       "    </tr>\n",
       "    <tr>\n",
       "      <th>Stratford</th>\n",
       "      <td>0.269574</td>\n",
       "    </tr>\n",
       "    <tr>\n",
       "      <th>Waterloo</th>\n",
       "      <td>0.249708</td>\n",
       "    </tr>\n",
       "    <tr>\n",
       "      <th>Moorgate</th>\n",
       "      <td>0.215343</td>\n",
       "    </tr>\n",
       "    <tr>\n",
       "      <th>Green Park</th>\n",
       "      <td>0.197023</td>\n",
       "    </tr>\n",
       "    <tr>\n",
       "      <th>Oxford Circus</th>\n",
       "      <td>0.183441</td>\n",
       "    </tr>\n",
       "    <tr>\n",
       "      <th>Tower Hill</th>\n",
       "      <td>0.171839</td>\n",
       "    </tr>\n",
       "    <tr>\n",
       "      <th>Westminster</th>\n",
       "      <td>0.168368</td>\n",
       "    </tr>\n",
       "    <tr>\n",
       "      <th>Shadwell</th>\n",
       "      <td>0.159233</td>\n",
       "    </tr>\n",
       "  </tbody>\n",
       "</table>\n",
       "</div>"
      ],
      "text/plain": [
       "                   eigenvector_top\n",
       "Bank and Monument         0.383725\n",
       "Liverpool Street          0.329191\n",
       "Stratford                 0.269574\n",
       "Waterloo                  0.249708\n",
       "Moorgate                  0.215343\n",
       "Green Park                0.197023\n",
       "Oxford Circus             0.183441\n",
       "Tower Hill                0.171839\n",
       "Westminster               0.168368\n",
       "Shadwell                  0.159233"
      ]
     },
     "execution_count": 17,
     "metadata": {},
     "output_type": "execute_result"
    }
   ],
   "source": [
    "eig_top_london_df_sorted = eig_top_london_df.sort_values(by='eigenvector_top', ascending=False)\n",
    "eig_top_london_df_sorted[0:10]"
   ]
  },
  {
   "cell_type": "code",
   "execution_count": 18,
   "id": "4d584307-b273-44b0-9d2b-5b8d4c07179b",
   "metadata": {},
   "outputs": [
    {
     "name": "stdout",
     "output_type": "stream",
     "text": [
      "```latex\n",
      "\\begin{tabular}{lr}\n",
      "\\hline\n",
      " Bank and Monument & 0.383725 \\\\\n",
      " Liverpool Street  & 0.329191 \\\\\n",
      " Stratford         & 0.269574 \\\\\n",
      " Waterloo          & 0.249708 \\\\\n",
      " Moorgate          & 0.215343 \\\\\n",
      " Green Park        & 0.197023 \\\\\n",
      " Oxford Circus     & 0.183441 \\\\\n",
      " Tower Hill        & 0.171839 \\\\\n",
      " Westminster       & 0.168368 \\\\\n",
      " Shadwell          & 0.159233 \\\\\n",
      "\\hline\n",
      "\\end{tabular}\n",
      "```\n"
     ]
    }
   ],
   "source": [
    "latex_table = tabulate(eig_top_london_df_sorted[0:10], tablefmt='latex')\n",
    "latex_code = f\"```latex\\n{latex_table}\\n```\"\n",
    "print(latex_code)"
   ]
  },
  {
   "cell_type": "markdown",
   "id": "c5d6b93f-18de-4439-b793-476355355f97",
   "metadata": {},
   "source": [
    "## Impact measures"
   ]
  },
  {
   "cell_type": "markdown",
   "id": "8871cee3-a898-44d8-b1b5-92f0fc6dd178",
   "metadata": {},
   "source": [
    "### number of components, can be used to others"
   ]
  },
  {
   "cell_type": "code",
   "execution_count": 19,
   "id": "ac3e263e-b40b-47f8-a58c-696de6987c0a",
   "metadata": {},
   "outputs": [
    {
     "name": "stdout",
     "output_type": "stream",
     "text": [
      "Number of connected components:1\n"
     ]
    }
   ],
   "source": [
    "print(f'Number of connected components:{nx.number_connected_components(london_network)}')"
   ]
  },
  {
   "cell_type": "markdown",
   "id": "09ee6abf-2e89-4df3-bfc2-646d69959a86",
   "metadata": {},
   "source": [
    "### topological diameter, can be used to others"
   ]
  },
  {
   "cell_type": "code",
   "execution_count": 20,
   "id": "e5302f66-514f-4c11-89a0-c3178c3b0356",
   "metadata": {},
   "outputs": [
    {
     "data": {
      "text/plain": [
       "36"
      ]
     },
     "execution_count": 20,
     "metadata": {},
     "output_type": "execute_result"
    }
   ],
   "source": [
    "nx.diameter(london_network)"
   ]
  },
  {
   "cell_type": "markdown",
   "id": "ffd4177f-75b6-4062-8d4e-1adf16137aed",
   "metadata": {},
   "source": [
    "## Node removal"
   ]
  },
  {
   "cell_type": "markdown",
   "id": "41669d00-2e46-4b51-818d-92bc1828be9d",
   "metadata": {},
   "source": [
    "### closeness centrality"
   ]
  },
  {
   "cell_type": "markdown",
   "id": "1efa4152-b8d2-4522-b725-bbc7781466d2",
   "metadata": {},
   "source": [
    "#### Non-sequential removal"
   ]
  },
  {
   "cell_type": "code",
   "execution_count": 21,
   "id": "568f8d5b-1043-47b7-869f-21cffa46095c",
   "metadata": {},
   "outputs": [],
   "source": [
    "london_network2=london_network.copy()"
   ]
  },
  {
   "cell_type": "code",
   "execution_count": 22,
   "id": "40efda3f-b17a-4129-91c6-9b2144c418dd",
   "metadata": {},
   "outputs": [
    {
     "name": "stdout",
     "output_type": "stream",
     "text": [
      "Number of connected components:1\n",
      "Diameter: 36\n"
     ]
    }
   ],
   "source": [
    "nodes_to_remove = ['Green Park']\n",
    "london_network2.remove_nodes_from(nodes_to_remove)\n",
    "print(f'Number of connected components:{nx.number_connected_components(london_network2)}')\n",
    "diameter = nx.diameter(london_network2)\n",
    "print(\"Diameter:\", diameter)"
   ]
  },
  {
   "cell_type": "code",
   "execution_count": 23,
   "id": "39858a7b-588d-43d8-b966-a5bfb52c45d9",
   "metadata": {},
   "outputs": [
    {
     "name": "stdout",
     "output_type": "stream",
     "text": [
      "Number of connected components:1\n",
      "Diameter: 38\n"
     ]
    }
   ],
   "source": [
    "nodes_to_remove = ['Bank and Monument']\n",
    "london_network2.remove_nodes_from(nodes_to_remove)\n",
    "print(f'Number of connected components:{nx.number_connected_components(london_network2)}')\n",
    "diameter = nx.diameter(london_network2)\n",
    "print(\"Diameter:\", diameter)"
   ]
  },
  {
   "cell_type": "code",
   "execution_count": 24,
   "id": "4e728192-db34-4a1b-9a8f-f2a5fea57038",
   "metadata": {},
   "outputs": [
    {
     "name": "stdout",
     "output_type": "stream",
     "text": [
      "Number of connected components:1\n",
      "Diameter: 42\n"
     ]
    }
   ],
   "source": [
    "nodes_to_remove = [\"King's Cross St. Pancras\"]\n",
    "london_network2.remove_nodes_from(nodes_to_remove)\n",
    "print(f'Number of connected components:{nx.number_connected_components(london_network2)}')\n",
    "diameter = nx.diameter(london_network2)\n",
    "print(\"Diameter:\", diameter)"
   ]
  },
  {
   "cell_type": "code",
   "execution_count": 25,
   "id": "d9b6d52b-9876-4525-88de-cc23e016599f",
   "metadata": {},
   "outputs": [
    {
     "name": "stdout",
     "output_type": "stream",
     "text": [
      "Number of connected components:1\n",
      "Diameter: 42\n"
     ]
    }
   ],
   "source": [
    "nodes_to_remove = ['Westminster']\n",
    "london_network2.remove_nodes_from(nodes_to_remove)\n",
    "print(f'Number of connected components:{nx.number_connected_components(london_network2)}')\n",
    "diameter = nx.diameter(london_network2)\n",
    "print(\"Diameter:\", diameter)"
   ]
  },
  {
   "cell_type": "code",
   "execution_count": 26,
   "id": "6a3add27-9c90-4600-9a74-3471a568e341",
   "metadata": {},
   "outputs": [
    {
     "name": "stdout",
     "output_type": "stream",
     "text": [
      "Number of connected components:1\n",
      "Diameter: 42\n"
     ]
    }
   ],
   "source": [
    "nodes_to_remove = ['Waterloo']\n",
    "london_network2.remove_nodes_from(nodes_to_remove)\n",
    "print(f'Number of connected components:{nx.number_connected_components(london_network2)}')\n",
    "diameter = nx.diameter(london_network2)\n",
    "print(\"Diameter:\", diameter)"
   ]
  },
  {
   "cell_type": "code",
   "execution_count": 27,
   "id": "9ed2090e-0e45-420a-8294-a4e94a52c608",
   "metadata": {},
   "outputs": [
    {
     "name": "stdout",
     "output_type": "stream",
     "text": [
      "Number of connected components:1\n",
      "Diameter: 45\n"
     ]
    }
   ],
   "source": [
    "nodes_to_remove = ['Oxford Circus']\n",
    "london_network2.remove_nodes_from(nodes_to_remove)\n",
    "print(f'Number of connected components:{nx.number_connected_components(london_network2)}')\n",
    "diameter = nx.diameter(london_network2)\n",
    "print(\"Diameter:\", diameter)"
   ]
  },
  {
   "cell_type": "code",
   "execution_count": 28,
   "id": "cba8acf0-23d2-4ebf-b85d-adadfe608171",
   "metadata": {},
   "outputs": [
    {
     "name": "stdout",
     "output_type": "stream",
     "text": [
      "Number of connected components:1\n",
      "Diameter: 45\n"
     ]
    }
   ],
   "source": [
    "nodes_to_remove = ['Bond Street']\n",
    "london_network2.remove_nodes_from(nodes_to_remove)\n",
    "print(f'Number of connected components:{nx.number_connected_components(london_network2)}')\n",
    "diameter = nx.diameter(london_network2)\n",
    "print(\"Diameter:\", diameter)"
   ]
  },
  {
   "cell_type": "code",
   "execution_count": 29,
   "id": "bc0668ac-cac4-4dc9-b556-0f8f2f0fda70",
   "metadata": {},
   "outputs": [
    {
     "name": "stdout",
     "output_type": "stream",
     "text": [
      "Number of connected components:1\n",
      "Diameter: 45\n"
     ]
    }
   ],
   "source": [
    "nodes_to_remove = ['Farringdon']\n",
    "london_network2.remove_nodes_from(nodes_to_remove)\n",
    "print(f'Number of connected components:{nx.number_connected_components(london_network2)}')\n",
    "diameter = nx.diameter(london_network2)\n",
    "print(\"Diameter:\", diameter)"
   ]
  },
  {
   "cell_type": "code",
   "execution_count": 30,
   "id": "1884afeb-685a-4eac-8a00-3a0f052f8112",
   "metadata": {},
   "outputs": [
    {
     "name": "stdout",
     "output_type": "stream",
     "text": [
      "Number of connected components:1\n",
      "Diameter: 45\n"
     ]
    }
   ],
   "source": [
    "nodes_to_remove = ['Angel']\n",
    "london_network2.remove_nodes_from(nodes_to_remove)\n",
    "print(f'Number of connected components:{nx.number_connected_components(london_network2)}')\n",
    "diameter = nx.diameter(london_network2)\n",
    "print(\"Diameter:\", diameter)"
   ]
  },
  {
   "cell_type": "code",
   "execution_count": 31,
   "id": "4605b50e-8730-4c9b-8bc1-058a980af110",
   "metadata": {},
   "outputs": [
    {
     "name": "stdout",
     "output_type": "stream",
     "text": [
      "Number of connected components:3\n"
     ]
    }
   ],
   "source": [
    "nodes_to_remove = ['Moorgate']\n",
    "london_network2.remove_nodes_from(nodes_to_remove)\n",
    "print(f'Number of connected components:{nx.number_connected_components(london_network2)}')"
   ]
  },
  {
   "cell_type": "code",
   "execution_count": 32,
   "id": "1bbc86ab-d7cf-47e1-8262-e97549ac9b0e",
   "metadata": {},
   "outputs": [],
   "source": [
    "# To obtain the largest component as a new graph: \n",
    "# Get the list of components:\n",
    "components = nx.connected_components(london_network2)\n",
    "# Use the max() command to find the largest one:\n",
    "largest_component = max(components, key=len)\n",
    "# Create a \"subgraph\" of the largest component\n",
    "Largest_subgraph = london_network2.subgraph(largest_component)"
   ]
  },
  {
   "cell_type": "code",
   "execution_count": 33,
   "id": "97ccb5b3-04ba-4cdd-9004-e9b77c3c3a69",
   "metadata": {},
   "outputs": [
    {
     "data": {
      "text/plain": [
       "45"
      ]
     },
     "execution_count": 33,
     "metadata": {},
     "output_type": "execute_result"
    }
   ],
   "source": [
    "# You can compute the diameter of this new graph \n",
    "diameter = nx.diameter(Largest_subgraph)\n",
    "diameter "
   ]
  },
  {
   "cell_type": "markdown",
   "id": "b2f7cf72-054d-4d05-8fe6-d89d24adfba5",
   "metadata": {},
   "source": [
    "#### Sequential removal"
   ]
  },
  {
   "cell_type": "code",
   "execution_count": 34,
   "id": "797cd4d0-2a88-4fad-8270-77b9c08b6a01",
   "metadata": {},
   "outputs": [],
   "source": [
    "london_network2=london_network.copy()"
   ]
  },
  {
   "cell_type": "code",
   "execution_count": 35,
   "id": "b9eb3875-b07f-4fa4-9cf8-6f982427360c",
   "metadata": {},
   "outputs": [
    {
     "name": "stdout",
     "output_type": "stream",
     "text": [
      "Number of connected components:1\n",
      "Diameter: 36\n"
     ]
    }
   ],
   "source": [
    "nodes_to_remove = ['Green Park']\n",
    "london_network2.remove_nodes_from(nodes_to_remove)\n",
    "print(f'Number of connected components:{nx.number_connected_components(london_network2)}')\n",
    "diameter = nx.diameter(london_network2)\n",
    "print(\"Diameter:\", diameter)"
   ]
  },
  {
   "cell_type": "code",
   "execution_count": 36,
   "id": "bd591615-5027-4f44-882f-fcb434819d00",
   "metadata": {},
   "outputs": [
    {
     "data": {
      "text/html": [
       "<div>\n",
       "<style scoped>\n",
       "    .dataframe tbody tr th:only-of-type {\n",
       "        vertical-align: middle;\n",
       "    }\n",
       "\n",
       "    .dataframe tbody tr th {\n",
       "        vertical-align: top;\n",
       "    }\n",
       "\n",
       "    .dataframe thead th {\n",
       "        text-align: right;\n",
       "    }\n",
       "</style>\n",
       "<table border=\"1\" class=\"dataframe\">\n",
       "  <thead>\n",
       "    <tr style=\"text-align: right;\">\n",
       "      <th></th>\n",
       "      <th>closeness_top</th>\n",
       "    </tr>\n",
       "  </thead>\n",
       "  <tbody>\n",
       "    <tr>\n",
       "      <th>King's Cross St. Pancras</th>\n",
       "      <td>0.112363</td>\n",
       "    </tr>\n",
       "  </tbody>\n",
       "</table>\n",
       "</div>"
      ],
      "text/plain": [
       "                          closeness_top\n",
       "King's Cross St. Pancras       0.112363"
      ]
     },
     "execution_count": 36,
     "metadata": {},
     "output_type": "execute_result"
    }
   ],
   "source": [
    "# topological closeness\n",
    "clos_top_london=nx.closeness_centrality(london_network2)\n",
    "\n",
    "# add the closeness centrality as attribute to the nodes in the graph\n",
    "nx.set_node_attributes(london_network,clos_top_london,'closeness_top')\n",
    "clos_top_london_df=pd.DataFrame.from_dict(clos_top_london,columns=['closeness_top'],orient='index')\n",
    "\n",
    "clos_top_london_df_sorted = clos_top_london_df.sort_values(by='closeness_top', ascending=False)\n",
    "clos_top_london_df_sorted[:1]"
   ]
  },
  {
   "cell_type": "code",
   "execution_count": 37,
   "id": "9b1fb9ce-bd5c-4550-bfb8-4df796ff35d6",
   "metadata": {
    "tags": []
   },
   "outputs": [
    {
     "name": "stdout",
     "output_type": "stream",
     "text": [
      "Number of connected components:1\n",
      "Diameter: 38\n"
     ]
    }
   ],
   "source": [
    "nodes_to_remove = [\"King's Cross St. Pancras\"]\n",
    "london_network2.remove_nodes_from(nodes_to_remove)\n",
    "print(f'Number of connected components:{nx.number_connected_components(london_network2)}')\n",
    "diameter = nx.diameter(london_network2)\n",
    "print(\"Diameter:\", diameter)"
   ]
  },
  {
   "cell_type": "code",
   "execution_count": 38,
   "id": "7c9a7f39-791d-4632-b141-a2ccd2c9c163",
   "metadata": {},
   "outputs": [
    {
     "data": {
      "text/html": [
       "<div>\n",
       "<style scoped>\n",
       "    .dataframe tbody tr th:only-of-type {\n",
       "        vertical-align: middle;\n",
       "    }\n",
       "\n",
       "    .dataframe tbody tr th {\n",
       "        vertical-align: top;\n",
       "    }\n",
       "\n",
       "    .dataframe thead th {\n",
       "        text-align: right;\n",
       "    }\n",
       "</style>\n",
       "<table border=\"1\" class=\"dataframe\">\n",
       "  <thead>\n",
       "    <tr style=\"text-align: right;\">\n",
       "      <th></th>\n",
       "      <th>closeness_top</th>\n",
       "    </tr>\n",
       "  </thead>\n",
       "  <tbody>\n",
       "    <tr>\n",
       "      <th>Waterloo</th>\n",
       "      <td>0.104654</td>\n",
       "    </tr>\n",
       "  </tbody>\n",
       "</table>\n",
       "</div>"
      ],
      "text/plain": [
       "          closeness_top\n",
       "Waterloo       0.104654"
      ]
     },
     "execution_count": 38,
     "metadata": {},
     "output_type": "execute_result"
    }
   ],
   "source": [
    "# topological closeness\n",
    "clos_top_london=nx.closeness_centrality(london_network2)\n",
    "\n",
    "# add the closeness centrality as attribute to the nodes in the graph\n",
    "nx.set_node_attributes(london_network,clos_top_london,'closeness_top')\n",
    "clos_top_london_df=pd.DataFrame.from_dict(clos_top_london,columns=['closeness_top'],orient='index')\n",
    "\n",
    "clos_top_london_df_sorted = clos_top_london_df.sort_values(by='closeness_top', ascending=False)\n",
    "clos_top_london_df_sorted[:1]"
   ]
  },
  {
   "cell_type": "code",
   "execution_count": 39,
   "id": "c5d92db6-9d8d-4e42-87f0-a58a380f9b7a",
   "metadata": {},
   "outputs": [
    {
     "name": "stdout",
     "output_type": "stream",
     "text": [
      "Number of connected components:1\n",
      "Diameter: 40\n"
     ]
    }
   ],
   "source": [
    "nodes_to_remove = ['Waterloo']\n",
    "london_network2.remove_nodes_from(nodes_to_remove)\n",
    "print(f'Number of connected components:{nx.number_connected_components(london_network2)}')\n",
    "diameter = nx.diameter(london_network2)\n",
    "print(\"Diameter:\", diameter)"
   ]
  },
  {
   "cell_type": "code",
   "execution_count": 40,
   "id": "8caf467d-0816-4862-b276-663b18704aec",
   "metadata": {},
   "outputs": [
    {
     "data": {
      "text/html": [
       "<div>\n",
       "<style scoped>\n",
       "    .dataframe tbody tr th:only-of-type {\n",
       "        vertical-align: middle;\n",
       "    }\n",
       "\n",
       "    .dataframe tbody tr th {\n",
       "        vertical-align: top;\n",
       "    }\n",
       "\n",
       "    .dataframe thead th {\n",
       "        text-align: right;\n",
       "    }\n",
       "</style>\n",
       "<table border=\"1\" class=\"dataframe\">\n",
       "  <thead>\n",
       "    <tr style=\"text-align: right;\">\n",
       "      <th></th>\n",
       "      <th>closeness_top</th>\n",
       "    </tr>\n",
       "  </thead>\n",
       "  <tbody>\n",
       "    <tr>\n",
       "      <th>Bank and Monument</th>\n",
       "      <td>0.097423</td>\n",
       "    </tr>\n",
       "  </tbody>\n",
       "</table>\n",
       "</div>"
      ],
      "text/plain": [
       "                   closeness_top\n",
       "Bank and Monument       0.097423"
      ]
     },
     "execution_count": 40,
     "metadata": {},
     "output_type": "execute_result"
    }
   ],
   "source": [
    "# topological closeness\n",
    "clos_top_london=nx.closeness_centrality(london_network2)\n",
    "\n",
    "# add the closeness centrality as attribute to the nodes in the graph\n",
    "nx.set_node_attributes(london_network,clos_top_london,'closeness_top')\n",
    "clos_top_london_df=pd.DataFrame.from_dict(clos_top_london,columns=['closeness_top'],orient='index')\n",
    "\n",
    "clos_top_london_df_sorted = clos_top_london_df.sort_values(by='closeness_top', ascending=False)\n",
    "clos_top_london_df_sorted[:1]"
   ]
  },
  {
   "cell_type": "code",
   "execution_count": 41,
   "id": "5e683d82-03cc-4023-a9f2-55be88c721a3",
   "metadata": {},
   "outputs": [
    {
     "name": "stdout",
     "output_type": "stream",
     "text": [
      "Number of connected components:1\n",
      "Diameter: 42\n"
     ]
    }
   ],
   "source": [
    "nodes_to_remove = ['Bank and Monument']\n",
    "london_network2.remove_nodes_from(nodes_to_remove)\n",
    "print(f'Number of connected components:{nx.number_connected_components(london_network2)}')\n",
    "diameter = nx.diameter(london_network2)\n",
    "print(\"Diameter:\", diameter)"
   ]
  },
  {
   "cell_type": "code",
   "execution_count": 42,
   "id": "30c3c497-0939-4a7d-9857-87183d01be37",
   "metadata": {},
   "outputs": [
    {
     "data": {
      "text/html": [
       "<div>\n",
       "<style scoped>\n",
       "    .dataframe tbody tr th:only-of-type {\n",
       "        vertical-align: middle;\n",
       "    }\n",
       "\n",
       "    .dataframe tbody tr th {\n",
       "        vertical-align: top;\n",
       "    }\n",
       "\n",
       "    .dataframe thead th {\n",
       "        text-align: right;\n",
       "    }\n",
       "</style>\n",
       "<table border=\"1\" class=\"dataframe\">\n",
       "  <thead>\n",
       "    <tr style=\"text-align: right;\">\n",
       "      <th></th>\n",
       "      <th>closeness_top</th>\n",
       "    </tr>\n",
       "  </thead>\n",
       "  <tbody>\n",
       "    <tr>\n",
       "      <th>West Hampstead</th>\n",
       "      <td>0.081734</td>\n",
       "    </tr>\n",
       "  </tbody>\n",
       "</table>\n",
       "</div>"
      ],
      "text/plain": [
       "                closeness_top\n",
       "West Hampstead       0.081734"
      ]
     },
     "execution_count": 42,
     "metadata": {},
     "output_type": "execute_result"
    }
   ],
   "source": [
    "# topological closeness\n",
    "clos_top_london=nx.closeness_centrality(london_network2)\n",
    "\n",
    "# add the closeness centrality as attribute to the nodes in the graph\n",
    "nx.set_node_attributes(london_network,clos_top_london,'closeness_top')\n",
    "clos_top_london_df=pd.DataFrame.from_dict(clos_top_london,columns=['closeness_top'],orient='index')\n",
    "\n",
    "clos_top_london_df_sorted = clos_top_london_df.sort_values(by='closeness_top', ascending=False)\n",
    "clos_top_london_df_sorted[:1]"
   ]
  },
  {
   "cell_type": "code",
   "execution_count": 43,
   "id": "127cf89f-936d-465d-9fc3-d47212fe2663",
   "metadata": {},
   "outputs": [
    {
     "name": "stdout",
     "output_type": "stream",
     "text": [
      "Number of connected components:1\n",
      "Diameter: 50\n"
     ]
    }
   ],
   "source": [
    "nodes_to_remove = ['West Hampstead']\n",
    "london_network2.remove_nodes_from(nodes_to_remove)\n",
    "print(f'Number of connected components:{nx.number_connected_components(london_network2)}')\n",
    "diameter = nx.diameter(london_network2)\n",
    "print(\"Diameter:\", diameter)"
   ]
  },
  {
   "cell_type": "code",
   "execution_count": 44,
   "id": "1ac47d9b-e565-4b28-b54b-ce0ab7c4c998",
   "metadata": {},
   "outputs": [
    {
     "data": {
      "text/html": [
       "<div>\n",
       "<style scoped>\n",
       "    .dataframe tbody tr th:only-of-type {\n",
       "        vertical-align: middle;\n",
       "    }\n",
       "\n",
       "    .dataframe tbody tr th {\n",
       "        vertical-align: top;\n",
       "    }\n",
       "\n",
       "    .dataframe thead th {\n",
       "        text-align: right;\n",
       "    }\n",
       "</style>\n",
       "<table border=\"1\" class=\"dataframe\">\n",
       "  <thead>\n",
       "    <tr style=\"text-align: right;\">\n",
       "      <th></th>\n",
       "      <th>closeness_top</th>\n",
       "    </tr>\n",
       "  </thead>\n",
       "  <tbody>\n",
       "    <tr>\n",
       "      <th>Canada Water</th>\n",
       "      <td>0.075976</td>\n",
       "    </tr>\n",
       "  </tbody>\n",
       "</table>\n",
       "</div>"
      ],
      "text/plain": [
       "              closeness_top\n",
       "Canada Water       0.075976"
      ]
     },
     "execution_count": 44,
     "metadata": {},
     "output_type": "execute_result"
    }
   ],
   "source": [
    "# topological closeness\n",
    "clos_top_london=nx.closeness_centrality(london_network2)\n",
    "\n",
    "# add the closeness centrality as attribute to the nodes in the graph\n",
    "nx.set_node_attributes(london_network,clos_top_london,'closeness_top')\n",
    "clos_top_london_df=pd.DataFrame.from_dict(clos_top_london,columns=['closeness_top'],orient='index')\n",
    "\n",
    "clos_top_london_df_sorted = clos_top_london_df.sort_values(by='closeness_top', ascending=False)\n",
    "clos_top_london_df_sorted[:1]"
   ]
  },
  {
   "cell_type": "code",
   "execution_count": 45,
   "id": "73f8923e-1d70-400e-b924-e8626eadeb4a",
   "metadata": {},
   "outputs": [
    {
     "name": "stdout",
     "output_type": "stream",
     "text": [
      "Number of connected components:2\n"
     ]
    }
   ],
   "source": [
    "nodes_to_remove = ['Canada Water']\n",
    "london_network2.remove_nodes_from(nodes_to_remove)\n",
    "print(f'Number of connected components:{nx.number_connected_components(london_network2)}')"
   ]
  },
  {
   "cell_type": "code",
   "execution_count": 46,
   "id": "c3ac96d8-28d9-46e6-b1a2-500ee3b5221a",
   "metadata": {},
   "outputs": [
    {
     "data": {
      "text/plain": [
       "[226, 169]"
      ]
     },
     "execution_count": 46,
     "metadata": {},
     "output_type": "execute_result"
    }
   ],
   "source": [
    "# To comput the size ( number of node) of each component\n",
    "Subg = [london_network2.subgraph(c).copy() for c in nx.connected_components(london_network2)]\n",
    "[len(subgraph.nodes) for subgraph in Subg]"
   ]
  },
  {
   "cell_type": "code",
   "execution_count": 47,
   "id": "11a52893-15e0-410e-85f7-e4d89dbb7a93",
   "metadata": {},
   "outputs": [],
   "source": [
    "# To obtain the largest component as a new graph: \n",
    "\n",
    "# Get the list of components:\n",
    "components = nx.connected_components(london_network2)\n",
    "# Use the max() command to find the largest one:\n",
    "largest_component = max(components, key=len)\n",
    "# Create a \"subgraph\" of the largest component\n",
    "Largest_subgraph = london_network2.subgraph(largest_component).copy()"
   ]
  },
  {
   "cell_type": "code",
   "execution_count": 48,
   "id": "c25183ff-82d1-418c-a576-ff0b86672d61",
   "metadata": {},
   "outputs": [
    {
     "data": {
      "text/plain": [
       "38"
      ]
     },
     "execution_count": 48,
     "metadata": {},
     "output_type": "execute_result"
    }
   ],
   "source": [
    "# You can compute the diameter of this new graph \n",
    "diameter = nx.diameter(Largest_subgraph)\n",
    "diameter "
   ]
  },
  {
   "cell_type": "code",
   "execution_count": 49,
   "id": "61fe6458-e620-4c91-97b2-1b962d2fdaa8",
   "metadata": {},
   "outputs": [
    {
     "data": {
      "text/html": [
       "<div>\n",
       "<style scoped>\n",
       "    .dataframe tbody tr th:only-of-type {\n",
       "        vertical-align: middle;\n",
       "    }\n",
       "\n",
       "    .dataframe tbody tr th {\n",
       "        vertical-align: top;\n",
       "    }\n",
       "\n",
       "    .dataframe thead th {\n",
       "        text-align: right;\n",
       "    }\n",
       "</style>\n",
       "<table border=\"1\" class=\"dataframe\">\n",
       "  <thead>\n",
       "    <tr style=\"text-align: right;\">\n",
       "      <th></th>\n",
       "      <th>closeness_top</th>\n",
       "    </tr>\n",
       "  </thead>\n",
       "  <tbody>\n",
       "    <tr>\n",
       "      <th>Earl's Court</th>\n",
       "      <td>0.111166</td>\n",
       "    </tr>\n",
       "  </tbody>\n",
       "</table>\n",
       "</div>"
      ],
      "text/plain": [
       "              closeness_top\n",
       "Earl's Court       0.111166"
      ]
     },
     "execution_count": 49,
     "metadata": {},
     "output_type": "execute_result"
    }
   ],
   "source": [
    "# topological closeness\n",
    "clos_top_london=nx.closeness_centrality(Largest_subgraph)\n",
    "\n",
    "# add the closeness centrality as attribute to the nodes in the graph\n",
    "nx.set_node_attributes(Largest_subgraph,clos_top_london,'closeness_top')\n",
    "clos_top_london_df=pd.DataFrame.from_dict(clos_top_london,columns=['closeness_top'],orient='index')\n",
    "\n",
    "clos_top_london_df_sorted = clos_top_london_df.sort_values(by='closeness_top', ascending=False)\n",
    "clos_top_london_df_sorted[:1]"
   ]
  },
  {
   "cell_type": "code",
   "execution_count": 50,
   "id": "4872e69e-0501-4abf-97d8-aedce89637fc",
   "metadata": {},
   "outputs": [
    {
     "name": "stdout",
     "output_type": "stream",
     "text": [
      "Number of connected components:1\n",
      "Diameter: 39\n"
     ]
    }
   ],
   "source": [
    "nodes_to_remove = [\"Earl's Court\"]\n",
    "Largest_subgraph.remove_nodes_from(nodes_to_remove)\n",
    "print(f'Number of connected components:{nx.number_connected_components(Largest_subgraph)}')\n",
    "diameter = nx.diameter(Largest_subgraph)\n",
    "print(\"Diameter:\", diameter)"
   ]
  },
  {
   "cell_type": "code",
   "execution_count": 51,
   "id": "5af78470-9f14-4106-b297-16c944597284",
   "metadata": {},
   "outputs": [
    {
     "data": {
      "text/html": [
       "<div>\n",
       "<style scoped>\n",
       "    .dataframe tbody tr th:only-of-type {\n",
       "        vertical-align: middle;\n",
       "    }\n",
       "\n",
       "    .dataframe tbody tr th {\n",
       "        vertical-align: top;\n",
       "    }\n",
       "\n",
       "    .dataframe thead th {\n",
       "        text-align: right;\n",
       "    }\n",
       "</style>\n",
       "<table border=\"1\" class=\"dataframe\">\n",
       "  <thead>\n",
       "    <tr style=\"text-align: right;\">\n",
       "      <th></th>\n",
       "      <th>closeness_top</th>\n",
       "    </tr>\n",
       "  </thead>\n",
       "  <tbody>\n",
       "    <tr>\n",
       "      <th>Shepherd's Bush</th>\n",
       "      <td>0.10576</td>\n",
       "    </tr>\n",
       "  </tbody>\n",
       "</table>\n",
       "</div>"
      ],
      "text/plain": [
       "                 closeness_top\n",
       "Shepherd's Bush        0.10576"
      ]
     },
     "execution_count": 51,
     "metadata": {},
     "output_type": "execute_result"
    }
   ],
   "source": [
    "# topological closeness\n",
    "clos_top_london=nx.closeness_centrality(Largest_subgraph)\n",
    "\n",
    "# add the closeness centrality as attribute to the nodes in the graph\n",
    "nx.set_node_attributes(Largest_subgraph,clos_top_london,'closeness_top')\n",
    "clos_top_london_df=pd.DataFrame.from_dict(clos_top_london,columns=['closeness_top'],orient='index')\n",
    "\n",
    "clos_top_london_df_sorted = clos_top_london_df.sort_values(by='closeness_top', ascending=False)\n",
    "clos_top_london_df_sorted[:1]"
   ]
  },
  {
   "cell_type": "code",
   "execution_count": 52,
   "id": "8e5b35e6-ec18-41bf-aa2f-90b8935adc3d",
   "metadata": {},
   "outputs": [
    {
     "name": "stdout",
     "output_type": "stream",
     "text": [
      "Number of connected components:2\n"
     ]
    }
   ],
   "source": [
    "nodes_to_remove = [\"Shepherd's Bush\"]\n",
    "Largest_subgraph.remove_nodes_from(nodes_to_remove)\n",
    "print(f'Number of connected components:{nx.number_connected_components(Largest_subgraph)}')"
   ]
  },
  {
   "cell_type": "code",
   "execution_count": 53,
   "id": "76be9192-f5f9-441c-bc65-81c072ffb186",
   "metadata": {},
   "outputs": [
    {
     "data": {
      "text/plain": [
       "[195, 29]"
      ]
     },
     "execution_count": 53,
     "metadata": {},
     "output_type": "execute_result"
    }
   ],
   "source": [
    "# To comput the size ( number of node) of each component\n",
    "Subg = [Largest_subgraph.subgraph(c).copy() for c in nx.connected_components(Largest_subgraph)]\n",
    "[len(subgraph.nodes) for subgraph in Subg]"
   ]
  },
  {
   "cell_type": "code",
   "execution_count": 54,
   "id": "de30c773-2ca0-4912-959d-e64852946fac",
   "metadata": {},
   "outputs": [],
   "source": [
    "# To obtain the largest component as a new graph: \n",
    "\n",
    "# Get the list of components:\n",
    "components = nx.connected_components(Largest_subgraph)\n",
    "# Use the max() command to find the largest one:\n",
    "largest_component = max(components, key=len)\n",
    "# Create a \"subgraph\" of the largest component\n",
    "Largest_subgraph = Largest_subgraph.subgraph(largest_component).copy()"
   ]
  },
  {
   "cell_type": "code",
   "execution_count": 55,
   "id": "44972d03-feab-429b-a2c6-6fe89c990985",
   "metadata": {},
   "outputs": [
    {
     "data": {
      "text/plain": [
       "40"
      ]
     },
     "execution_count": 55,
     "metadata": {},
     "output_type": "execute_result"
    }
   ],
   "source": [
    "# You can compute the diameter of this new graph \n",
    "diameter = nx.diameter(Largest_subgraph)\n",
    "diameter "
   ]
  },
  {
   "cell_type": "code",
   "execution_count": 56,
   "id": "fcf8cc3c-8f21-430e-bd3e-fda4208f3ac3",
   "metadata": {},
   "outputs": [
    {
     "data": {
      "text/html": [
       "<div>\n",
       "<style scoped>\n",
       "    .dataframe tbody tr th:only-of-type {\n",
       "        vertical-align: middle;\n",
       "    }\n",
       "\n",
       "    .dataframe tbody tr th {\n",
       "        vertical-align: top;\n",
       "    }\n",
       "\n",
       "    .dataframe thead th {\n",
       "        text-align: right;\n",
       "    }\n",
       "</style>\n",
       "<table border=\"1\" class=\"dataframe\">\n",
       "  <thead>\n",
       "    <tr style=\"text-align: right;\">\n",
       "      <th></th>\n",
       "      <th>closeness_top</th>\n",
       "    </tr>\n",
       "  </thead>\n",
       "  <tbody>\n",
       "    <tr>\n",
       "      <th>Oxford Circus</th>\n",
       "      <td>0.101784</td>\n",
       "    </tr>\n",
       "  </tbody>\n",
       "</table>\n",
       "</div>"
      ],
      "text/plain": [
       "               closeness_top\n",
       "Oxford Circus       0.101784"
      ]
     },
     "execution_count": 56,
     "metadata": {},
     "output_type": "execute_result"
    }
   ],
   "source": [
    "# topological closeness\n",
    "clos_top_london=nx.closeness_centrality(Largest_subgraph)\n",
    "\n",
    "# add the closeness centrality as attribute to the nodes in the graph\n",
    "nx.set_node_attributes(Largest_subgraph,clos_top_london,'closeness_top')\n",
    "clos_top_london_df=pd.DataFrame.from_dict(clos_top_london,columns=['closeness_top'],orient='index')\n",
    "\n",
    "clos_top_london_df_sorted = clos_top_london_df.sort_values(by='closeness_top', ascending=False)\n",
    "clos_top_london_df_sorted[:1]"
   ]
  },
  {
   "cell_type": "code",
   "execution_count": 57,
   "id": "51f1de23-064a-4000-aa04-a4552302ca9c",
   "metadata": {},
   "outputs": [
    {
     "name": "stdout",
     "output_type": "stream",
     "text": [
      "Number of connected components:1\n",
      "Diameter: 40\n"
     ]
    }
   ],
   "source": [
    "nodes_to_remove = [\"Oxford Circus\"]\n",
    "Largest_subgraph.remove_nodes_from(nodes_to_remove)\n",
    "print(f'Number of connected components:{nx.number_connected_components(Largest_subgraph)}')\n",
    "diameter = nx.diameter(Largest_subgraph)\n",
    "print(\"Diameter:\", diameter)"
   ]
  },
  {
   "cell_type": "code",
   "execution_count": 58,
   "id": "eae900b1-bd69-4699-8f6d-fe003d8a32a3",
   "metadata": {},
   "outputs": [
    {
     "data": {
      "text/html": [
       "<div>\n",
       "<style scoped>\n",
       "    .dataframe tbody tr th:only-of-type {\n",
       "        vertical-align: middle;\n",
       "    }\n",
       "\n",
       "    .dataframe tbody tr th {\n",
       "        vertical-align: top;\n",
       "    }\n",
       "\n",
       "    .dataframe thead th {\n",
       "        text-align: right;\n",
       "    }\n",
       "</style>\n",
       "<table border=\"1\" class=\"dataframe\">\n",
       "  <thead>\n",
       "    <tr style=\"text-align: right;\">\n",
       "      <th></th>\n",
       "      <th>closeness_top</th>\n",
       "    </tr>\n",
       "  </thead>\n",
       "  <tbody>\n",
       "    <tr>\n",
       "      <th>Paddington</th>\n",
       "      <td>0.095356</td>\n",
       "    </tr>\n",
       "  </tbody>\n",
       "</table>\n",
       "</div>"
      ],
      "text/plain": [
       "            closeness_top\n",
       "Paddington       0.095356"
      ]
     },
     "execution_count": 58,
     "metadata": {},
     "output_type": "execute_result"
    }
   ],
   "source": [
    "# topological closeness\n",
    "clos_top_london=nx.closeness_centrality(Largest_subgraph)\n",
    "\n",
    "# add the closeness centrality as attribute to the nodes in the graph\n",
    "nx.set_node_attributes(Largest_subgraph,clos_top_london,'closeness_top')\n",
    "clos_top_london_df=pd.DataFrame.from_dict(clos_top_london,columns=['closeness_top'],orient='index')\n",
    "\n",
    "clos_top_london_df_sorted = clos_top_london_df.sort_values(by='closeness_top', ascending=False)\n",
    "clos_top_london_df_sorted[:1]"
   ]
  },
  {
   "cell_type": "code",
   "execution_count": 59,
   "id": "dd8947df-4a66-4a69-b4bf-6c94f7129488",
   "metadata": {},
   "outputs": [
    {
     "name": "stdout",
     "output_type": "stream",
     "text": [
      "Number of connected components:1\n",
      "Diameter: 42\n"
     ]
    }
   ],
   "source": [
    "nodes_to_remove = [\"Paddington\"]\n",
    "Largest_subgraph.remove_nodes_from(nodes_to_remove)\n",
    "print(f'Number of connected components:{nx.number_connected_components(Largest_subgraph)}')\n",
    "diameter = nx.diameter(Largest_subgraph)\n",
    "print(\"Diameter:\", diameter)"
   ]
  },
  {
   "cell_type": "markdown",
   "id": "7fe41119-d82b-4cd4-bb1f-7491a89c4b95",
   "metadata": {},
   "source": [
    "### betweenness centrality"
   ]
  },
  {
   "cell_type": "markdown",
   "id": "cfe9ab35-530b-451e-a824-70c56bd7ed3a",
   "metadata": {},
   "source": [
    "#### Non-sequential removal"
   ]
  },
  {
   "cell_type": "code",
   "execution_count": 60,
   "id": "8056fbac-adfb-4261-979f-563b8a2c9dde",
   "metadata": {},
   "outputs": [],
   "source": [
    "london_network3=london_network.copy()"
   ]
  },
  {
   "cell_type": "code",
   "execution_count": 61,
   "id": "a923dc19-efe6-4bb5-b7a5-e9792de1b2c2",
   "metadata": {},
   "outputs": [
    {
     "name": "stdout",
     "output_type": "stream",
     "text": [
      "Number of connected components:3\n"
     ]
    }
   ],
   "source": [
    "nodes_to_remove = ['Stratford']\n",
    "london_network3.remove_nodes_from(nodes_to_remove)\n",
    "print(f'Number of connected components:{nx.number_connected_components(london_network3)}')"
   ]
  },
  {
   "cell_type": "code",
   "execution_count": 62,
   "id": "157facf7-bc4f-4b1c-901c-14e1a2049492",
   "metadata": {},
   "outputs": [
    {
     "data": {
      "text/plain": [
       "49"
      ]
     },
     "execution_count": 62,
     "metadata": {},
     "output_type": "execute_result"
    }
   ],
   "source": [
    "# To obtain the largest component as a new graph: \n",
    "# Get the list of components:\n",
    "components = nx.connected_components(london_network3)\n",
    "# Use the max() command to find the largest one:\n",
    "largest_component = max(components, key=len)\n",
    "# Create a \"subgraph\" of the largest component\n",
    "Largest_subgraph = london_network3.subgraph(largest_component).copy()\n",
    "diameter = nx.diameter(Largest_subgraph)\n",
    "diameter "
   ]
  },
  {
   "cell_type": "code",
   "execution_count": 63,
   "id": "d6880271-7487-4c5e-85a0-7d0eb46386cc",
   "metadata": {},
   "outputs": [
    {
     "name": "stdout",
     "output_type": "stream",
     "text": [
      "Number of connected components:3\n"
     ]
    },
    {
     "data": {
      "text/plain": [
       "49"
      ]
     },
     "execution_count": 63,
     "metadata": {},
     "output_type": "execute_result"
    }
   ],
   "source": [
    "nodes_to_remove = ['Bank and Monument']\n",
    "london_network3.remove_nodes_from(nodes_to_remove)\n",
    "print(f'Number of connected components:{nx.number_connected_components(london_network3)}')\n",
    "# To obtain the largest component as a new graph: \n",
    "# Get the list of components:\n",
    "components = nx.connected_components(london_network3)\n",
    "# Use the max() command to find the largest one:\n",
    "largest_component = max(components, key=len)\n",
    "# Create a \"subgraph\" of the largest component\n",
    "Largest_subgraph = london_network3.subgraph(largest_component).copy()\n",
    "diameter = nx.diameter(Largest_subgraph)\n",
    "diameter "
   ]
  },
  {
   "cell_type": "code",
   "execution_count": 64,
   "id": "cb2d3b65-216e-457b-964d-c1a2fc9b86d8",
   "metadata": {},
   "outputs": [
    {
     "name": "stdout",
     "output_type": "stream",
     "text": [
      "Number of connected components:3\n"
     ]
    },
    {
     "data": {
      "text/plain": [
       "49"
      ]
     },
     "execution_count": 64,
     "metadata": {},
     "output_type": "execute_result"
    }
   ],
   "source": [
    "nodes_to_remove = ['Liverpool Street']\n",
    "london_network3.remove_nodes_from(nodes_to_remove)\n",
    "print(f'Number of connected components:{nx.number_connected_components(london_network3)}')\n",
    "# To obtain the largest component as a new graph: \n",
    "# Get the list of components:\n",
    "components = nx.connected_components(london_network3)\n",
    "# Use the max() command to find the largest one:\n",
    "largest_component = max(components, key=len)\n",
    "# Create a \"subgraph\" of the largest component\n",
    "Largest_subgraph = london_network3.subgraph(largest_component).copy()\n",
    "diameter = nx.diameter(Largest_subgraph)\n",
    "diameter "
   ]
  },
  {
   "cell_type": "code",
   "execution_count": 65,
   "id": "767314ba-e42b-4cd1-8699-1bfd72c715c3",
   "metadata": {},
   "outputs": [
    {
     "name": "stdout",
     "output_type": "stream",
     "text": [
      "Number of connected components:4\n"
     ]
    },
    {
     "data": {
      "text/plain": [
       "49"
      ]
     },
     "execution_count": 65,
     "metadata": {},
     "output_type": "execute_result"
    }
   ],
   "source": [
    "nodes_to_remove = [\"King's Cross St. Pancras\"]\n",
    "london_network3.remove_nodes_from(nodes_to_remove)\n",
    "print(f'Number of connected components:{nx.number_connected_components(london_network3)}')\n",
    "# To obtain the largest component as a new graph: \n",
    "# Get the list of components:\n",
    "components = nx.connected_components(london_network3)\n",
    "# Use the max() command to find the largest one:\n",
    "largest_component = max(components, key=len)\n",
    "# Create a \"subgraph\" of the largest component\n",
    "Largest_subgraph = london_network3.subgraph(largest_component).copy()\n",
    "diameter = nx.diameter(Largest_subgraph)\n",
    "diameter "
   ]
  },
  {
   "cell_type": "code",
   "execution_count": 66,
   "id": "584e6a96-d7e7-45ae-83f1-0d2082afb9eb",
   "metadata": {},
   "outputs": [
    {
     "name": "stdout",
     "output_type": "stream",
     "text": [
      "Number of connected components:4\n"
     ]
    },
    {
     "data": {
      "text/plain": [
       "49"
      ]
     },
     "execution_count": 66,
     "metadata": {},
     "output_type": "execute_result"
    }
   ],
   "source": [
    "nodes_to_remove = ['Waterloo']\n",
    "london_network3.remove_nodes_from(nodes_to_remove)\n",
    "print(f'Number of connected components:{nx.number_connected_components(london_network3)}')\n",
    "# To obtain the largest component as a new graph: \n",
    "# Get the list of components:\n",
    "components = nx.connected_components(london_network3)\n",
    "# Use the max() command to find the largest one:\n",
    "largest_component = max(components, key=len)\n",
    "# Create a \"subgraph\" of the largest component\n",
    "Largest_subgraph = london_network3.subgraph(largest_component).copy()\n",
    "diameter = nx.diameter(Largest_subgraph)\n",
    "diameter "
   ]
  },
  {
   "cell_type": "code",
   "execution_count": 67,
   "id": "4047cae5-783e-43fd-b32a-711efe0c6ad6",
   "metadata": {},
   "outputs": [
    {
     "name": "stdout",
     "output_type": "stream",
     "text": [
      "Number of connected components:4\n"
     ]
    },
    {
     "data": {
      "text/plain": [
       "49"
      ]
     },
     "execution_count": 67,
     "metadata": {},
     "output_type": "execute_result"
    }
   ],
   "source": [
    "nodes_to_remove = ['Green Park']\n",
    "london_network3.remove_nodes_from(nodes_to_remove)\n",
    "print(f'Number of connected components:{nx.number_connected_components(london_network3)}')\n",
    "# To obtain the largest component as a new graph: \n",
    "# Get the list of components:\n",
    "components = nx.connected_components(london_network3)\n",
    "# Use the max() command to find the largest one:\n",
    "largest_component = max(components, key=len)\n",
    "# Create a \"subgraph\" of the largest component\n",
    "Largest_subgraph = london_network3.subgraph(largest_component).copy()\n",
    "diameter = nx.diameter(Largest_subgraph)\n",
    "diameter "
   ]
  },
  {
   "cell_type": "code",
   "execution_count": 68,
   "id": "34299630-f9c9-4db0-8932-50dc81560948",
   "metadata": {},
   "outputs": [
    {
     "name": "stdout",
     "output_type": "stream",
     "text": [
      "Number of connected components:5\n"
     ]
    },
    {
     "data": {
      "text/plain": [
       "49"
      ]
     },
     "execution_count": 68,
     "metadata": {},
     "output_type": "execute_result"
    }
   ],
   "source": [
    "nodes_to_remove = ['Euston']\n",
    "london_network3.remove_nodes_from(nodes_to_remove)\n",
    "print(f'Number of connected components:{nx.number_connected_components(london_network3)}')\n",
    "# To obtain the largest component as a new graph: \n",
    "# Get the list of components:\n",
    "components = nx.connected_components(london_network3)\n",
    "# Use the max() command to find the largest one:\n",
    "largest_component = max(components, key=len)\n",
    "# Create a \"subgraph\" of the largest component\n",
    "Largest_subgraph = london_network3.subgraph(largest_component).copy()\n",
    "diameter = nx.diameter(Largest_subgraph)\n",
    "diameter "
   ]
  },
  {
   "cell_type": "code",
   "execution_count": 69,
   "id": "861221ec-c592-4b5e-b8c7-fa2b08f75eb1",
   "metadata": {},
   "outputs": [
    {
     "name": "stdout",
     "output_type": "stream",
     "text": [
      "Number of connected components:5\n"
     ]
    },
    {
     "data": {
      "text/plain": [
       "49"
      ]
     },
     "execution_count": 69,
     "metadata": {},
     "output_type": "execute_result"
    }
   ],
   "source": [
    "nodes_to_remove = ['Westminster']\n",
    "london_network3.remove_nodes_from(nodes_to_remove)\n",
    "print(f'Number of connected components:{nx.number_connected_components(london_network3)}')\n",
    "# To obtain the largest component as a new graph: \n",
    "# Get the list of components:\n",
    "components = nx.connected_components(london_network3)\n",
    "# Use the max() command to find the largest one:\n",
    "largest_component = max(components, key=len)\n",
    "# Create a \"subgraph\" of the largest component\n",
    "Largest_subgraph = london_network3.subgraph(largest_component).copy()\n",
    "diameter = nx.diameter(Largest_subgraph)\n",
    "diameter "
   ]
  },
  {
   "cell_type": "code",
   "execution_count": 70,
   "id": "ad67b7f7-53df-4347-bf7a-c2dfc0c698a3",
   "metadata": {},
   "outputs": [
    {
     "name": "stdout",
     "output_type": "stream",
     "text": [
      "Number of connected components:6\n"
     ]
    },
    {
     "data": {
      "text/plain": [
       "49"
      ]
     },
     "execution_count": 70,
     "metadata": {},
     "output_type": "execute_result"
    }
   ],
   "source": [
    "nodes_to_remove = ['Baker Street']\n",
    "london_network3.remove_nodes_from(nodes_to_remove)\n",
    "print(f'Number of connected components:{nx.number_connected_components(london_network3)}')\n",
    "# To obtain the largest component as a new graph: \n",
    "# Get the list of components:\n",
    "components = nx.connected_components(london_network3)\n",
    "# Use the max() command to find the largest one:\n",
    "largest_component = max(components, key=len)\n",
    "# Create a \"subgraph\" of the largest component\n",
    "Largest_subgraph = london_network3.subgraph(largest_component).copy()\n",
    "diameter = nx.diameter(Largest_subgraph)\n",
    "diameter "
   ]
  },
  {
   "cell_type": "code",
   "execution_count": 71,
   "id": "8a1f8aac-c197-4dd1-a2dd-1f660a46f664",
   "metadata": {},
   "outputs": [
    {
     "name": "stdout",
     "output_type": "stream",
     "text": [
      "Number of connected components:7\n"
     ]
    },
    {
     "data": {
      "text/plain": [
       "49"
      ]
     },
     "execution_count": 71,
     "metadata": {},
     "output_type": "execute_result"
    }
   ],
   "source": [
    "nodes_to_remove = ['Finchley Road']\n",
    "london_network3.remove_nodes_from(nodes_to_remove)\n",
    "print(f'Number of connected components:{nx.number_connected_components(london_network3)}')\n",
    "# To obtain the largest component as a new graph: \n",
    "# Get the list of components:\n",
    "components = nx.connected_components(london_network3)\n",
    "# Use the max() command to find the largest one:\n",
    "largest_component = max(components, key=len)\n",
    "# Create a \"subgraph\" of the largest component\n",
    "Largest_subgraph = london_network3.subgraph(largest_component).copy()\n",
    "diameter = nx.diameter(Largest_subgraph)\n",
    "diameter "
   ]
  },
  {
   "cell_type": "markdown",
   "id": "4c226c10-5f55-4253-9aaa-52edaf6f6e10",
   "metadata": {},
   "source": [
    "#### Sequential removal"
   ]
  },
  {
   "cell_type": "code",
   "execution_count": 72,
   "id": "4b5ca5d9-52c9-4822-b1d9-1a430296fd1e",
   "metadata": {},
   "outputs": [],
   "source": [
    "london_network3=london_network.copy()"
   ]
  },
  {
   "cell_type": "code",
   "execution_count": 73,
   "id": "f0aa989d-e39b-464f-8dde-b22a0e9e798c",
   "metadata": {},
   "outputs": [
    {
     "name": "stdout",
     "output_type": "stream",
     "text": [
      "Number of connected components:3\n"
     ]
    },
    {
     "data": {
      "text/plain": [
       "49"
      ]
     },
     "execution_count": 73,
     "metadata": {},
     "output_type": "execute_result"
    }
   ],
   "source": [
    "nodes_to_remove = ['Stratford']\n",
    "london_network3.remove_nodes_from(nodes_to_remove)\n",
    "print(f'Number of connected components:{nx.number_connected_components(london_network3)}')\n",
    "# To obtain the largest component as a new graph: \n",
    "# Get the list of components:\n",
    "components = nx.connected_components(london_network3)\n",
    "# Use the max() command to find the largest one:\n",
    "largest_component = max(components, key=len)\n",
    "# Create a \"subgraph\" of the largest component\n",
    "Largest_subgraph = london_network3.subgraph(largest_component).copy()\n",
    "diameter = nx.diameter(Largest_subgraph)\n",
    "diameter "
   ]
  },
  {
   "cell_type": "code",
   "execution_count": 74,
   "id": "3133fbe1-adeb-4c1b-a4f3-1f212501023a",
   "metadata": {},
   "outputs": [
    {
     "data": {
      "text/html": [
       "<div>\n",
       "<style scoped>\n",
       "    .dataframe tbody tr th:only-of-type {\n",
       "        vertical-align: middle;\n",
       "    }\n",
       "\n",
       "    .dataframe tbody tr th {\n",
       "        vertical-align: top;\n",
       "    }\n",
       "\n",
       "    .dataframe thead th {\n",
       "        text-align: right;\n",
       "    }\n",
       "</style>\n",
       "<table border=\"1\" class=\"dataframe\">\n",
       "  <thead>\n",
       "    <tr style=\"text-align: right;\">\n",
       "      <th></th>\n",
       "      <th>betweenness_top</th>\n",
       "    </tr>\n",
       "  </thead>\n",
       "  <tbody>\n",
       "    <tr>\n",
       "      <th>King's Cross St. Pancras</th>\n",
       "      <td>0.275538</td>\n",
       "    </tr>\n",
       "  </tbody>\n",
       "</table>\n",
       "</div>"
      ],
      "text/plain": [
       "                          betweenness_top\n",
       "King's Cross St. Pancras         0.275538"
      ]
     },
     "execution_count": 74,
     "metadata": {},
     "output_type": "execute_result"
    }
   ],
   "source": [
    "# topological closeness\n",
    "bet_top_london=nx.betweenness_centrality(Largest_subgraph)\n",
    "\n",
    "# add the closeness centrality as attribute to the nodes in the graph\n",
    "nx.set_node_attributes(Largest_subgraph,bet_top_london,'betweenness_top')\n",
    "bet_top_london_df=pd.DataFrame.from_dict(bet_top_london,columns=['betweenness_top'],orient='index')\n",
    "\n",
    "bet_top_london_df_sorted = bet_top_london_df.sort_values(by='betweenness_top', ascending=False)\n",
    "bet_top_london_df_sorted[:1]"
   ]
  },
  {
   "cell_type": "code",
   "execution_count": 75,
   "id": "5750bd3f-c04e-4600-8955-16e6312a21dc",
   "metadata": {},
   "outputs": [
    {
     "name": "stdout",
     "output_type": "stream",
     "text": [
      "Number of connected components:1\n"
     ]
    },
    {
     "data": {
      "text/plain": [
       "49"
      ]
     },
     "execution_count": 75,
     "metadata": {},
     "output_type": "execute_result"
    }
   ],
   "source": [
    "nodes_to_remove = [\"King's Cross St. Pancras\"]\n",
    "Largest_subgraph.remove_nodes_from(nodes_to_remove)\n",
    "print(f'Number of connected components:{nx.number_connected_components(Largest_subgraph)}')\n",
    "# To obtain the largest component as a new graph: \n",
    "# Get the list of components:\n",
    "components = nx.connected_components(Largest_subgraph)\n",
    "# Use the max() command to find the largest one:\n",
    "largest_component = max(components, key=len)\n",
    "# Create a \"subgraph\" of the largest component\n",
    "Largest_subgraph = Largest_subgraph.subgraph(largest_component).copy()\n",
    "diameter = nx.diameter(Largest_subgraph)\n",
    "diameter "
   ]
  },
  {
   "cell_type": "code",
   "execution_count": 76,
   "id": "01295cf6-0762-40a0-8e68-318c7ca0ed89",
   "metadata": {},
   "outputs": [
    {
     "data": {
      "text/html": [
       "<div>\n",
       "<style scoped>\n",
       "    .dataframe tbody tr th:only-of-type {\n",
       "        vertical-align: middle;\n",
       "    }\n",
       "\n",
       "    .dataframe tbody tr th {\n",
       "        vertical-align: top;\n",
       "    }\n",
       "\n",
       "    .dataframe thead th {\n",
       "        text-align: right;\n",
       "    }\n",
       "</style>\n",
       "<table border=\"1\" class=\"dataframe\">\n",
       "  <thead>\n",
       "    <tr style=\"text-align: right;\">\n",
       "      <th></th>\n",
       "      <th>betweenness_top</th>\n",
       "    </tr>\n",
       "  </thead>\n",
       "  <tbody>\n",
       "    <tr>\n",
       "      <th>Waterloo</th>\n",
       "      <td>0.283326</td>\n",
       "    </tr>\n",
       "  </tbody>\n",
       "</table>\n",
       "</div>"
      ],
      "text/plain": [
       "          betweenness_top\n",
       "Waterloo         0.283326"
      ]
     },
     "execution_count": 76,
     "metadata": {},
     "output_type": "execute_result"
    }
   ],
   "source": [
    "# topological closeness\n",
    "bet_top_london=nx.betweenness_centrality(Largest_subgraph)\n",
    "\n",
    "# add the closeness centrality as attribute to the nodes in the graph\n",
    "nx.set_node_attributes(Largest_subgraph,bet_top_london,'betweenness_top')\n",
    "bet_top_london_df=pd.DataFrame.from_dict(bet_top_london,columns=['betweenness_top'],orient='index')\n",
    "\n",
    "bet_top_london_df_sorted = bet_top_london_df.sort_values(by='betweenness_top', ascending=False)\n",
    "bet_top_london_df_sorted[:1]"
   ]
  },
  {
   "cell_type": "code",
   "execution_count": 77,
   "id": "40dc0175-a23e-44b7-8f20-3b4d2ea776d0",
   "metadata": {},
   "outputs": [
    {
     "name": "stdout",
     "output_type": "stream",
     "text": [
      "Number of connected components:1\n"
     ]
    },
    {
     "data": {
      "text/plain": [
       "49"
      ]
     },
     "execution_count": 77,
     "metadata": {},
     "output_type": "execute_result"
    }
   ],
   "source": [
    "nodes_to_remove = [\"Waterloo\"]\n",
    "Largest_subgraph.remove_nodes_from(nodes_to_remove)\n",
    "print(f'Number of connected components:{nx.number_connected_components(Largest_subgraph)}')\n",
    "# To obtain the largest component as a new graph: \n",
    "# Get the list of components:\n",
    "components = nx.connected_components(Largest_subgraph)\n",
    "# Use the max() command to find the largest one:\n",
    "largest_component = max(components, key=len)\n",
    "# Create a \"subgraph\" of the largest component\n",
    "Largest_subgraph = Largest_subgraph.subgraph(largest_component).copy()\n",
    "diameter = nx.diameter(Largest_subgraph)\n",
    "diameter "
   ]
  },
  {
   "cell_type": "code",
   "execution_count": 78,
   "id": "06c1513c-685f-47cd-9134-5a967d214e08",
   "metadata": {},
   "outputs": [
    {
     "data": {
      "text/html": [
       "<div>\n",
       "<style scoped>\n",
       "    .dataframe tbody tr th:only-of-type {\n",
       "        vertical-align: middle;\n",
       "    }\n",
       "\n",
       "    .dataframe tbody tr th {\n",
       "        vertical-align: top;\n",
       "    }\n",
       "\n",
       "    .dataframe thead th {\n",
       "        text-align: right;\n",
       "    }\n",
       "</style>\n",
       "<table border=\"1\" class=\"dataframe\">\n",
       "  <thead>\n",
       "    <tr style=\"text-align: right;\">\n",
       "      <th></th>\n",
       "      <th>betweenness_top</th>\n",
       "    </tr>\n",
       "  </thead>\n",
       "  <tbody>\n",
       "    <tr>\n",
       "      <th>Bank and Monument</th>\n",
       "      <td>0.239331</td>\n",
       "    </tr>\n",
       "  </tbody>\n",
       "</table>\n",
       "</div>"
      ],
      "text/plain": [
       "                   betweenness_top\n",
       "Bank and Monument         0.239331"
      ]
     },
     "execution_count": 78,
     "metadata": {},
     "output_type": "execute_result"
    }
   ],
   "source": [
    "# topological closeness\n",
    "bet_top_london=nx.betweenness_centrality(Largest_subgraph)\n",
    "\n",
    "# add the closeness centrality as attribute to the nodes in the graph\n",
    "nx.set_node_attributes(Largest_subgraph,bet_top_london,'betweenness_top')\n",
    "bet_top_london_df=pd.DataFrame.from_dict(bet_top_london,columns=['betweenness_top'],orient='index')\n",
    "\n",
    "bet_top_london_df_sorted = bet_top_london_df.sort_values(by='betweenness_top', ascending=False)\n",
    "bet_top_london_df_sorted[:1]"
   ]
  },
  {
   "cell_type": "code",
   "execution_count": 79,
   "id": "231561e5-bc18-4e87-890d-c6574f1ce1dc",
   "metadata": {},
   "outputs": [
    {
     "name": "stdout",
     "output_type": "stream",
     "text": [
      "Number of connected components:1\n",
      "49\n"
     ]
    }
   ],
   "source": [
    "nodes_to_remove = [\"Bank and Monument\"]\n",
    "Largest_subgraph.remove_nodes_from(nodes_to_remove)\n",
    "print(f'Number of connected components:{nx.number_connected_components(Largest_subgraph)}')\n",
    "# To obtain the largest component as a new graph: \n",
    "# Get the list of components:\n",
    "components = nx.connected_components(Largest_subgraph)\n",
    "# Use the max() command to find the largest one:\n",
    "largest_component = max(components, key=len)\n",
    "# Create a \"subgraph\" of the largest component\n",
    "Largest_subgraph = Largest_subgraph.subgraph(largest_component).copy()\n",
    "diameter = nx.diameter(Largest_subgraph)\n",
    "print(diameter)"
   ]
  },
  {
   "cell_type": "code",
   "execution_count": 80,
   "id": "bed48696-a7b5-4679-8670-83d3b0f70f8a",
   "metadata": {},
   "outputs": [
    {
     "data": {
      "text/html": [
       "<div>\n",
       "<style scoped>\n",
       "    .dataframe tbody tr th:only-of-type {\n",
       "        vertical-align: middle;\n",
       "    }\n",
       "\n",
       "    .dataframe tbody tr th {\n",
       "        vertical-align: top;\n",
       "    }\n",
       "\n",
       "    .dataframe thead th {\n",
       "        text-align: right;\n",
       "    }\n",
       "</style>\n",
       "<table border=\"1\" class=\"dataframe\">\n",
       "  <thead>\n",
       "    <tr style=\"text-align: right;\">\n",
       "      <th></th>\n",
       "      <th>betweenness_top</th>\n",
       "    </tr>\n",
       "  </thead>\n",
       "  <tbody>\n",
       "    <tr>\n",
       "      <th>Canada Water</th>\n",
       "      <td>0.273139</td>\n",
       "    </tr>\n",
       "  </tbody>\n",
       "</table>\n",
       "</div>"
      ],
      "text/plain": [
       "              betweenness_top\n",
       "Canada Water         0.273139"
      ]
     },
     "execution_count": 80,
     "metadata": {},
     "output_type": "execute_result"
    }
   ],
   "source": [
    "# topological closeness\n",
    "bet_top_london=nx.betweenness_centrality(Largest_subgraph)\n",
    "\n",
    "# add the closeness centrality as attribute to the nodes in the graph\n",
    "nx.set_node_attributes(Largest_subgraph,bet_top_london,'betweenness_top')\n",
    "bet_top_london_df=pd.DataFrame.from_dict(bet_top_london,columns=['betweenness_top'],orient='index')\n",
    "\n",
    "bet_top_london_df_sorted = bet_top_london_df.sort_values(by='betweenness_top', ascending=False)\n",
    "bet_top_london_df_sorted[:1]"
   ]
  },
  {
   "cell_type": "code",
   "execution_count": 81,
   "id": "5059cc73-4ac0-48a1-9fb8-3b09bed09235",
   "metadata": {},
   "outputs": [
    {
     "name": "stdout",
     "output_type": "stream",
     "text": [
      "Number of connected components:1\n",
      "55\n"
     ]
    },
    {
     "data": {
      "text/html": [
       "<div>\n",
       "<style scoped>\n",
       "    .dataframe tbody tr th:only-of-type {\n",
       "        vertical-align: middle;\n",
       "    }\n",
       "\n",
       "    .dataframe tbody tr th {\n",
       "        vertical-align: top;\n",
       "    }\n",
       "\n",
       "    .dataframe thead th {\n",
       "        text-align: right;\n",
       "    }\n",
       "</style>\n",
       "<table border=\"1\" class=\"dataframe\">\n",
       "  <thead>\n",
       "    <tr style=\"text-align: right;\">\n",
       "      <th></th>\n",
       "      <th>betweenness_top</th>\n",
       "    </tr>\n",
       "  </thead>\n",
       "  <tbody>\n",
       "    <tr>\n",
       "      <th>West Hampstead</th>\n",
       "      <td>0.509646</td>\n",
       "    </tr>\n",
       "  </tbody>\n",
       "</table>\n",
       "</div>"
      ],
      "text/plain": [
       "                betweenness_top\n",
       "West Hampstead         0.509646"
      ]
     },
     "execution_count": 81,
     "metadata": {},
     "output_type": "execute_result"
    }
   ],
   "source": [
    "nodes_to_remove = [\"Canada Water\"]\n",
    "Largest_subgraph.remove_nodes_from(nodes_to_remove)\n",
    "print(f'Number of connected components:{nx.number_connected_components(Largest_subgraph)}')\n",
    "# To obtain the largest component as a new graph: \n",
    "# Get the list of components:\n",
    "components = nx.connected_components(Largest_subgraph)\n",
    "# Use the max() command to find the largest one:\n",
    "largest_component = max(components, key=len)\n",
    "# Create a \"subgraph\" of the largest component\n",
    "Largest_subgraph = Largest_subgraph.subgraph(largest_component).copy()\n",
    "diameter = nx.diameter(Largest_subgraph)\n",
    "print(diameter)\n",
    "# topological closeness\n",
    "bet_top_london=nx.betweenness_centrality(Largest_subgraph)\n",
    "\n",
    "# add the closeness centrality as attribute to the nodes in the graph\n",
    "nx.set_node_attributes(Largest_subgraph,bet_top_london,'betweenness_top')\n",
    "bet_top_london_df=pd.DataFrame.from_dict(bet_top_london,columns=['betweenness_top'],orient='index')\n",
    "\n",
    "bet_top_london_df_sorted = bet_top_london_df.sort_values(by='betweenness_top', ascending=False)\n",
    "bet_top_london_df_sorted[:1]"
   ]
  },
  {
   "cell_type": "code",
   "execution_count": 82,
   "id": "2efb67b9-b122-4e1a-8a32-9e77ab7cd685",
   "metadata": {},
   "outputs": [
    {
     "name": "stdout",
     "output_type": "stream",
     "text": [
      "Number of connected components:2\n",
      "38\n"
     ]
    },
    {
     "data": {
      "text/html": [
       "<div>\n",
       "<style scoped>\n",
       "    .dataframe tbody tr th:only-of-type {\n",
       "        vertical-align: middle;\n",
       "    }\n",
       "\n",
       "    .dataframe tbody tr th {\n",
       "        vertical-align: top;\n",
       "    }\n",
       "\n",
       "    .dataframe thead th {\n",
       "        text-align: right;\n",
       "    }\n",
       "</style>\n",
       "<table border=\"1\" class=\"dataframe\">\n",
       "  <thead>\n",
       "    <tr style=\"text-align: right;\">\n",
       "      <th></th>\n",
       "      <th>betweenness_top</th>\n",
       "    </tr>\n",
       "  </thead>\n",
       "  <tbody>\n",
       "    <tr>\n",
       "      <th>Earl's Court</th>\n",
       "      <td>0.29288</td>\n",
       "    </tr>\n",
       "  </tbody>\n",
       "</table>\n",
       "</div>"
      ],
      "text/plain": [
       "              betweenness_top\n",
       "Earl's Court          0.29288"
      ]
     },
     "execution_count": 82,
     "metadata": {},
     "output_type": "execute_result"
    }
   ],
   "source": [
    "nodes_to_remove = [\"West Hampstead\"]\n",
    "Largest_subgraph.remove_nodes_from(nodes_to_remove)\n",
    "print(f'Number of connected components:{nx.number_connected_components(Largest_subgraph)}')\n",
    "# To obtain the largest component as a new graph: \n",
    "# Get the list of components:\n",
    "components = nx.connected_components(Largest_subgraph)\n",
    "# Use the max() command to find the largest one:\n",
    "largest_component = max(components, key=len)\n",
    "# Create a \"subgraph\" of the largest component\n",
    "Largest_subgraph = Largest_subgraph.subgraph(largest_component).copy()\n",
    "diameter = nx.diameter(Largest_subgraph)\n",
    "print(diameter)\n",
    "# topological closeness\n",
    "bet_top_london=nx.betweenness_centrality(Largest_subgraph)\n",
    "\n",
    "# add the closeness centrality as attribute to the nodes in the graph\n",
    "nx.set_node_attributes(Largest_subgraph,bet_top_london,'betweenness_top')\n",
    "bet_top_london_df=pd.DataFrame.from_dict(bet_top_london,columns=['betweenness_top'],orient='index')\n",
    "\n",
    "bet_top_london_df_sorted = bet_top_london_df.sort_values(by='betweenness_top', ascending=False)\n",
    "bet_top_london_df_sorted[:1]"
   ]
  },
  {
   "cell_type": "code",
   "execution_count": 83,
   "id": "24813c7e-a549-49eb-93df-988e9ba66865",
   "metadata": {},
   "outputs": [
    {
     "name": "stdout",
     "output_type": "stream",
     "text": [
      "Number of connected components:1\n",
      "39\n"
     ]
    },
    {
     "data": {
      "text/html": [
       "<div>\n",
       "<style scoped>\n",
       "    .dataframe tbody tr th:only-of-type {\n",
       "        vertical-align: middle;\n",
       "    }\n",
       "\n",
       "    .dataframe tbody tr th {\n",
       "        vertical-align: top;\n",
       "    }\n",
       "\n",
       "    .dataframe thead th {\n",
       "        text-align: right;\n",
       "    }\n",
       "</style>\n",
       "<table border=\"1\" class=\"dataframe\">\n",
       "  <thead>\n",
       "    <tr style=\"text-align: right;\">\n",
       "      <th></th>\n",
       "      <th>betweenness_top</th>\n",
       "    </tr>\n",
       "  </thead>\n",
       "  <tbody>\n",
       "    <tr>\n",
       "      <th>Shepherd's Bush</th>\n",
       "      <td>0.393858</td>\n",
       "    </tr>\n",
       "  </tbody>\n",
       "</table>\n",
       "</div>"
      ],
      "text/plain": [
       "                 betweenness_top\n",
       "Shepherd's Bush         0.393858"
      ]
     },
     "execution_count": 83,
     "metadata": {},
     "output_type": "execute_result"
    }
   ],
   "source": [
    "nodes_to_remove = [\"Earl's Court\"]\n",
    "Largest_subgraph.remove_nodes_from(nodes_to_remove)\n",
    "print(f'Number of connected components:{nx.number_connected_components(Largest_subgraph)}')\n",
    "# To obtain the largest component as a new graph: \n",
    "# Get the list of components:\n",
    "components = nx.connected_components(Largest_subgraph)\n",
    "# Use the max() command to find the largest one:\n",
    "largest_component = max(components, key=len)\n",
    "# Create a \"subgraph\" of the largest component\n",
    "Largest_subgraph = Largest_subgraph.subgraph(largest_component).copy()\n",
    "diameter = nx.diameter(Largest_subgraph)\n",
    "print(diameter)\n",
    "# topological closeness\n",
    "bet_top_london=nx.betweenness_centrality(Largest_subgraph)\n",
    "\n",
    "# add the closeness centrality as attribute to the nodes in the graph\n",
    "nx.set_node_attributes(Largest_subgraph,bet_top_london,'betweenness_top')\n",
    "bet_top_london_df=pd.DataFrame.from_dict(bet_top_london,columns=['betweenness_top'],orient='index')\n",
    "\n",
    "bet_top_london_df_sorted = bet_top_london_df.sort_values(by='betweenness_top', ascending=False)\n",
    "bet_top_london_df_sorted[:1]"
   ]
  },
  {
   "cell_type": "code",
   "execution_count": 84,
   "id": "127ee82e-4f29-438a-825d-629e554a781b",
   "metadata": {},
   "outputs": [
    {
     "name": "stdout",
     "output_type": "stream",
     "text": [
      "Number of connected components:2\n",
      "37\n"
     ]
    },
    {
     "data": {
      "text/html": [
       "<div>\n",
       "<style scoped>\n",
       "    .dataframe tbody tr th:only-of-type {\n",
       "        vertical-align: middle;\n",
       "    }\n",
       "\n",
       "    .dataframe tbody tr th {\n",
       "        vertical-align: top;\n",
       "    }\n",
       "\n",
       "    .dataframe thead th {\n",
       "        text-align: right;\n",
       "    }\n",
       "</style>\n",
       "<table border=\"1\" class=\"dataframe\">\n",
       "  <thead>\n",
       "    <tr style=\"text-align: right;\">\n",
       "      <th></th>\n",
       "      <th>betweenness_top</th>\n",
       "    </tr>\n",
       "  </thead>\n",
       "  <tbody>\n",
       "    <tr>\n",
       "      <th>Euston</th>\n",
       "      <td>0.352794</td>\n",
       "    </tr>\n",
       "  </tbody>\n",
       "</table>\n",
       "</div>"
      ],
      "text/plain": [
       "        betweenness_top\n",
       "Euston         0.352794"
      ]
     },
     "execution_count": 84,
     "metadata": {},
     "output_type": "execute_result"
    }
   ],
   "source": [
    "nodes_to_remove = [\"Shepherd's Bush\"]\n",
    "Largest_subgraph.remove_nodes_from(nodes_to_remove)\n",
    "print(f'Number of connected components:{nx.number_connected_components(Largest_subgraph)}')\n",
    "# To obtain the largest component as a new graph: \n",
    "# Get the list of components:\n",
    "components = nx.connected_components(Largest_subgraph)\n",
    "# Use the max() command to find the largest one:\n",
    "largest_component = max(components, key=len)\n",
    "# Create a \"subgraph\" of the largest component\n",
    "Largest_subgraph = Largest_subgraph.subgraph(largest_component).copy()\n",
    "diameter = nx.diameter(Largest_subgraph)\n",
    "print(diameter)\n",
    "# topological closeness\n",
    "bet_top_london=nx.betweenness_centrality(Largest_subgraph)\n",
    "\n",
    "# add the closeness centrality as attribute to the nodes in the graph\n",
    "nx.set_node_attributes(Largest_subgraph,bet_top_london,'betweenness_top')\n",
    "bet_top_london_df=pd.DataFrame.from_dict(bet_top_london,columns=['betweenness_top'],orient='index')\n",
    "\n",
    "bet_top_london_df_sorted = bet_top_london_df.sort_values(by='betweenness_top', ascending=False)\n",
    "bet_top_london_df_sorted[:1]"
   ]
  },
  {
   "cell_type": "code",
   "execution_count": 85,
   "id": "a36678ec-f5b2-4d2b-bf34-20ddc028ed4a",
   "metadata": {},
   "outputs": [
    {
     "name": "stdout",
     "output_type": "stream",
     "text": [
      "Number of connected components:2\n",
      "38\n"
     ]
    },
    {
     "data": {
      "text/html": [
       "<div>\n",
       "<style scoped>\n",
       "    .dataframe tbody tr th:only-of-type {\n",
       "        vertical-align: middle;\n",
       "    }\n",
       "\n",
       "    .dataframe tbody tr th {\n",
       "        vertical-align: top;\n",
       "    }\n",
       "\n",
       "    .dataframe thead th {\n",
       "        text-align: right;\n",
       "    }\n",
       "</style>\n",
       "<table border=\"1\" class=\"dataframe\">\n",
       "  <thead>\n",
       "    <tr style=\"text-align: right;\">\n",
       "      <th></th>\n",
       "      <th>betweenness_top</th>\n",
       "    </tr>\n",
       "  </thead>\n",
       "  <tbody>\n",
       "    <tr>\n",
       "      <th>Baker Street</th>\n",
       "      <td>0.510359</td>\n",
       "    </tr>\n",
       "  </tbody>\n",
       "</table>\n",
       "</div>"
      ],
      "text/plain": [
       "              betweenness_top\n",
       "Baker Street         0.510359"
      ]
     },
     "execution_count": 85,
     "metadata": {},
     "output_type": "execute_result"
    }
   ],
   "source": [
    "nodes_to_remove = [\"Euston\"]\n",
    "Largest_subgraph.remove_nodes_from(nodes_to_remove)\n",
    "print(f'Number of connected components:{nx.number_connected_components(Largest_subgraph)}')\n",
    "# To obtain the largest component as a new graph: \n",
    "# Get the list of components:\n",
    "components = nx.connected_components(Largest_subgraph)\n",
    "# Use the max() command to find the largest one:\n",
    "largest_component = max(components, key=len)\n",
    "# Create a \"subgraph\" of the largest component\n",
    "Largest_subgraph = Largest_subgraph.subgraph(largest_component).copy()\n",
    "diameter = nx.diameter(Largest_subgraph)\n",
    "print(diameter)\n",
    "# topological closeness\n",
    "bet_top_london=nx.betweenness_centrality(Largest_subgraph)\n",
    "\n",
    "# add the closeness centrality as attribute to the nodes in the graph\n",
    "nx.set_node_attributes(Largest_subgraph,bet_top_london,'betweenness_top')\n",
    "bet_top_london_df=pd.DataFrame.from_dict(bet_top_london,columns=['betweenness_top'],orient='index')\n",
    "\n",
    "bet_top_london_df_sorted = bet_top_london_df.sort_values(by='betweenness_top', ascending=False)\n",
    "bet_top_london_df_sorted[:1]"
   ]
  },
  {
   "cell_type": "code",
   "execution_count": 86,
   "id": "14e26fd6-85de-4c53-9f97-6f44c5753555",
   "metadata": {},
   "outputs": [
    {
     "name": "stdout",
     "output_type": "stream",
     "text": [
      "Number of connected components:2\n",
      "48\n"
     ]
    },
    {
     "data": {
      "text/html": [
       "<div>\n",
       "<style scoped>\n",
       "    .dataframe tbody tr th:only-of-type {\n",
       "        vertical-align: middle;\n",
       "    }\n",
       "\n",
       "    .dataframe tbody tr th {\n",
       "        vertical-align: top;\n",
       "    }\n",
       "\n",
       "    .dataframe thead th {\n",
       "        text-align: right;\n",
       "    }\n",
       "</style>\n",
       "<table border=\"1\" class=\"dataframe\">\n",
       "  <thead>\n",
       "    <tr style=\"text-align: right;\">\n",
       "      <th></th>\n",
       "      <th>betweenness_top</th>\n",
       "    </tr>\n",
       "  </thead>\n",
       "  <tbody>\n",
       "    <tr>\n",
       "      <th>Acton Town</th>\n",
       "      <td>0.518033</td>\n",
       "    </tr>\n",
       "  </tbody>\n",
       "</table>\n",
       "</div>"
      ],
      "text/plain": [
       "            betweenness_top\n",
       "Acton Town         0.518033"
      ]
     },
     "execution_count": 86,
     "metadata": {},
     "output_type": "execute_result"
    }
   ],
   "source": [
    "nodes_to_remove = [\"Baker Street\"]\n",
    "Largest_subgraph.remove_nodes_from(nodes_to_remove)\n",
    "print(f'Number of connected components:{nx.number_connected_components(Largest_subgraph)}')\n",
    "# To obtain the largest component as a new graph: \n",
    "# Get the list of components:\n",
    "components = nx.connected_components(Largest_subgraph)\n",
    "# Use the max() command to find the largest one:\n",
    "largest_component = max(components, key=len)\n",
    "# Create a \"subgraph\" of the largest component\n",
    "Largest_subgraph = Largest_subgraph.subgraph(largest_component).copy()\n",
    "diameter = nx.diameter(Largest_subgraph)\n",
    "print(diameter)\n",
    "# topological closeness\n",
    "bet_top_london=nx.betweenness_centrality(Largest_subgraph)\n",
    "\n",
    "# add the closeness centrality as attribute to the nodes in the graph\n",
    "nx.set_node_attributes(Largest_subgraph,bet_top_london,'betweenness_top')\n",
    "bet_top_london_df=pd.DataFrame.from_dict(bet_top_london,columns=['betweenness_top'],orient='index')\n",
    "\n",
    "bet_top_london_df_sorted = bet_top_london_df.sort_values(by='betweenness_top', ascending=False)\n",
    "bet_top_london_df_sorted[:1]"
   ]
  },
  {
   "cell_type": "markdown",
   "id": "5edc9bae-17d1-49d1-9f20-9304a4f859f9",
   "metadata": {},
   "source": [
    "### eigenvector centrality"
   ]
  },
  {
   "cell_type": "markdown",
   "id": "ece113c4-791e-417d-89f7-27e724c139d6",
   "metadata": {},
   "source": [
    "#### Non-sequential removal"
   ]
  },
  {
   "cell_type": "code",
   "execution_count": 87,
   "id": "06385dca-c13b-415c-9db5-fb9a0b46a4d6",
   "metadata": {},
   "outputs": [],
   "source": [
    "london_network4=london_network.copy()"
   ]
  },
  {
   "cell_type": "code",
   "execution_count": 88,
   "id": "a7499a34-0a66-4e90-a98a-8a673ff31812",
   "metadata": {},
   "outputs": [
    {
     "name": "stdout",
     "output_type": "stream",
     "text": [
      "Number of connected components:1\n"
     ]
    },
    {
     "data": {
      "text/plain": [
       "38"
      ]
     },
     "execution_count": 88,
     "metadata": {},
     "output_type": "execute_result"
    }
   ],
   "source": [
    "nodes_to_remove = ['Bank and Monument']\n",
    "london_network4.remove_nodes_from(nodes_to_remove)\n",
    "print(f'Number of connected components:{nx.number_connected_components(london_network4)}')\n",
    "# To obtain the largest component as a new graph: \n",
    "# Get the list of components:\n",
    "components = nx.connected_components(london_network4)\n",
    "# Use the max() command to find the largest one:\n",
    "largest_component = max(components, key=len)\n",
    "# Create a \"subgraph\" of the largest component\n",
    "Largest_subgraph = london_network4.subgraph(largest_component).copy()\n",
    "diameter = nx.diameter(Largest_subgraph)\n",
    "diameter "
   ]
  },
  {
   "cell_type": "code",
   "execution_count": 89,
   "id": "6119869a-c93e-4f07-98d0-1e1e42956806",
   "metadata": {},
   "outputs": [
    {
     "name": "stdout",
     "output_type": "stream",
     "text": [
      "Number of connected components:1\n"
     ]
    },
    {
     "data": {
      "text/plain": [
       "40"
      ]
     },
     "execution_count": 89,
     "metadata": {},
     "output_type": "execute_result"
    }
   ],
   "source": [
    "nodes_to_remove = ['Liverpool Street']\n",
    "london_network4.remove_nodes_from(nodes_to_remove)\n",
    "print(f'Number of connected components:{nx.number_connected_components(london_network4)}')\n",
    "# To obtain the largest component as a new graph: \n",
    "# Get the list of components:\n",
    "components = nx.connected_components(london_network4)\n",
    "# Use the max() command to find the largest one:\n",
    "largest_component = max(components, key=len)\n",
    "# Create a \"subgraph\" of the largest component\n",
    "Largest_subgraph = london_network4.subgraph(largest_component).copy()\n",
    "diameter = nx.diameter(Largest_subgraph)\n",
    "diameter "
   ]
  },
  {
   "cell_type": "code",
   "execution_count": 90,
   "id": "d1786e60-7f96-48cc-8a9c-9e00bcb13de9",
   "metadata": {},
   "outputs": [
    {
     "name": "stdout",
     "output_type": "stream",
     "text": [
      "Number of connected components:3\n"
     ]
    },
    {
     "data": {
      "text/plain": [
       "49"
      ]
     },
     "execution_count": 90,
     "metadata": {},
     "output_type": "execute_result"
    }
   ],
   "source": [
    "nodes_to_remove = ['Stratford']\n",
    "london_network4.remove_nodes_from(nodes_to_remove)\n",
    "print(f'Number of connected components:{nx.number_connected_components(london_network4)}')\n",
    "# To obtain the largest component as a new graph: \n",
    "# Get the list of components:\n",
    "components = nx.connected_components(london_network4)\n",
    "# Use the max() command to find the largest one:\n",
    "largest_component = max(components, key=len)\n",
    "# Create a \"subgraph\" of the largest component\n",
    "Largest_subgraph = london_network4.subgraph(largest_component).copy()\n",
    "diameter = nx.diameter(Largest_subgraph)\n",
    "diameter "
   ]
  },
  {
   "cell_type": "code",
   "execution_count": 91,
   "id": "637a0c46-4359-4797-afcf-a0a49cf58d8a",
   "metadata": {},
   "outputs": [
    {
     "name": "stdout",
     "output_type": "stream",
     "text": [
      "Number of connected components:3\n"
     ]
    },
    {
     "data": {
      "text/plain": [
       "49"
      ]
     },
     "execution_count": 91,
     "metadata": {},
     "output_type": "execute_result"
    }
   ],
   "source": [
    "nodes_to_remove = ['Waterloo']\n",
    "london_network4.remove_nodes_from(nodes_to_remove)\n",
    "print(f'Number of connected components:{nx.number_connected_components(london_network4)}')\n",
    "# To obtain the largest component as a new graph: \n",
    "# Get the list of components:\n",
    "components = nx.connected_components(london_network4)\n",
    "# Use the max() command to find the largest one:\n",
    "largest_component = max(components, key=len)\n",
    "# Create a \"subgraph\" of the largest component\n",
    "Largest_subgraph = london_network4.subgraph(largest_component).copy()\n",
    "diameter = nx.diameter(Largest_subgraph)\n",
    "diameter "
   ]
  },
  {
   "cell_type": "code",
   "execution_count": 92,
   "id": "b8341959-d38e-45e3-ab85-e33206af5f64",
   "metadata": {},
   "outputs": [
    {
     "name": "stdout",
     "output_type": "stream",
     "text": [
      "Number of connected components:3\n"
     ]
    },
    {
     "data": {
      "text/plain": [
       "49"
      ]
     },
     "execution_count": 92,
     "metadata": {},
     "output_type": "execute_result"
    }
   ],
   "source": [
    "nodes_to_remove = ['Moorgate']\n",
    "london_network4.remove_nodes_from(nodes_to_remove)\n",
    "print(f'Number of connected components:{nx.number_connected_components(london_network4)}')\n",
    "# To obtain the largest component as a new graph: \n",
    "# Get the list of components:\n",
    "components = nx.connected_components(london_network4)\n",
    "# Use the max() command to find the largest one:\n",
    "largest_component = max(components, key=len)\n",
    "# Create a \"subgraph\" of the largest component\n",
    "Largest_subgraph = london_network4.subgraph(largest_component).copy()\n",
    "diameter = nx.diameter(Largest_subgraph)\n",
    "diameter "
   ]
  },
  {
   "cell_type": "code",
   "execution_count": 93,
   "id": "b426ee41-602e-4cd0-8f76-64024a5d9c8c",
   "metadata": {},
   "outputs": [
    {
     "name": "stdout",
     "output_type": "stream",
     "text": [
      "Number of connected components:3\n"
     ]
    },
    {
     "data": {
      "text/plain": [
       "49"
      ]
     },
     "execution_count": 93,
     "metadata": {},
     "output_type": "execute_result"
    }
   ],
   "source": [
    "nodes_to_remove = ['Green Park']\n",
    "london_network4.remove_nodes_from(nodes_to_remove)\n",
    "print(f'Number of connected components:{nx.number_connected_components(london_network4)}')\n",
    "# To obtain the largest component as a new graph: \n",
    "# Get the list of components:\n",
    "components = nx.connected_components(london_network4)\n",
    "# Use the max() command to find the largest one:\n",
    "largest_component = max(components, key=len)\n",
    "# Create a \"subgraph\" of the largest component\n",
    "Largest_subgraph = london_network4.subgraph(largest_component).copy()\n",
    "diameter = nx.diameter(Largest_subgraph)\n",
    "diameter "
   ]
  },
  {
   "cell_type": "code",
   "execution_count": 94,
   "id": "d77ed4af-7e02-4e03-847a-bd698aedc0db",
   "metadata": {},
   "outputs": [
    {
     "name": "stdout",
     "output_type": "stream",
     "text": [
      "Number of connected components:3\n"
     ]
    },
    {
     "data": {
      "text/plain": [
       "49"
      ]
     },
     "execution_count": 94,
     "metadata": {},
     "output_type": "execute_result"
    }
   ],
   "source": [
    "nodes_to_remove = ['Oxford Circus']\n",
    "london_network4.remove_nodes_from(nodes_to_remove)\n",
    "print(f'Number of connected components:{nx.number_connected_components(london_network4)}')\n",
    "# To obtain the largest component as a new graph: \n",
    "# Get the list of components:\n",
    "components = nx.connected_components(london_network4)\n",
    "# Use the max() command to find the largest one:\n",
    "largest_component = max(components, key=len)\n",
    "# Create a \"subgraph\" of the largest component\n",
    "Largest_subgraph = london_network4.subgraph(largest_component).copy()\n",
    "diameter = nx.diameter(Largest_subgraph)\n",
    "diameter "
   ]
  },
  {
   "cell_type": "code",
   "execution_count": 95,
   "id": "b2157434-c87b-4e41-83bb-94894424bb97",
   "metadata": {},
   "outputs": [
    {
     "name": "stdout",
     "output_type": "stream",
     "text": [
      "Number of connected components:4\n"
     ]
    },
    {
     "data": {
      "text/plain": [
       "49"
      ]
     },
     "execution_count": 95,
     "metadata": {},
     "output_type": "execute_result"
    }
   ],
   "source": [
    "nodes_to_remove = ['Tower Hill']\n",
    "london_network4.remove_nodes_from(nodes_to_remove)\n",
    "print(f'Number of connected components:{nx.number_connected_components(london_network4)}')\n",
    "# To obtain the largest component as a new graph: \n",
    "# Get the list of components:\n",
    "components = nx.connected_components(london_network4)\n",
    "# Use the max() command to find the largest one:\n",
    "largest_component = max(components, key=len)\n",
    "# Create a \"subgraph\" of the largest component\n",
    "Largest_subgraph = london_network4.subgraph(largest_component).copy()\n",
    "diameter = nx.diameter(Largest_subgraph)\n",
    "diameter "
   ]
  },
  {
   "cell_type": "code",
   "execution_count": 96,
   "id": "6aa420d1-8a91-46e9-88c2-9aae46475726",
   "metadata": {},
   "outputs": [
    {
     "name": "stdout",
     "output_type": "stream",
     "text": [
      "Number of connected components:4\n"
     ]
    },
    {
     "data": {
      "text/plain": [
       "49"
      ]
     },
     "execution_count": 96,
     "metadata": {},
     "output_type": "execute_result"
    }
   ],
   "source": [
    "nodes_to_remove = ['Westminster']\n",
    "london_network4.remove_nodes_from(nodes_to_remove)\n",
    "print(f'Number of connected components:{nx.number_connected_components(london_network4)}')\n",
    "# To obtain the largest component as a new graph: \n",
    "# Get the list of components:\n",
    "components = nx.connected_components(london_network4)\n",
    "# Use the max() command to find the largest one:\n",
    "largest_component = max(components, key=len)\n",
    "# Create a \"subgraph\" of the largest component\n",
    "Largest_subgraph = london_network4.subgraph(largest_component).copy()\n",
    "diameter = nx.diameter(Largest_subgraph)\n",
    "diameter "
   ]
  },
  {
   "cell_type": "code",
   "execution_count": 97,
   "id": "2956629d-6e13-44fd-afc4-621b6d4e969e",
   "metadata": {},
   "outputs": [
    {
     "name": "stdout",
     "output_type": "stream",
     "text": [
      "Number of connected components:5\n"
     ]
    },
    {
     "data": {
      "text/plain": [
       "49"
      ]
     },
     "execution_count": 97,
     "metadata": {},
     "output_type": "execute_result"
    }
   ],
   "source": [
    "nodes_to_remove = ['Shadwell']\n",
    "london_network4.remove_nodes_from(nodes_to_remove)\n",
    "print(f'Number of connected components:{nx.number_connected_components(london_network4)}')\n",
    "# To obtain the largest component as a new graph: \n",
    "# Get the list of components:\n",
    "components = nx.connected_components(london_network4)\n",
    "# Use the max() command to find the largest one:\n",
    "largest_component = max(components, key=len)\n",
    "# Create a \"subgraph\" of the largest component\n",
    "Largest_subgraph = london_network4.subgraph(largest_component).copy()\n",
    "diameter = nx.diameter(Largest_subgraph)\n",
    "diameter "
   ]
  },
  {
   "cell_type": "markdown",
   "id": "4ec93b80-b201-4d37-820d-66524886d4e9",
   "metadata": {},
   "source": [
    "#### Sequential removal"
   ]
  },
  {
   "cell_type": "code",
   "execution_count": 98,
   "id": "cc673cd0-af4d-4076-b806-7d1fed25fe7a",
   "metadata": {},
   "outputs": [],
   "source": [
    "london_network4=london_network.copy()"
   ]
  },
  {
   "cell_type": "code",
   "execution_count": 99,
   "id": "fe7a2389-2329-4f53-b330-f80220864841",
   "metadata": {},
   "outputs": [
    {
     "name": "stdout",
     "output_type": "stream",
     "text": [
      "Number of connected components:1\n"
     ]
    },
    {
     "data": {
      "text/plain": [
       "38"
      ]
     },
     "execution_count": 99,
     "metadata": {},
     "output_type": "execute_result"
    }
   ],
   "source": [
    "nodes_to_remove = ['Bank and Monument']\n",
    "london_network4.remove_nodes_from(nodes_to_remove)\n",
    "print(f'Number of connected components:{nx.number_connected_components(london_network4)}')\n",
    "# To obtain the largest component as a new graph: \n",
    "# Get the list of components:\n",
    "components = nx.connected_components(london_network4)\n",
    "# Use the max() command to find the largest one:\n",
    "largest_component = max(components, key=len)\n",
    "# Create a \"subgraph\" of the largest component\n",
    "Largest_subgraph = london_network4.subgraph(largest_component).copy()\n",
    "diameter = nx.diameter(Largest_subgraph)\n",
    "diameter "
   ]
  },
  {
   "cell_type": "code",
   "execution_count": 100,
   "id": "6c16d95e-ed55-4cbf-9ae5-01ed04885e93",
   "metadata": {},
   "outputs": [
    {
     "data": {
      "text/html": [
       "<div>\n",
       "<style scoped>\n",
       "    .dataframe tbody tr th:only-of-type {\n",
       "        vertical-align: middle;\n",
       "    }\n",
       "\n",
       "    .dataframe tbody tr th {\n",
       "        vertical-align: top;\n",
       "    }\n",
       "\n",
       "    .dataframe thead th {\n",
       "        text-align: right;\n",
       "    }\n",
       "</style>\n",
       "<table border=\"1\" class=\"dataframe\">\n",
       "  <thead>\n",
       "    <tr style=\"text-align: right;\">\n",
       "      <th></th>\n",
       "      <th>eigenvector_top</th>\n",
       "    </tr>\n",
       "  </thead>\n",
       "  <tbody>\n",
       "    <tr>\n",
       "      <th>Oxford Circus</th>\n",
       "      <td>0.416548</td>\n",
       "    </tr>\n",
       "  </tbody>\n",
       "</table>\n",
       "</div>"
      ],
      "text/plain": [
       "               eigenvector_top\n",
       "Oxford Circus         0.416548"
      ]
     },
     "execution_count": 100,
     "metadata": {},
     "output_type": "execute_result"
    }
   ],
   "source": [
    "# topological closeness\n",
    "eig_top_london=nx.eigenvector_centrality_numpy(Largest_subgraph)\n",
    "\n",
    "# add the closeness centrality as attribute to the nodes in the graph\n",
    "nx.set_node_attributes(Largest_subgraph,eig_top_london,'eigenvector_top')\n",
    "eig_top_london_df=pd.DataFrame.from_dict(eig_top_london,columns=['eigenvector_top'],orient='index')\n",
    "\n",
    "eig_top_london_df_sorted = eig_top_london_df.sort_values(by='eigenvector_top', ascending=False)\n",
    "eig_top_london_df_sorted[:1]"
   ]
  },
  {
   "cell_type": "code",
   "execution_count": 101,
   "id": "26648e6c-bb88-454d-99d4-7ca89324328b",
   "metadata": {},
   "outputs": [
    {
     "name": "stdout",
     "output_type": "stream",
     "text": [
      "Number of connected components:1\n",
      "38\n"
     ]
    },
    {
     "data": {
      "text/html": [
       "<div>\n",
       "<style scoped>\n",
       "    .dataframe tbody tr th:only-of-type {\n",
       "        vertical-align: middle;\n",
       "    }\n",
       "\n",
       "    .dataframe tbody tr th {\n",
       "        vertical-align: top;\n",
       "    }\n",
       "\n",
       "    .dataframe thead th {\n",
       "        text-align: right;\n",
       "    }\n",
       "</style>\n",
       "<table border=\"1\" class=\"dataframe\">\n",
       "  <thead>\n",
       "    <tr style=\"text-align: right;\">\n",
       "      <th></th>\n",
       "      <th>eigenvector_top</th>\n",
       "    </tr>\n",
       "  </thead>\n",
       "  <tbody>\n",
       "    <tr>\n",
       "      <th>Stratford</th>\n",
       "      <td>0.530688</td>\n",
       "    </tr>\n",
       "  </tbody>\n",
       "</table>\n",
       "</div>"
      ],
      "text/plain": [
       "           eigenvector_top\n",
       "Stratford         0.530688"
      ]
     },
     "execution_count": 101,
     "metadata": {},
     "output_type": "execute_result"
    }
   ],
   "source": [
    "nodes_to_remove = [\"Oxford Circus\"]\n",
    "Largest_subgraph.remove_nodes_from(nodes_to_remove)\n",
    "print(f'Number of connected components:{nx.number_connected_components(Largest_subgraph)}')\n",
    "# To obtain the largest component as a new graph: \n",
    "# Get the list of components:\n",
    "components = nx.connected_components(Largest_subgraph)\n",
    "# Use the max() command to find the largest one:\n",
    "largest_component = max(components, key=len)\n",
    "# Create a \"subgraph\" of the largest component\n",
    "Largest_subgraph = Largest_subgraph.subgraph(largest_component).copy()\n",
    "diameter = nx.diameter(Largest_subgraph)\n",
    "print(diameter)\n",
    "# topological closeness\n",
    "eig_top_london=nx.eigenvector_centrality_numpy(Largest_subgraph)\n",
    "\n",
    "# add the closeness centrality as attribute to the nodes in the graph\n",
    "nx.set_node_attributes(Largest_subgraph,eig_top_london,'eigenvector_top')\n",
    "eig_top_london_df=pd.DataFrame.from_dict(eig_top_london,columns=['eigenvector_top'],orient='index')\n",
    "\n",
    "eig_top_london_df_sorted = eig_top_london_df.sort_values(by='eigenvector_top', ascending=False)\n",
    "eig_top_london_df_sorted[:1]"
   ]
  },
  {
   "cell_type": "code",
   "execution_count": 102,
   "id": "54058c63-4464-4ea8-b7c6-4b8d4f5385ad",
   "metadata": {},
   "outputs": [
    {
     "name": "stdout",
     "output_type": "stream",
     "text": [
      "Number of connected components:3\n",
      "49\n"
     ]
    },
    {
     "data": {
      "text/html": [
       "<div>\n",
       "<style scoped>\n",
       "    .dataframe tbody tr th:only-of-type {\n",
       "        vertical-align: middle;\n",
       "    }\n",
       "\n",
       "    .dataframe tbody tr th {\n",
       "        vertical-align: top;\n",
       "    }\n",
       "\n",
       "    .dataframe thead th {\n",
       "        text-align: right;\n",
       "    }\n",
       "</style>\n",
       "<table border=\"1\" class=\"dataframe\">\n",
       "  <thead>\n",
       "    <tr style=\"text-align: right;\">\n",
       "      <th></th>\n",
       "      <th>eigenvector_top</th>\n",
       "    </tr>\n",
       "  </thead>\n",
       "  <tbody>\n",
       "    <tr>\n",
       "      <th>Earl's Court</th>\n",
       "      <td>0.414026</td>\n",
       "    </tr>\n",
       "  </tbody>\n",
       "</table>\n",
       "</div>"
      ],
      "text/plain": [
       "              eigenvector_top\n",
       "Earl's Court         0.414026"
      ]
     },
     "execution_count": 102,
     "metadata": {},
     "output_type": "execute_result"
    }
   ],
   "source": [
    "nodes_to_remove = [\"Stratford\"]\n",
    "Largest_subgraph.remove_nodes_from(nodes_to_remove)\n",
    "print(f'Number of connected components:{nx.number_connected_components(Largest_subgraph)}')\n",
    "# To obtain the largest component as a new graph: \n",
    "# Get the list of components:\n",
    "components = nx.connected_components(Largest_subgraph)\n",
    "# Use the max() command to find the largest one:\n",
    "largest_component = max(components, key=len)\n",
    "# Create a \"subgraph\" of the largest component\n",
    "Largest_subgraph = Largest_subgraph.subgraph(largest_component).copy()\n",
    "diameter = nx.diameter(Largest_subgraph)\n",
    "print(diameter)\n",
    "# topological closeness\n",
    "eig_top_london=nx.eigenvector_centrality_numpy(Largest_subgraph)\n",
    "\n",
    "# add the closeness centrality as attribute to the nodes in the graph\n",
    "nx.set_node_attributes(Largest_subgraph,eig_top_london,'eigenvector_top')\n",
    "eig_top_london_df=pd.DataFrame.from_dict(eig_top_london,columns=['eigenvector_top'],orient='index')\n",
    "\n",
    "eig_top_london_df_sorted = eig_top_london_df.sort_values(by='eigenvector_top', ascending=False)\n",
    "eig_top_london_df_sorted[:1]"
   ]
  },
  {
   "cell_type": "code",
   "execution_count": 103,
   "id": "d02b04f4-3e3e-4b21-9328-847d14668f54",
   "metadata": {},
   "outputs": [
    {
     "name": "stdout",
     "output_type": "stream",
     "text": [
      "Number of connected components:1\n",
      "49\n"
     ]
    },
    {
     "data": {
      "text/html": [
       "<div>\n",
       "<style scoped>\n",
       "    .dataframe tbody tr th:only-of-type {\n",
       "        vertical-align: middle;\n",
       "    }\n",
       "\n",
       "    .dataframe tbody tr th {\n",
       "        vertical-align: top;\n",
       "    }\n",
       "\n",
       "    .dataframe thead th {\n",
       "        text-align: right;\n",
       "    }\n",
       "</style>\n",
       "<table border=\"1\" class=\"dataframe\">\n",
       "  <thead>\n",
       "    <tr style=\"text-align: right;\">\n",
       "      <th></th>\n",
       "      <th>eigenvector_top</th>\n",
       "    </tr>\n",
       "  </thead>\n",
       "  <tbody>\n",
       "    <tr>\n",
       "      <th>Westminster</th>\n",
       "      <td>0.317044</td>\n",
       "    </tr>\n",
       "  </tbody>\n",
       "</table>\n",
       "</div>"
      ],
      "text/plain": [
       "             eigenvector_top\n",
       "Westminster         0.317044"
      ]
     },
     "execution_count": 103,
     "metadata": {},
     "output_type": "execute_result"
    }
   ],
   "source": [
    "nodes_to_remove = [\"Earl's Court\"]\n",
    "Largest_subgraph.remove_nodes_from(nodes_to_remove)\n",
    "print(f'Number of connected components:{nx.number_connected_components(Largest_subgraph)}')\n",
    "# To obtain the largest component as a new graph: \n",
    "# Get the list of components:\n",
    "components = nx.connected_components(Largest_subgraph)\n",
    "# Use the max() command to find the largest one:\n",
    "largest_component = max(components, key=len)\n",
    "# Create a \"subgraph\" of the largest component\n",
    "Largest_subgraph = Largest_subgraph.subgraph(largest_component).copy()\n",
    "diameter = nx.diameter(Largest_subgraph)\n",
    "print(diameter)\n",
    "# topological closeness\n",
    "eig_top_london=nx.eigenvector_centrality_numpy(Largest_subgraph)\n",
    "\n",
    "# add the closeness centrality as attribute to the nodes in the graph\n",
    "nx.set_node_attributes(Largest_subgraph,eig_top_london,'eigenvector_top')\n",
    "eig_top_london_df=pd.DataFrame.from_dict(eig_top_london,columns=['eigenvector_top'],orient='index')\n",
    "\n",
    "eig_top_london_df_sorted = eig_top_london_df.sort_values(by='eigenvector_top', ascending=False)\n",
    "eig_top_london_df_sorted[:1]"
   ]
  },
  {
   "cell_type": "code",
   "execution_count": 104,
   "id": "2ada0b62-2aac-4ab8-a57b-65bc9d5a37b8",
   "metadata": {},
   "outputs": [
    {
     "name": "stdout",
     "output_type": "stream",
     "text": [
      "Number of connected components:1\n",
      "49\n"
     ]
    },
    {
     "data": {
      "text/html": [
       "<div>\n",
       "<style scoped>\n",
       "    .dataframe tbody tr th:only-of-type {\n",
       "        vertical-align: middle;\n",
       "    }\n",
       "\n",
       "    .dataframe tbody tr th {\n",
       "        vertical-align: top;\n",
       "    }\n",
       "\n",
       "    .dataframe thead th {\n",
       "        text-align: right;\n",
       "    }\n",
       "</style>\n",
       "<table border=\"1\" class=\"dataframe\">\n",
       "  <thead>\n",
       "    <tr style=\"text-align: right;\">\n",
       "      <th></th>\n",
       "      <th>eigenvector_top</th>\n",
       "    </tr>\n",
       "  </thead>\n",
       "  <tbody>\n",
       "    <tr>\n",
       "      <th>Baker Street</th>\n",
       "      <td>0.428267</td>\n",
       "    </tr>\n",
       "  </tbody>\n",
       "</table>\n",
       "</div>"
      ],
      "text/plain": [
       "              eigenvector_top\n",
       "Baker Street         0.428267"
      ]
     },
     "execution_count": 104,
     "metadata": {},
     "output_type": "execute_result"
    }
   ],
   "source": [
    "nodes_to_remove = [\"Westminster\"]\n",
    "Largest_subgraph.remove_nodes_from(nodes_to_remove)\n",
    "print(f'Number of connected components:{nx.number_connected_components(Largest_subgraph)}')\n",
    "# To obtain the largest component as a new graph: \n",
    "# Get the list of components:\n",
    "components = nx.connected_components(Largest_subgraph)\n",
    "# Use the max() command to find the largest one:\n",
    "largest_component = max(components, key=len)\n",
    "# Create a \"subgraph\" of the largest component\n",
    "Largest_subgraph = Largest_subgraph.subgraph(largest_component).copy()\n",
    "diameter = nx.diameter(Largest_subgraph)\n",
    "print(diameter)\n",
    "# topological closeness\n",
    "eig_top_london=nx.eigenvector_centrality_numpy(Largest_subgraph)\n",
    "\n",
    "# add the closeness centrality as attribute to the nodes in the graph\n",
    "nx.set_node_attributes(Largest_subgraph,eig_top_london,'eigenvector_top')\n",
    "eig_top_london_df=pd.DataFrame.from_dict(eig_top_london,columns=['eigenvector_top'],orient='index')\n",
    "\n",
    "eig_top_london_df_sorted = eig_top_london_df.sort_values(by='eigenvector_top', ascending=False)\n",
    "eig_top_london_df_sorted[:1]"
   ]
  },
  {
   "cell_type": "code",
   "execution_count": 105,
   "id": "961adad9-0ebc-4675-b6c4-67383c5c5690",
   "metadata": {},
   "outputs": [
    {
     "name": "stdout",
     "output_type": "stream",
     "text": [
      "Number of connected components:2\n",
      "49\n"
     ]
    },
    {
     "data": {
      "text/html": [
       "<div>\n",
       "<style scoped>\n",
       "    .dataframe tbody tr th:only-of-type {\n",
       "        vertical-align: middle;\n",
       "    }\n",
       "\n",
       "    .dataframe tbody tr th {\n",
       "        vertical-align: top;\n",
       "    }\n",
       "\n",
       "    .dataframe thead th {\n",
       "        text-align: right;\n",
       "    }\n",
       "</style>\n",
       "<table border=\"1\" class=\"dataframe\">\n",
       "  <thead>\n",
       "    <tr style=\"text-align: right;\">\n",
       "      <th></th>\n",
       "      <th>eigenvector_top</th>\n",
       "    </tr>\n",
       "  </thead>\n",
       "  <tbody>\n",
       "    <tr>\n",
       "      <th>King's Cross St. Pancras</th>\n",
       "      <td>0.516564</td>\n",
       "    </tr>\n",
       "  </tbody>\n",
       "</table>\n",
       "</div>"
      ],
      "text/plain": [
       "                          eigenvector_top\n",
       "King's Cross St. Pancras         0.516564"
      ]
     },
     "execution_count": 105,
     "metadata": {},
     "output_type": "execute_result"
    }
   ],
   "source": [
    "nodes_to_remove = [\"Baker Street\"]\n",
    "Largest_subgraph.remove_nodes_from(nodes_to_remove)\n",
    "print(f'Number of connected components:{nx.number_connected_components(Largest_subgraph)}')\n",
    "# To obtain the largest component as a new graph: \n",
    "# Get the list of components:\n",
    "components = nx.connected_components(Largest_subgraph)\n",
    "# Use the max() command to find the largest one:\n",
    "largest_component = max(components, key=len)\n",
    "# Create a \"subgraph\" of the largest component\n",
    "Largest_subgraph = Largest_subgraph.subgraph(largest_component).copy()\n",
    "diameter = nx.diameter(Largest_subgraph)\n",
    "print(diameter)\n",
    "# topological closeness\n",
    "eig_top_london=nx.eigenvector_centrality_numpy(Largest_subgraph)\n",
    "\n",
    "# add the closeness centrality as attribute to the nodes in the graph\n",
    "nx.set_node_attributes(Largest_subgraph,eig_top_london,'eigenvector_top')\n",
    "eig_top_london_df=pd.DataFrame.from_dict(eig_top_london,columns=['eigenvector_top'],orient='index')\n",
    "\n",
    "eig_top_london_df_sorted = eig_top_london_df.sort_values(by='eigenvector_top', ascending=False)\n",
    "eig_top_london_df_sorted[:1]"
   ]
  },
  {
   "cell_type": "code",
   "execution_count": 106,
   "id": "a0cbbd38-723f-4072-b638-26de1447dba4",
   "metadata": {},
   "outputs": [
    {
     "name": "stdout",
     "output_type": "stream",
     "text": [
      "Number of connected components:2\n",
      "50\n"
     ]
    },
    {
     "data": {
      "text/html": [
       "<div>\n",
       "<style scoped>\n",
       "    .dataframe tbody tr th:only-of-type {\n",
       "        vertical-align: middle;\n",
       "    }\n",
       "\n",
       "    .dataframe tbody tr th {\n",
       "        vertical-align: top;\n",
       "    }\n",
       "\n",
       "    .dataframe thead th {\n",
       "        text-align: right;\n",
       "    }\n",
       "</style>\n",
       "<table border=\"1\" class=\"dataframe\">\n",
       "  <thead>\n",
       "    <tr style=\"text-align: right;\">\n",
       "      <th></th>\n",
       "      <th>eigenvector_top</th>\n",
       "    </tr>\n",
       "  </thead>\n",
       "  <tbody>\n",
       "    <tr>\n",
       "      <th>Canning Town</th>\n",
       "      <td>0.530731</td>\n",
       "    </tr>\n",
       "  </tbody>\n",
       "</table>\n",
       "</div>"
      ],
      "text/plain": [
       "              eigenvector_top\n",
       "Canning Town         0.530731"
      ]
     },
     "execution_count": 106,
     "metadata": {},
     "output_type": "execute_result"
    }
   ],
   "source": [
    "nodes_to_remove = [\"King's Cross St. Pancras\"]\n",
    "Largest_subgraph.remove_nodes_from(nodes_to_remove)\n",
    "print(f'Number of connected components:{nx.number_connected_components(Largest_subgraph)}')\n",
    "# To obtain the largest component as a new graph: \n",
    "# Get the list of components:\n",
    "components = nx.connected_components(Largest_subgraph)\n",
    "# Use the max() command to find the largest one:\n",
    "largest_component = max(components, key=len)\n",
    "# Create a \"subgraph\" of the largest component\n",
    "Largest_subgraph = Largest_subgraph.subgraph(largest_component).copy()\n",
    "diameter = nx.diameter(Largest_subgraph)\n",
    "print(diameter)\n",
    "# topological closeness\n",
    "eig_top_london=nx.eigenvector_centrality_numpy(Largest_subgraph)\n",
    "\n",
    "# add the closeness centrality as attribute to the nodes in the graph\n",
    "nx.set_node_attributes(Largest_subgraph,eig_top_london,'eigenvector_top')\n",
    "eig_top_london_df=pd.DataFrame.from_dict(eig_top_london,columns=['eigenvector_top'],orient='index')\n",
    "\n",
    "eig_top_london_df_sorted = eig_top_london_df.sort_values(by='eigenvector_top', ascending=False)\n",
    "eig_top_london_df_sorted[:1]"
   ]
  },
  {
   "cell_type": "code",
   "execution_count": 107,
   "id": "4ab3c8d4-1e73-488e-bffe-5901d2e684bd",
   "metadata": {},
   "outputs": [
    {
     "name": "stdout",
     "output_type": "stream",
     "text": [
      "Number of connected components:3\n",
      "51\n"
     ]
    },
    {
     "data": {
      "text/html": [
       "<div>\n",
       "<style scoped>\n",
       "    .dataframe tbody tr th:only-of-type {\n",
       "        vertical-align: middle;\n",
       "    }\n",
       "\n",
       "    .dataframe tbody tr th {\n",
       "        vertical-align: top;\n",
       "    }\n",
       "\n",
       "    .dataframe thead th {\n",
       "        text-align: right;\n",
       "    }\n",
       "</style>\n",
       "<table border=\"1\" class=\"dataframe\">\n",
       "  <thead>\n",
       "    <tr style=\"text-align: right;\">\n",
       "      <th></th>\n",
       "      <th>eigenvector_top</th>\n",
       "    </tr>\n",
       "  </thead>\n",
       "  <tbody>\n",
       "    <tr>\n",
       "      <th>Turnham Green</th>\n",
       "      <td>0.538162</td>\n",
       "    </tr>\n",
       "  </tbody>\n",
       "</table>\n",
       "</div>"
      ],
      "text/plain": [
       "               eigenvector_top\n",
       "Turnham Green         0.538162"
      ]
     },
     "execution_count": 107,
     "metadata": {},
     "output_type": "execute_result"
    }
   ],
   "source": [
    "nodes_to_remove = [\"Canning Town\"]\n",
    "Largest_subgraph.remove_nodes_from(nodes_to_remove)\n",
    "print(f'Number of connected components:{nx.number_connected_components(Largest_subgraph)}')\n",
    "# To obtain the largest component as a new graph: \n",
    "# Get the list of components:\n",
    "components = nx.connected_components(Largest_subgraph)\n",
    "# Use the max() command to find the largest one:\n",
    "largest_component = max(components, key=len)\n",
    "# Create a \"subgraph\" of the largest component\n",
    "Largest_subgraph = Largest_subgraph.subgraph(largest_component).copy()\n",
    "diameter = nx.diameter(Largest_subgraph)\n",
    "print(diameter)\n",
    "# topological closeness\n",
    "eig_top_london=nx.eigenvector_centrality_numpy(Largest_subgraph)\n",
    "\n",
    "# add the closeness centrality as attribute to the nodes in the graph\n",
    "nx.set_node_attributes(Largest_subgraph,eig_top_london,'eigenvector_top')\n",
    "eig_top_london_df=pd.DataFrame.from_dict(eig_top_london,columns=['eigenvector_top'],orient='index')\n",
    "\n",
    "eig_top_london_df_sorted = eig_top_london_df.sort_values(by='eigenvector_top', ascending=False)\n",
    "eig_top_london_df_sorted[:1]"
   ]
  },
  {
   "cell_type": "code",
   "execution_count": 108,
   "id": "86e9118b-9e16-4e33-b252-a9cbc84d39b3",
   "metadata": {},
   "outputs": [
    {
     "name": "stdout",
     "output_type": "stream",
     "text": [
      "Number of connected components:1\n",
      "53\n"
     ]
    },
    {
     "data": {
      "text/html": [
       "<div>\n",
       "<style scoped>\n",
       "    .dataframe tbody tr th:only-of-type {\n",
       "        vertical-align: middle;\n",
       "    }\n",
       "\n",
       "    .dataframe tbody tr th {\n",
       "        vertical-align: top;\n",
       "    }\n",
       "\n",
       "    .dataframe thead th {\n",
       "        text-align: right;\n",
       "    }\n",
       "</style>\n",
       "<table border=\"1\" class=\"dataframe\">\n",
       "  <thead>\n",
       "    <tr style=\"text-align: right;\">\n",
       "      <th></th>\n",
       "      <th>eigenvector_top</th>\n",
       "    </tr>\n",
       "  </thead>\n",
       "  <tbody>\n",
       "    <tr>\n",
       "      <th>Leicester Square</th>\n",
       "      <td>0.420711</td>\n",
       "    </tr>\n",
       "  </tbody>\n",
       "</table>\n",
       "</div>"
      ],
      "text/plain": [
       "                  eigenvector_top\n",
       "Leicester Square         0.420711"
      ]
     },
     "execution_count": 108,
     "metadata": {},
     "output_type": "execute_result"
    }
   ],
   "source": [
    "nodes_to_remove = [\"Turnham Green\"]\n",
    "Largest_subgraph.remove_nodes_from(nodes_to_remove)\n",
    "print(f'Number of connected components:{nx.number_connected_components(Largest_subgraph)}')\n",
    "# To obtain the largest component as a new graph: \n",
    "# Get the list of components:\n",
    "components = nx.connected_components(Largest_subgraph)\n",
    "# Use the max() command to find the largest one:\n",
    "largest_component = max(components, key=len)\n",
    "# Create a \"subgraph\" of the largest component\n",
    "Largest_subgraph = Largest_subgraph.subgraph(largest_component).copy()\n",
    "diameter = nx.diameter(Largest_subgraph)\n",
    "print(diameter)\n",
    "# topological closeness\n",
    "eig_top_london=nx.eigenvector_centrality_numpy(Largest_subgraph)\n",
    "\n",
    "# add the closeness centrality as attribute to the nodes in the graph\n",
    "nx.set_node_attributes(Largest_subgraph,eig_top_london,'eigenvector_top')\n",
    "eig_top_london_df=pd.DataFrame.from_dict(eig_top_london,columns=['eigenvector_top'],orient='index')\n",
    "\n",
    "eig_top_london_df_sorted = eig_top_london_df.sort_values(by='eigenvector_top', ascending=False)\n",
    "eig_top_london_df_sorted[:1]"
   ]
  },
  {
   "cell_type": "code",
   "execution_count": 109,
   "id": "b5e67581-c9cf-439a-9135-62c04f8161e4",
   "metadata": {},
   "outputs": [
    {
     "name": "stdout",
     "output_type": "stream",
     "text": [
      "Number of connected components:1\n",
      "53\n"
     ]
    },
    {
     "data": {
      "text/html": [
       "<div>\n",
       "<style scoped>\n",
       "    .dataframe tbody tr th:only-of-type {\n",
       "        vertical-align: middle;\n",
       "    }\n",
       "\n",
       "    .dataframe tbody tr th {\n",
       "        vertical-align: top;\n",
       "    }\n",
       "\n",
       "    .dataframe thead th {\n",
       "        text-align: right;\n",
       "    }\n",
       "</style>\n",
       "<table border=\"1\" class=\"dataframe\">\n",
       "  <thead>\n",
       "    <tr style=\"text-align: right;\">\n",
       "      <th></th>\n",
       "      <th>eigenvector_top</th>\n",
       "    </tr>\n",
       "  </thead>\n",
       "  <tbody>\n",
       "    <tr>\n",
       "      <th>West India Quay</th>\n",
       "      <td>0.345248</td>\n",
       "    </tr>\n",
       "  </tbody>\n",
       "</table>\n",
       "</div>"
      ],
      "text/plain": [
       "                 eigenvector_top\n",
       "West India Quay         0.345248"
      ]
     },
     "execution_count": 109,
     "metadata": {},
     "output_type": "execute_result"
    }
   ],
   "source": [
    "nodes_to_remove = [\"Leicester Square\"]\n",
    "Largest_subgraph.remove_nodes_from(nodes_to_remove)\n",
    "print(f'Number of connected components:{nx.number_connected_components(Largest_subgraph)}')\n",
    "# To obtain the largest component as a new graph: \n",
    "# Get the list of components:\n",
    "components = nx.connected_components(Largest_subgraph)\n",
    "# Use the max() command to find the largest one:\n",
    "largest_component = max(components, key=len)\n",
    "# Create a \"subgraph\" of the largest component\n",
    "Largest_subgraph = Largest_subgraph.subgraph(largest_component).copy()\n",
    "diameter = nx.diameter(Largest_subgraph)\n",
    "print(diameter)\n",
    "# topological closeness\n",
    "eig_top_london=nx.eigenvector_centrality_numpy(Largest_subgraph)\n",
    "\n",
    "# add the closeness centrality as attribute to the nodes in the graph\n",
    "nx.set_node_attributes(Largest_subgraph,eig_top_london,'eigenvector_top')\n",
    "eig_top_london_df=pd.DataFrame.from_dict(eig_top_london,columns=['eigenvector_top'],orient='index')\n",
    "\n",
    "eig_top_london_df_sorted = eig_top_london_df.sort_values(by='eigenvector_top', ascending=False)\n",
    "eig_top_london_df_sorted[:1]"
   ]
  },
  {
   "cell_type": "markdown",
   "id": "5847f45f-7de3-42a3-8080-3c91a5da16af",
   "metadata": {},
   "source": [
    "# Flows: weighted network"
   ]
  },
  {
   "cell_type": "code",
   "execution_count": 110,
   "id": "9f2b2f8e-8c5c-47c8-9c02-27e60a7e5201",
   "metadata": {},
   "outputs": [],
   "source": [
    "london_network = nx.read_graphml('london.graphml')"
   ]
  },
  {
   "cell_type": "code",
   "execution_count": 111,
   "id": "016606dd-ebd8-4ec0-a8c2-745ab07aa175",
   "metadata": {},
   "outputs": [],
   "source": [
    "# Adjust zero weights\n",
    "small_value = 0.001  # Choose a small non-zero value\n",
    "for u, v, w in london_network.edges(data='flows', default=0):\n",
    "    if w == 0:\n",
    "        london_network[u][v]['flows'] = small_value"
   ]
  },
  {
   "cell_type": "markdown",
   "id": "e840e902-71f2-423c-a684-4a73e333ff12",
   "metadata": {},
   "source": [
    "## eigenvector centrality"
   ]
  },
  {
   "cell_type": "code",
   "execution_count": 112,
   "id": "113931dc-0970-4ab3-8e20-eed98d10dfee",
   "metadata": {},
   "outputs": [
    {
     "data": {
      "text/html": [
       "<div>\n",
       "<style scoped>\n",
       "    .dataframe tbody tr th:only-of-type {\n",
       "        vertical-align: middle;\n",
       "    }\n",
       "\n",
       "    .dataframe tbody tr th {\n",
       "        vertical-align: top;\n",
       "    }\n",
       "\n",
       "    .dataframe thead th {\n",
       "        text-align: right;\n",
       "    }\n",
       "</style>\n",
       "<table border=\"1\" class=\"dataframe\">\n",
       "  <thead>\n",
       "    <tr style=\"text-align: right;\">\n",
       "      <th></th>\n",
       "      <th>eigenvector</th>\n",
       "    </tr>\n",
       "  </thead>\n",
       "  <tbody>\n",
       "    <tr>\n",
       "      <th>Waterloo</th>\n",
       "      <td>0.499858</td>\n",
       "    </tr>\n",
       "    <tr>\n",
       "      <th>Westminster</th>\n",
       "      <td>0.489673</td>\n",
       "    </tr>\n",
       "    <tr>\n",
       "      <th>Green Park</th>\n",
       "      <td>0.428106</td>\n",
       "    </tr>\n",
       "    <tr>\n",
       "      <th>Bank and Monument</th>\n",
       "      <td>0.402813</td>\n",
       "    </tr>\n",
       "    <tr>\n",
       "      <th>Liverpool Street</th>\n",
       "      <td>0.196486</td>\n",
       "    </tr>\n",
       "    <tr>\n",
       "      <th>Bond Street</th>\n",
       "      <td>0.165230</td>\n",
       "    </tr>\n",
       "    <tr>\n",
       "      <th>Oxford Circus</th>\n",
       "      <td>0.162456</td>\n",
       "    </tr>\n",
       "    <tr>\n",
       "      <th>Victoria</th>\n",
       "      <td>0.130094</td>\n",
       "    </tr>\n",
       "    <tr>\n",
       "      <th>Moorgate</th>\n",
       "      <td>0.106583</td>\n",
       "    </tr>\n",
       "    <tr>\n",
       "      <th>Hyde Park Corner</th>\n",
       "      <td>0.088476</td>\n",
       "    </tr>\n",
       "  </tbody>\n",
       "</table>\n",
       "</div>"
      ],
      "text/plain": [
       "                   eigenvector\n",
       "Waterloo              0.499858\n",
       "Westminster           0.489673\n",
       "Green Park            0.428106\n",
       "Bank and Monument     0.402813\n",
       "Liverpool Street      0.196486\n",
       "Bond Street           0.165230\n",
       "Oxford Circus         0.162456\n",
       "Victoria              0.130094\n",
       "Moorgate              0.106583\n",
       "Hyde Park Corner      0.088476"
      ]
     },
     "execution_count": 112,
     "metadata": {},
     "output_type": "execute_result"
    }
   ],
   "source": [
    "eig_london=nx.eigenvector_centrality_numpy(london_network, weight='flows')\n",
    "eig_london_df=pd.DataFrame.from_dict(eig_london,columns=['eigenvector'],orient='index')\n",
    "eig_london_df_sorted = eig_london_df.sort_values(by='eigenvector', ascending=False)\n",
    "eig_london_df_sorted[0:10]"
   ]
  },
  {
   "cell_type": "code",
   "execution_count": 113,
   "id": "f46bbcd0-23a7-4c54-85ed-cb210a536955",
   "metadata": {},
   "outputs": [
    {
     "name": "stdout",
     "output_type": "stream",
     "text": [
      "```latex\n",
      "\\begin{tabular}{lr}\n",
      "\\hline\n",
      " Waterloo          & 0.499858  \\\\\n",
      " Westminster       & 0.489673  \\\\\n",
      " Green Park        & 0.428106  \\\\\n",
      " Bank and Monument & 0.402813  \\\\\n",
      " Liverpool Street  & 0.196486  \\\\\n",
      " Bond Street       & 0.16523   \\\\\n",
      " Oxford Circus     & 0.162456  \\\\\n",
      " Victoria          & 0.130094  \\\\\n",
      " Moorgate          & 0.106583  \\\\\n",
      " Hyde Park Corner  & 0.0884764 \\\\\n",
      "\\hline\n",
      "\\end{tabular}\n",
      "```\n"
     ]
    }
   ],
   "source": [
    "latex_table = tabulate(eig_london_df_sorted[0:10], tablefmt='latex')\n",
    "latex_code = f\"```latex\\n{latex_table}\\n```\"\n",
    "print(latex_code)"
   ]
  },
  {
   "cell_type": "markdown",
   "id": "5fc9e1c9-9bc7-471d-9e6f-8a209a144ef0",
   "metadata": {},
   "source": [
    "## betweenness centrality (no)"
   ]
  },
  {
   "cell_type": "code",
   "execution_count": 114,
   "id": "6640ca4b-ac90-4a2c-b940-66ac62a09cef",
   "metadata": {},
   "outputs": [
    {
     "data": {
      "text/html": [
       "<div>\n",
       "<style scoped>\n",
       "    .dataframe tbody tr th:only-of-type {\n",
       "        vertical-align: middle;\n",
       "    }\n",
       "\n",
       "    .dataframe tbody tr th {\n",
       "        vertical-align: top;\n",
       "    }\n",
       "\n",
       "    .dataframe thead th {\n",
       "        text-align: right;\n",
       "    }\n",
       "</style>\n",
       "<table border=\"1\" class=\"dataframe\">\n",
       "  <thead>\n",
       "    <tr style=\"text-align: right;\">\n",
       "      <th></th>\n",
       "      <th>betweenness</th>\n",
       "    </tr>\n",
       "  </thead>\n",
       "  <tbody>\n",
       "    <tr>\n",
       "      <th>West Hampstead</th>\n",
       "      <td>0.376942</td>\n",
       "    </tr>\n",
       "    <tr>\n",
       "      <th>Gospel Oak</th>\n",
       "      <td>0.294461</td>\n",
       "    </tr>\n",
       "    <tr>\n",
       "      <th>Finchley Road &amp; Frognal</th>\n",
       "      <td>0.285251</td>\n",
       "    </tr>\n",
       "    <tr>\n",
       "      <th>Hampstead Heath</th>\n",
       "      <td>0.284311</td>\n",
       "    </tr>\n",
       "    <tr>\n",
       "      <th>Stratford</th>\n",
       "      <td>0.258534</td>\n",
       "    </tr>\n",
       "    <tr>\n",
       "      <th>Willesden Junction</th>\n",
       "      <td>0.245902</td>\n",
       "    </tr>\n",
       "    <tr>\n",
       "      <th>Brondesbury</th>\n",
       "      <td>0.220038</td>\n",
       "    </tr>\n",
       "    <tr>\n",
       "      <th>Brondesbury Park</th>\n",
       "      <td>0.218296</td>\n",
       "    </tr>\n",
       "    <tr>\n",
       "      <th>Kensal Rise</th>\n",
       "      <td>0.216880</td>\n",
       "    </tr>\n",
       "    <tr>\n",
       "      <th>Embankment</th>\n",
       "      <td>0.198045</td>\n",
       "    </tr>\n",
       "  </tbody>\n",
       "</table>\n",
       "</div>"
      ],
      "text/plain": [
       "                         betweenness\n",
       "West Hampstead              0.376942\n",
       "Gospel Oak                  0.294461\n",
       "Finchley Road & Frognal     0.285251\n",
       "Hampstead Heath             0.284311\n",
       "Stratford                   0.258534\n",
       "Willesden Junction          0.245902\n",
       "Brondesbury                 0.220038\n",
       "Brondesbury Park            0.218296\n",
       "Kensal Rise                 0.216880\n",
       "Embankment                  0.198045"
      ]
     },
     "execution_count": 114,
     "metadata": {},
     "output_type": "execute_result"
    }
   ],
   "source": [
    "bet_london=nx.betweenness_centrality(london_network, weight='flows')\n",
    "bet_london_df=pd.DataFrame.from_dict(bet_london,columns=['betweenness'],orient='index')\n",
    "bet_london_df_sorted = bet_london_df.sort_values(by='betweenness', ascending=False)\n",
    "bet_london_df_sorted[0:10]"
   ]
  },
  {
   "cell_type": "markdown",
   "id": "bba9a12b-c4d0-4474-9c96-8765425040b6",
   "metadata": {},
   "source": [
    "## impact measures"
   ]
  },
  {
   "cell_type": "markdown",
   "id": "ac892c10-b619-41e2-bc1a-5533cfa31ad6",
   "metadata": {},
   "source": [
    "### component"
   ]
  },
  {
   "cell_type": "code",
   "execution_count": 115,
   "id": "97db9a73-6439-49b1-9e62-a9ba4c7149d5",
   "metadata": {},
   "outputs": [
    {
     "name": "stdout",
     "output_type": "stream",
     "text": [
      "Number of connected components:1\n"
     ]
    }
   ],
   "source": [
    "print(f'Number of connected components:{nx.number_connected_components(london_network)}')"
   ]
  },
  {
   "cell_type": "markdown",
   "id": "fd924cd5-74fe-42a8-91e4-03d96c4e6018",
   "metadata": {},
   "source": [
    "### avg clustering coefficient"
   ]
  },
  {
   "cell_type": "code",
   "execution_count": 116,
   "id": "0087bfcd-4c4a-41c4-90e3-2bdadf5cd90a",
   "metadata": {},
   "outputs": [
    {
     "name": "stdout",
     "output_type": "stream",
     "text": [
      "avg clustering coefficient: 0.0014434755729323338\n"
     ]
    }
   ],
   "source": [
    "c = nx.average_clustering(london_network,weight='flows')\n",
    "print(f'avg clustering coefficient: {c}')"
   ]
  },
  {
   "cell_type": "markdown",
   "id": "3f1d2194-01f4-485d-af90-eabbfa7435ed",
   "metadata": {},
   "source": [
    "## sequential removal"
   ]
  },
  {
   "cell_type": "markdown",
   "id": "08af09db-3332-4d93-9f80-488dcdd8469c",
   "metadata": {},
   "source": [
    "### the best performing centrality measure found in I.1-betweenness centrality"
   ]
  },
  {
   "cell_type": "code",
   "execution_count": 117,
   "id": "c44728cb-6a2e-40ac-bddc-c10343c018ae",
   "metadata": {},
   "outputs": [],
   "source": [
    "london_network5=london_network.copy()"
   ]
  },
  {
   "cell_type": "code",
   "execution_count": 118,
   "id": "f09dd1e4-6cb0-4d17-a247-6b8539dbe0d1",
   "metadata": {},
   "outputs": [
    {
     "name": "stdout",
     "output_type": "stream",
     "text": [
      "Number of connected components:3\n",
      "avg clustering coefficient: 0.0015599637332136857\n"
     ]
    },
    {
     "data": {
      "text/html": [
       "<div>\n",
       "<style scoped>\n",
       "    .dataframe tbody tr th:only-of-type {\n",
       "        vertical-align: middle;\n",
       "    }\n",
       "\n",
       "    .dataframe tbody tr th {\n",
       "        vertical-align: top;\n",
       "    }\n",
       "\n",
       "    .dataframe thead th {\n",
       "        text-align: right;\n",
       "    }\n",
       "</style>\n",
       "<table border=\"1\" class=\"dataframe\">\n",
       "  <thead>\n",
       "    <tr style=\"text-align: right;\">\n",
       "      <th></th>\n",
       "      <th>betweenness_top</th>\n",
       "    </tr>\n",
       "  </thead>\n",
       "  <tbody>\n",
       "    <tr>\n",
       "      <th>King's Cross St. Pancras</th>\n",
       "      <td>0.275538</td>\n",
       "    </tr>\n",
       "  </tbody>\n",
       "</table>\n",
       "</div>"
      ],
      "text/plain": [
       "                          betweenness_top\n",
       "King's Cross St. Pancras         0.275538"
      ]
     },
     "execution_count": 118,
     "metadata": {},
     "output_type": "execute_result"
    }
   ],
   "source": [
    "nodes_to_remove = ['Stratford']\n",
    "london_network5.remove_nodes_from(nodes_to_remove)\n",
    "print(f'Number of connected components:{nx.number_connected_components(london_network5)}')\n",
    "# To obtain the largest component as a new graph: \n",
    "# Get the list of components:\n",
    "components = nx.connected_components(london_network5)\n",
    "# Use the max() command to find the largest one:\n",
    "largest_component = max(components, key=len)\n",
    "# Create a \"subgraph\" of the largest component\n",
    "Largest_subgraph = london_network5.subgraph(largest_component).copy()\n",
    "c = nx.average_clustering(Largest_subgraph,weight='flows')\n",
    "print(f'avg clustering coefficient: {c}')\n",
    "# topological closeness\n",
    "bet_top_london=nx.betweenness_centrality(Largest_subgraph)\n",
    "\n",
    "# add the closeness centrality as attribute to the nodes in the graph\n",
    "nx.set_node_attributes(Largest_subgraph,bet_top_london,'betweenness_top')\n",
    "bet_top_london_df=pd.DataFrame.from_dict(bet_top_london,columns=['betweenness_top'],orient='index')\n",
    "\n",
    "bet_top_london_df_sorted = bet_top_london_df.sort_values(by='betweenness_top', ascending=False)\n",
    "bet_top_london_df_sorted[:1]"
   ]
  },
  {
   "cell_type": "code",
   "execution_count": 119,
   "id": "0911ada8-7496-4582-9a30-ff895895ffa1",
   "metadata": {},
   "outputs": [
    {
     "name": "stdout",
     "output_type": "stream",
     "text": [
      "Number of connected components:1\n",
      "avg clustering coefficient: 0.00156836934872937\n"
     ]
    },
    {
     "data": {
      "text/html": [
       "<div>\n",
       "<style scoped>\n",
       "    .dataframe tbody tr th:only-of-type {\n",
       "        vertical-align: middle;\n",
       "    }\n",
       "\n",
       "    .dataframe tbody tr th {\n",
       "        vertical-align: top;\n",
       "    }\n",
       "\n",
       "    .dataframe thead th {\n",
       "        text-align: right;\n",
       "    }\n",
       "</style>\n",
       "<table border=\"1\" class=\"dataframe\">\n",
       "  <thead>\n",
       "    <tr style=\"text-align: right;\">\n",
       "      <th></th>\n",
       "      <th>betweenness_top</th>\n",
       "    </tr>\n",
       "  </thead>\n",
       "  <tbody>\n",
       "    <tr>\n",
       "      <th>Waterloo</th>\n",
       "      <td>0.283326</td>\n",
       "    </tr>\n",
       "  </tbody>\n",
       "</table>\n",
       "</div>"
      ],
      "text/plain": [
       "          betweenness_top\n",
       "Waterloo         0.283326"
      ]
     },
     "execution_count": 119,
     "metadata": {},
     "output_type": "execute_result"
    }
   ],
   "source": [
    "nodes_to_remove = [\"King's Cross St. Pancras\"]\n",
    "Largest_subgraph.remove_nodes_from(nodes_to_remove)\n",
    "print(f'Number of connected components:{nx.number_connected_components(Largest_subgraph)}')\n",
    "# To obtain the largest component as a new graph: \n",
    "# Get the list of components:\n",
    "components = nx.connected_components(Largest_subgraph)\n",
    "# Use the max() command to find the largest one:\n",
    "largest_component = max(components, key=len)\n",
    "# Create a \"subgraph\" of the largest component\n",
    "Largest_subgraph = Largest_subgraph.subgraph(largest_component).copy()\n",
    "c = nx.average_clustering(Largest_subgraph,weight='flows')\n",
    "print(f'avg clustering coefficient: {c}')\n",
    "# topological closeness\n",
    "bet_top_london=nx.betweenness_centrality(Largest_subgraph)\n",
    "\n",
    "# add the closeness centrality as attribute to the nodes in the graph\n",
    "nx.set_node_attributes(Largest_subgraph,bet_top_london,'betweenness_top')\n",
    "bet_top_london_df=pd.DataFrame.from_dict(bet_top_london,columns=['betweenness_top'],orient='index')\n",
    "\n",
    "bet_top_london_df_sorted = bet_top_london_df.sort_values(by='betweenness_top', ascending=False)\n",
    "bet_top_london_df_sorted[:1]"
   ]
  },
  {
   "cell_type": "code",
   "execution_count": 120,
   "id": "71814a3c-3337-49d5-9401-6fb91e52f2ee",
   "metadata": {},
   "outputs": [
    {
     "name": "stdout",
     "output_type": "stream",
     "text": [
      "Number of connected components:1\n",
      "avg clustering coefficient: 0.0015007225145077794\n"
     ]
    },
    {
     "data": {
      "text/html": [
       "<div>\n",
       "<style scoped>\n",
       "    .dataframe tbody tr th:only-of-type {\n",
       "        vertical-align: middle;\n",
       "    }\n",
       "\n",
       "    .dataframe tbody tr th {\n",
       "        vertical-align: top;\n",
       "    }\n",
       "\n",
       "    .dataframe thead th {\n",
       "        text-align: right;\n",
       "    }\n",
       "</style>\n",
       "<table border=\"1\" class=\"dataframe\">\n",
       "  <thead>\n",
       "    <tr style=\"text-align: right;\">\n",
       "      <th></th>\n",
       "      <th>betweenness_top</th>\n",
       "    </tr>\n",
       "  </thead>\n",
       "  <tbody>\n",
       "    <tr>\n",
       "      <th>Bank and Monument</th>\n",
       "      <td>0.239331</td>\n",
       "    </tr>\n",
       "  </tbody>\n",
       "</table>\n",
       "</div>"
      ],
      "text/plain": [
       "                   betweenness_top\n",
       "Bank and Monument         0.239331"
      ]
     },
     "execution_count": 120,
     "metadata": {},
     "output_type": "execute_result"
    }
   ],
   "source": [
    "nodes_to_remove = [\"Waterloo\"]\n",
    "Largest_subgraph.remove_nodes_from(nodes_to_remove)\n",
    "print(f'Number of connected components:{nx.number_connected_components(Largest_subgraph)}')\n",
    "# To obtain the largest component as a new graph: \n",
    "# Get the list of components:\n",
    "components = nx.connected_components(Largest_subgraph)\n",
    "# Use the max() command to find the largest one:\n",
    "largest_component = max(components, key=len)\n",
    "# Create a \"subgraph\" of the largest component\n",
    "Largest_subgraph = Largest_subgraph.subgraph(largest_component).copy()\n",
    "c = nx.average_clustering(Largest_subgraph,weight='flows')\n",
    "print(f'avg clustering coefficient: {c}')\n",
    "# topological closeness\n",
    "bet_top_london=nx.betweenness_centrality(Largest_subgraph)\n",
    "\n",
    "# add the closeness centrality as attribute to the nodes in the graph\n",
    "nx.set_node_attributes(Largest_subgraph,bet_top_london,'betweenness_top')\n",
    "bet_top_london_df=pd.DataFrame.from_dict(bet_top_london,columns=['betweenness_top'],orient='index')\n",
    "\n",
    "bet_top_london_df_sorted = bet_top_london_df.sort_values(by='betweenness_top', ascending=False)\n",
    "bet_top_london_df_sorted[:1]"
   ]
  },
  {
   "cell_type": "markdown",
   "id": "2e835a13-f938-46f8-8cf4-388869426a0d",
   "metadata": {},
   "source": [
    "Bridge Nodes: In a network, bridge nodes are those that have connections to nodes in multiple clusters or communities. These bridge nodes contribute to lower clustering coefficients because they connect nodes that might not be directly connected to each other within their respective clusters.\n",
    "\n",
    "Removal of Bridge Nodes: When bridge nodes are removed from the network, the connections between different clusters are disrupted, and the clusters become more isolated from each other. As a result, the clustering coefficient within each cluster tends to increase because there are fewer connections between nodes in different clusters.\n",
    "\n",
    "Increased Local Connectivity: With the removal of bridge nodes, the remaining nodes within each cluster have a higher likelihood of being connected to their neighboring nodes. This increased local connectivity within clusters leads to a higher clustering coefficient for those clusters.\n",
    "\n",
    "It's important to note that the effect of node removal on the clustering coefficient can depend on the specific network structure, the nodes being removed, and the algorithm used to calculate the clustering coefficient. In some cases, the removal of certain nodes may have a minimal impact or even decrease the clustering coefficient if the nodes being removed have lower local connectivity or if the network has a more random structure.\n",
    "\n",
    "Overall, the increase in clustering coefficient after node removal can be attributed to the disruption of connections between clusters, leading to more distinct and isolated clusters with higher local connectivity."
   ]
  },
  {
   "cell_type": "markdown",
   "id": "f121fc32-f82d-477d-ae14-f801c85eafee",
   "metadata": {},
   "source": [
    "### weighted eigenvector centrality"
   ]
  },
  {
   "cell_type": "code",
   "execution_count": 121,
   "id": "fa6586a7-4847-41e8-a1fa-f1766b12bc2b",
   "metadata": {},
   "outputs": [],
   "source": [
    "london_network6=london_network.copy()"
   ]
  },
  {
   "cell_type": "code",
   "execution_count": 122,
   "id": "20cccf6e-bbc0-486d-97cd-2e07c9facc1f",
   "metadata": {},
   "outputs": [
    {
     "name": "stdout",
     "output_type": "stream",
     "text": [
      "Number of connected components:1\n",
      "avg clustering coefficient: 0.0013771109279195012\n"
     ]
    },
    {
     "data": {
      "text/html": [
       "<div>\n",
       "<style scoped>\n",
       "    .dataframe tbody tr th:only-of-type {\n",
       "        vertical-align: middle;\n",
       "    }\n",
       "\n",
       "    .dataframe tbody tr th {\n",
       "        vertical-align: top;\n",
       "    }\n",
       "\n",
       "    .dataframe thead th {\n",
       "        text-align: right;\n",
       "    }\n",
       "</style>\n",
       "<table border=\"1\" class=\"dataframe\">\n",
       "  <thead>\n",
       "    <tr style=\"text-align: right;\">\n",
       "      <th></th>\n",
       "      <th>eigenvector</th>\n",
       "    </tr>\n",
       "  </thead>\n",
       "  <tbody>\n",
       "    <tr>\n",
       "      <th>Green Park</th>\n",
       "      <td>0.670305</td>\n",
       "    </tr>\n",
       "  </tbody>\n",
       "</table>\n",
       "</div>"
      ],
      "text/plain": [
       "            eigenvector\n",
       "Green Park     0.670305"
      ]
     },
     "execution_count": 122,
     "metadata": {},
     "output_type": "execute_result"
    }
   ],
   "source": [
    "nodes_to_remove = ['Waterloo']\n",
    "london_network6.remove_nodes_from(nodes_to_remove)\n",
    "print(f'Number of connected components:{nx.number_connected_components(london_network6)}')\n",
    "# To obtain the largest component as a new graph: \n",
    "# Get the list of components:\n",
    "components = nx.connected_components(london_network6)\n",
    "# Use the max() command to find the largest one:\n",
    "largest_component = max(components, key=len)\n",
    "# Create a \"subgraph\" of the largest component\n",
    "Largest_subgraph = london_network6.subgraph(largest_component).copy()\n",
    "c = nx.average_clustering(Largest_subgraph,weight='flows')\n",
    "print(f'avg clustering coefficient: {c}')\n",
    "# topological closeness\n",
    "eig_london=nx.eigenvector_centrality_numpy(Largest_subgraph, weight='flows')\n",
    "nx.set_node_attributes(Largest_subgraph,eig_london,'eigenvector')\n",
    "eig_london_df=pd.DataFrame.from_dict(eig_london,columns=['eigenvector'],orient='index')\n",
    "eig_london_df_sorted = eig_london_df.sort_values(by='eigenvector', ascending=False)\n",
    "eig_london_df_sorted[:1]"
   ]
  },
  {
   "cell_type": "code",
   "execution_count": 123,
   "id": "bf92288a-21c2-4b71-aeaf-12a57e2d378c",
   "metadata": {},
   "outputs": [
    {
     "name": "stdout",
     "output_type": "stream",
     "text": [
      "Number of connected components:1\n",
      "avg clustering coefficient: 0.0014732233454209276\n"
     ]
    },
    {
     "data": {
      "text/html": [
       "<div>\n",
       "<style scoped>\n",
       "    .dataframe tbody tr th:only-of-type {\n",
       "        vertical-align: middle;\n",
       "    }\n",
       "\n",
       "    .dataframe tbody tr th {\n",
       "        vertical-align: top;\n",
       "    }\n",
       "\n",
       "    .dataframe thead th {\n",
       "        text-align: right;\n",
       "    }\n",
       "</style>\n",
       "<table border=\"1\" class=\"dataframe\">\n",
       "  <thead>\n",
       "    <tr style=\"text-align: right;\">\n",
       "      <th></th>\n",
       "      <th>eigenvector</th>\n",
       "    </tr>\n",
       "  </thead>\n",
       "  <tbody>\n",
       "    <tr>\n",
       "      <th>Liverpool Street</th>\n",
       "      <td>0.585584</td>\n",
       "    </tr>\n",
       "  </tbody>\n",
       "</table>\n",
       "</div>"
      ],
      "text/plain": [
       "                  eigenvector\n",
       "Liverpool Street     0.585584"
      ]
     },
     "execution_count": 123,
     "metadata": {},
     "output_type": "execute_result"
    }
   ],
   "source": [
    "nodes_to_remove = ['Green Park']\n",
    "london_network6.remove_nodes_from(nodes_to_remove)\n",
    "print(f'Number of connected components:{nx.number_connected_components(london_network6)}')\n",
    "# To obtain the largest component as a new graph: \n",
    "# Get the list of components:\n",
    "components = nx.connected_components(london_network6)\n",
    "# Use the max() command to find the largest one:\n",
    "largest_component = max(components, key=len)\n",
    "# Create a \"subgraph\" of the largest component\n",
    "Largest_subgraph = london_network6.subgraph(largest_component).copy()\n",
    "c = nx.average_clustering(Largest_subgraph,weight='flows')\n",
    "print(f'avg clustering coefficient: {c}')\n",
    "# topological closeness\n",
    "eig_london=nx.eigenvector_centrality_numpy(Largest_subgraph, weight='flows')\n",
    "nx.set_node_attributes(Largest_subgraph,eig_london,'eigenvector')\n",
    "eig_london_df=pd.DataFrame.from_dict(eig_london,columns=['eigenvector'],orient='index')\n",
    "eig_london_df_sorted = eig_london_df.sort_values(by='eigenvector', ascending=False)\n",
    "eig_london_df_sorted[:1]"
   ]
  },
  {
   "cell_type": "code",
   "execution_count": 124,
   "id": "9696b8ce-be0c-4072-a015-18ed8b8d0843",
   "metadata": {},
   "outputs": [
    {
     "name": "stdout",
     "output_type": "stream",
     "text": [
      "Number of connected components:1\n",
      "avg clustering coefficient: 0.0012691010787939916\n"
     ]
    },
    {
     "data": {
      "text/html": [
       "<div>\n",
       "<style scoped>\n",
       "    .dataframe tbody tr th:only-of-type {\n",
       "        vertical-align: middle;\n",
       "    }\n",
       "\n",
       "    .dataframe tbody tr th {\n",
       "        vertical-align: top;\n",
       "    }\n",
       "\n",
       "    .dataframe thead th {\n",
       "        text-align: right;\n",
       "    }\n",
       "</style>\n",
       "<table border=\"1\" class=\"dataframe\">\n",
       "  <thead>\n",
       "    <tr style=\"text-align: right;\">\n",
       "      <th></th>\n",
       "      <th>eigenvector</th>\n",
       "    </tr>\n",
       "  </thead>\n",
       "  <tbody>\n",
       "    <tr>\n",
       "      <th>King's Cross St. Pancras</th>\n",
       "      <td>0.586166</td>\n",
       "    </tr>\n",
       "  </tbody>\n",
       "</table>\n",
       "</div>"
      ],
      "text/plain": [
       "                          eigenvector\n",
       "King's Cross St. Pancras     0.586166"
      ]
     },
     "execution_count": 124,
     "metadata": {},
     "output_type": "execute_result"
    }
   ],
   "source": [
    "nodes_to_remove = ['Liverpool Street']\n",
    "london_network6.remove_nodes_from(nodes_to_remove)\n",
    "print(f'Number of connected components:{nx.number_connected_components(london_network6)}')\n",
    "# To obtain the largest component as a new graph: \n",
    "# Get the list of components:\n",
    "components = nx.connected_components(london_network6)\n",
    "# Use the max() command to find the largest one:\n",
    "largest_component = max(components, key=len)\n",
    "# Create a \"subgraph\" of the largest component\n",
    "Largest_subgraph = london_network6.subgraph(largest_component).copy()\n",
    "c = nx.average_clustering(Largest_subgraph,weight='flows')\n",
    "print(f'avg clustering coefficient: {c}')\n",
    "# topological closeness\n",
    "eig_london=nx.eigenvector_centrality_numpy(Largest_subgraph, weight='flows')\n",
    "nx.set_node_attributes(Largest_subgraph,eig_london,'eigenvector')\n",
    "eig_london_df=pd.DataFrame.from_dict(eig_london,columns=['eigenvector'],orient='index')\n",
    "eig_london_df_sorted = eig_london_df.sort_values(by='eigenvector', ascending=False)\n",
    "eig_london_df_sorted[:1]"
   ]
  },
  {
   "cell_type": "code",
   "execution_count": null,
   "id": "c38c8677-e0fe-459c-9888-c50d621843df",
   "metadata": {},
   "outputs": [],
   "source": []
  }
 ],
 "metadata": {
  "kernelspec": {
   "display_name": "Python 3 (ipykernel)",
   "language": "python",
   "name": "python3"
  },
  "language_info": {
   "codemirror_mode": {
    "name": "ipython",
    "version": 3
   },
   "file_extension": ".py",
   "mimetype": "text/x-python",
   "name": "python",
   "nbconvert_exporter": "python",
   "pygments_lexer": "ipython3",
   "version": "3.10.5"
  }
 },
 "nbformat": 4,
 "nbformat_minor": 5
}
